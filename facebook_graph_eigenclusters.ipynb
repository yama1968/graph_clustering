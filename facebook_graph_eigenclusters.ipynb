{
 "cells": [
  {
   "cell_type": "code",
   "execution_count": 1,
   "metadata": {
    "collapsed": false
   },
   "outputs": [],
   "source": [
    "import numpy as np\n",
    "import pandas as pd\n",
    "import scipy\n",
    "from scipy.sparse import csr_matrix, diags, eye\n",
    "from sklearn.cluster import SpectralClustering\n",
    "from matplotlib import pyplot as plt\n",
    "import pylab\n",
    "\n",
    "plt.style.use('ggplot')\n",
    "pylab.rcParams['figure.figsize'] = (18.0, 12.0)\n",
    "\n",
    "%matplotlib inline"
   ]
  },
  {
   "cell_type": "code",
   "execution_count": 2,
   "metadata": {
    "collapsed": false
   },
   "outputs": [
    {
     "name": "stdout",
     "output_type": "stream",
     "text": [
      "88233\n"
     ]
    },
    {
     "data": {
      "text/html": [
       "<div>\n",
       "<table border=\"1\" class=\"dataframe\">\n",
       "  <thead>\n",
       "    <tr style=\"text-align: right;\">\n",
       "      <th></th>\n",
       "      <th>0</th>\n",
       "      <th>1</th>\n",
       "    </tr>\n",
       "  </thead>\n",
       "  <tbody>\n",
       "    <tr>\n",
       "      <th>0</th>\n",
       "      <td>0</td>\n",
       "      <td>2</td>\n",
       "    </tr>\n",
       "    <tr>\n",
       "      <th>1</th>\n",
       "      <td>0</td>\n",
       "      <td>3</td>\n",
       "    </tr>\n",
       "    <tr>\n",
       "      <th>2</th>\n",
       "      <td>0</td>\n",
       "      <td>4</td>\n",
       "    </tr>\n",
       "    <tr>\n",
       "      <th>3</th>\n",
       "      <td>0</td>\n",
       "      <td>5</td>\n",
       "    </tr>\n",
       "    <tr>\n",
       "      <th>4</th>\n",
       "      <td>0</td>\n",
       "      <td>6</td>\n",
       "    </tr>\n",
       "  </tbody>\n",
       "</table>\n",
       "</div>"
      ],
      "text/plain": [
       "   0  1\n",
       "0  0  2\n",
       "1  0  3\n",
       "2  0  4\n",
       "3  0  5\n",
       "4  0  6"
      ]
     },
     "execution_count": 2,
     "metadata": {},
     "output_type": "execute_result"
    }
   ],
   "source": [
    "df = pd.read_csv(\"./data/facebook_combined.txt.gz\", compression='infer', sep=\" \")\n",
    "#df = pd.read_csv(\"./data/twitter_combined.txt.gz\", compression='infer', sep=\" \", header=None)\n",
    "\n",
    "print(len(df))\n",
    "df.head()"
   ]
  },
  {
   "cell_type": "code",
   "execution_count": 3,
   "metadata": {
    "collapsed": false
   },
   "outputs": [],
   "source": [
    "df.columns = [\"0\", \"1\"]"
   ]
  },
  {
   "cell_type": "code",
   "execution_count": 4,
   "metadata": {
    "collapsed": false
   },
   "outputs": [
    {
     "data": {
      "text/html": [
       "<div>\n",
       "<table border=\"1\" class=\"dataframe\">\n",
       "  <thead>\n",
       "    <tr style=\"text-align: right;\">\n",
       "      <th></th>\n",
       "      <th>0</th>\n",
       "      <th>1</th>\n",
       "    </tr>\n",
       "  </thead>\n",
       "  <tbody>\n",
       "    <tr>\n",
       "      <th>0</th>\n",
       "      <td>0</td>\n",
       "      <td>2</td>\n",
       "    </tr>\n",
       "    <tr>\n",
       "      <th>1</th>\n",
       "      <td>0</td>\n",
       "      <td>3</td>\n",
       "    </tr>\n",
       "    <tr>\n",
       "      <th>2</th>\n",
       "      <td>0</td>\n",
       "      <td>4</td>\n",
       "    </tr>\n",
       "    <tr>\n",
       "      <th>3</th>\n",
       "      <td>0</td>\n",
       "      <td>5</td>\n",
       "    </tr>\n",
       "    <tr>\n",
       "      <th>4</th>\n",
       "      <td>0</td>\n",
       "      <td>6</td>\n",
       "    </tr>\n",
       "  </tbody>\n",
       "</table>\n",
       "</div>"
      ],
      "text/plain": [
       "   0  1\n",
       "0  0  2\n",
       "1  0  3\n",
       "2  0  4\n",
       "3  0  5\n",
       "4  0  6"
      ]
     },
     "execution_count": 4,
     "metadata": {},
     "output_type": "execute_result"
    }
   ],
   "source": [
    "nodes = list(set(df[\"0\"]) | set(df[\"1\"]))\n",
    "nodes.sort()\n",
    "nodes[:20]\n",
    "nodes_to_idx = {n:i for i,n in enumerate(nodes)}\n",
    "\n",
    "df_o = df\n",
    "df = pd.DataFrame({\"0\": df[\"0\"].apply(lambda x: nodes_to_idx[x]), \n",
    "                   \"1\": df[\"1\"].apply(lambda x: nodes_to_idx[x])})\n",
    "df.head()          "
   ]
  },
  {
   "cell_type": "code",
   "execution_count": 5,
   "metadata": {
    "collapsed": false
   },
   "outputs": [
    {
     "data": {
      "text/html": [
       "<div>\n",
       "<table border=\"1\" class=\"dataframe\">\n",
       "  <thead>\n",
       "    <tr style=\"text-align: right;\">\n",
       "      <th></th>\n",
       "      <th>0</th>\n",
       "      <th>1</th>\n",
       "    </tr>\n",
       "  </thead>\n",
       "  <tbody>\n",
       "    <tr>\n",
       "      <th>count</th>\n",
       "      <td>88233.000000</td>\n",
       "      <td>88233.000000</td>\n",
       "    </tr>\n",
       "    <tr>\n",
       "      <th>mean</th>\n",
       "      <td>1864.802908</td>\n",
       "      <td>2154.223533</td>\n",
       "    </tr>\n",
       "    <tr>\n",
       "      <th>std</th>\n",
       "      <td>910.275802</td>\n",
       "      <td>893.685198</td>\n",
       "    </tr>\n",
       "    <tr>\n",
       "      <th>min</th>\n",
       "      <td>0.000000</td>\n",
       "      <td>2.000000</td>\n",
       "    </tr>\n",
       "    <tr>\n",
       "      <th>25%</th>\n",
       "      <td>1160.000000</td>\n",
       "      <td>1600.000000</td>\n",
       "    </tr>\n",
       "    <tr>\n",
       "      <th>50%</th>\n",
       "      <td>1983.000000</td>\n",
       "      <td>2259.000000</td>\n",
       "    </tr>\n",
       "    <tr>\n",
       "      <th>75%</th>\n",
       "      <td>2423.000000</td>\n",
       "      <td>2631.000000</td>\n",
       "    </tr>\n",
       "    <tr>\n",
       "      <th>max</th>\n",
       "      <td>4031.000000</td>\n",
       "      <td>4038.000000</td>\n",
       "    </tr>\n",
       "  </tbody>\n",
       "</table>\n",
       "</div>"
      ],
      "text/plain": [
       "                  0             1\n",
       "count  88233.000000  88233.000000\n",
       "mean    1864.802908   2154.223533\n",
       "std      910.275802    893.685198\n",
       "min        0.000000      2.000000\n",
       "25%     1160.000000   1600.000000\n",
       "50%     1983.000000   2259.000000\n",
       "75%     2423.000000   2631.000000\n",
       "max     4031.000000   4038.000000"
      ]
     },
     "execution_count": 5,
     "metadata": {},
     "output_type": "execute_result"
    }
   ],
   "source": [
    "df.describe()"
   ]
  },
  {
   "cell_type": "code",
   "execution_count": 6,
   "metadata": {
    "collapsed": false
   },
   "outputs": [
    {
     "name": "stdout",
     "output_type": "stream",
     "text": [
      "88233 4039\n"
     ]
    }
   ],
   "source": [
    "e = len(df)\n",
    "v = max(np.max(np.unique(df[\"0\"])), np.max(np.unique(df[\"1\"]))) + 1\n",
    "print(e,v)"
   ]
  },
  {
   "cell_type": "markdown",
   "metadata": {},
   "source": [
    "## Passage au Laplacien"
   ]
  },
  {
   "cell_type": "code",
   "execution_count": 7,
   "metadata": {
    "collapsed": false
   },
   "outputs": [],
   "source": [
    "facebook2 = csr_matrix((np.ones(e), (df['0'], df['1'])), shape=(v,v))\n",
    "facebook2 = 1.0 * ((facebook2 + facebook2.T) !=0)"
   ]
  },
  {
   "cell_type": "code",
   "execution_count": 8,
   "metadata": {
    "collapsed": false
   },
   "outputs": [
    {
     "data": {
      "text/plain": [
       "<4039x4039 sparse matrix of type '<class 'numpy.bool_'>'\n",
       "\twith 0 stored elements in Compressed Sparse Row format>"
      ]
     },
     "execution_count": 8,
     "metadata": {},
     "output_type": "execute_result"
    }
   ],
   "source": [
    "(facebook2 > 1)"
   ]
  },
  {
   "cell_type": "code",
   "execution_count": 9,
   "metadata": {
    "collapsed": false
   },
   "outputs": [
    {
     "name": "stdout",
     "output_type": "stream",
     "text": [
      "CPU times: user 4 ms, sys: 0 ns, total: 4 ms\n",
      "Wall time: 670 µs\n",
      "(4039,)\n",
      "0\n"
     ]
    }
   ],
   "source": [
    "%time deg = np.array(facebook2.sum(axis=0))[0]\n",
    "\n",
    "print(deg.shape)\n",
    "print((deg == 0).sum())"
   ]
  },
  {
   "cell_type": "code",
   "execution_count": 10,
   "metadata": {
    "collapsed": false
   },
   "outputs": [
    {
     "data": {
      "text/plain": [
       "<4039x4039 sparse matrix of type '<class 'numpy.float32'>'\n",
       "\twith 180505 stored elements in Compressed Sparse Row format>"
      ]
     },
     "execution_count": 10,
     "metadata": {},
     "output_type": "execute_result"
    }
   ],
   "source": [
    "L = diags(np.array(facebook2.sum(axis=0))[0]) - facebook2\n",
    "L = L.astype(np.float32)\n",
    "L"
   ]
  },
  {
   "cell_type": "code",
   "execution_count": 11,
   "metadata": {
    "collapsed": true
   },
   "outputs": [],
   "source": [
    "from scipy.sparse.linalg import eigsh"
   ]
  },
  {
   "cell_type": "code",
   "execution_count": 12,
   "metadata": {
    "collapsed": false
   },
   "outputs": [
    {
     "name": "stdout",
     "output_type": "stream",
     "text": [
      "100 8\n",
      "CPU times: user 2.28 s, sys: 32 ms, total: 2.32 s\n",
      "Wall time: 591 ms\n"
     ]
    },
    {
     "data": {
      "text/plain": [
       "array([ -3.69743975e-05,   1.82078369e-02,   2.90583726e-02,\n",
       "         4.71756645e-02,   6.81909397e-02,   1.10504724e-01,\n",
       "         1.63063005e-01,   6.78528368e-01], dtype=float32)"
      ]
     },
     "execution_count": 12,
     "metadata": {},
     "output_type": "execute_result"
    }
   ],
   "source": [
    "import os.path\n",
    "import pickle\n",
    "\n",
    "n_clusters = int(L.shape[0]/40) \n",
    "neig = 2 + int(np.log2(n_clusters))\n",
    "\n",
    "print(n_clusters, neig)\n",
    "\n",
    "f_vec = \"pkl/twitter_eigen_vec_%d.pkl\" % neig\n",
    "f_val = \"pkl/twitter_eigen_val_%d.pkl\" % neig\n",
    "\n",
    "if os.path.isfile(f_vec) and os.path.isfile(f_val):\n",
    "    \n",
    "    with open(f_vec, \"rb\") as f:\n",
    "        eigvec = pickle.load(f)\n",
    "    with open(f_val, \"rb\") as f:\n",
    "        eigval = pickle.load(f)\n",
    "    \n",
    "else:\n",
    "    %time eigval, eigvec = eigsh(L, neig, which='SM', tol=1e-3)\n",
    "    with open(\"pkl/twitter_eigen_vec.pkl\", \"wb\") as f:\n",
    "        pickle.dump(eigvec, f)\n",
    "    with open(\"pkl/twitter_eigen_val.pkl\", \"wb\") as f:\n",
    "        pickle.dump(eigval, f)\n",
    "# 15 min for 14 et 20...\n",
    "# 21 min for 12\n",
    "\n",
    "#%time eigval, eigvec = eigsh(L, neig, which='LM', tol=1e-2, sigma=0)\n",
    "# very very long! => SystemError: gstrf was called with invalid arguments\n",
    "\n",
    "eigval"
   ]
  },
  {
   "cell_type": "code",
   "execution_count": 13,
   "metadata": {
    "collapsed": false
   },
   "outputs": [
    {
     "data": {
      "text/plain": [
       "[<matplotlib.lines.Line2D at 0x7f25f5bccc88>]"
      ]
     },
     "execution_count": 13,
     "metadata": {},
     "output_type": "execute_result"
    },
    {
     "data": {
      "image/png": "[encoded data removed]",
      "text/plain": [
       "<matplotlib.figure.Figure at 0x7f25f8eb8668>"
      ]
     },
     "metadata": {},
     "output_type": "display_data"
    }
   ],
   "source": [
    "plt.plot(eigval)"
   ]
  },
  {
   "cell_type": "code",
   "execution_count": 14,
   "metadata": {
    "collapsed": false
   },
   "outputs": [
    {
     "name": "stdout",
     "output_type": "stream",
     "text": [
      "3285 754\n"
     ]
    }
   ],
   "source": [
    "e1 = eigvec[:,1]\n",
    "print((e1>=0).sum(), (e1<0).sum())"
   ]
  },
  {
   "cell_type": "code",
   "execution_count": 15,
   "metadata": {
    "collapsed": false
   },
   "outputs": [
    {
     "name": "stdout",
     "output_type": "stream",
     "text": [
      "(2, 4039)\n"
     ]
    },
    {
     "data": {
      "text/plain": [
       "<matplotlib.collections.PathCollection at 0x7f25f5affdd8>"
      ]
     },
     "execution_count": 15,
     "metadata": {},
     "output_type": "execute_result"
    },
    {
     "data": {
      "image/png": "[encoded data removed]",
      "text/plain": [
       "<matplotlib.figure.Figure at 0x7f25f5b1ff98>"
      ]
     },
     "metadata": {},
     "output_type": "display_data"
    }
   ],
   "source": [
    "proj = eigvec[:, 1:3].T\n",
    "print(proj.shape)\n",
    "\n",
    "pylab.rcParams['figure.figsize'] = (12.0, 8.0)\n",
    "\n",
    "plt.scatter(proj[0], proj[1])"
   ]
  },
  {
   "cell_type": "markdown",
   "metadata": {},
   "source": [
    "## kmeans clustering"
   ]
  },
  {
   "cell_type": "code",
   "execution_count": 16,
   "metadata": {
    "collapsed": false
   },
   "outputs": [
    {
     "name": "stdout",
     "output_type": "stream",
     "text": [
      "(4039, 2)\n",
      "CPU times: user 88 ms, sys: 0 ns, total: 88 ms\n",
      "Wall time: 22.5 ms\n",
      "4\n",
      "[[-0.01139406  0.01179204  0.00570953 -0.06279404]\n",
      " [-0.00165202  0.12812631 -0.00232425  0.00411796]]\n"
     ]
    },
    {
     "data": {
      "image/png": "[encoded data removed]",
      "text/plain": [
       "<matplotlib.figure.Figure at 0x7f25f8eb8e80>"
      ]
     },
     "metadata": {},
     "output_type": "display_data"
    }
   ],
   "source": [
    "from sklearn.cluster import KMeans, AgglomerativeClustering, DBSCAN\n",
    "\n",
    "n_clusters = 4\n",
    "\n",
    "clf = KMeans(init='k-means++', n_clusters=n_clusters, n_init=10)\n",
    "#clf = AgglomerativeClustering(n_clusters = n_clusters)\n",
    "# clf = DBSCAN(eps = 0.005)\n",
    "\n",
    "print(proj.T.shape)\n",
    "\n",
    "%time clusters = clf.fit_predict(proj.T)\n",
    "\n",
    "print(len(np.unique(clusters)))\n",
    "\n",
    "plt.scatter(proj[0], proj[1], c=clusters)\n",
    "\n",
    "if \"cluster_centers_\" in clf.__dict__:\n",
    "    centers = clf.cluster_centers_.T\n",
    "    print(centers)\n",
    "    plt.scatter(centers[0], centers[1], marker='*', s=200, c='black')"
   ]
  },
  {
   "cell_type": "markdown",
   "metadata": {},
   "source": [
    "### Clustering plus poussé\n",
    "**Attention:** ici nous normalisons les vecteurs propres.\n",
    "Cela fait deux différences avec l'algorithme standard de spectral clustering\n",
    "- normalisation vecteurs propres vs pas normalisation => je retire la normalisation\n",
    "- 2^k-means sur k vecteurs propres contre k-means sur k vecteurs => je diminue le nombre de clusters"
   ]
  },
  {
   "cell_type": "code",
   "execution_count": 17,
   "metadata": {
    "collapsed": false
   },
   "outputs": [
    {
     "name": "stdout",
     "output_type": "stream",
     "text": [
      "[ 0.01571777 -0.06478774 -0.00421704 -0.03772661 -0.03585397 -0.03761352\n",
      " -0.03011889 -0.03773851] [ 0.01574289  0.01196385  0.13086525  0.02744743  0.02287051  0.02637916\n",
      "  0.02097226  0.153216  ] [  1.57349594e-02  -3.32823834e-06  -3.38827107e-07  -5.19645073e-06\n",
      "  -4.57357544e-07   2.82631390e-07   4.91122201e-08   5.90291105e-09]\n",
      "[  3.98035977e+04   1.30290470e+01   7.40289497e+00   1.53435316e+01\n",
      "   1.70286713e+01   1.56267853e+01   1.95728645e+01   5.23684883e+00]\n"
     ]
    }
   ],
   "source": [
    "print(eigvec.min(axis=0), eigvec.max(axis=0), eigvec.mean(axis=0))\n",
    "print(1/(eigvec.max(axis=0) - eigvec.min(axis=0)))"
   ]
  },
  {
   "cell_type": "code",
   "execution_count": 18,
   "metadata": {
    "collapsed": false
   },
   "outputs": [
    {
     "name": "stdout",
     "output_type": "stream",
     "text": [
      "(4039, 8) (4039, 8)\n",
      "[ 0.68431652  0.8440792   0.03121582  0.57877976  0.61053771  0.58778292\n",
      "  0.58951384  0.19763093]\n"
     ]
    }
   ],
   "source": [
    "eigvec_n = (eigvec-eigvec.min(axis=0)) / (eigvec.max(axis=0) - eigvec.min(axis=0))\n",
    "print(eigvec_n.shape, eigvec.shape)\n",
    "print(eigvec_n.mean(axis=0))"
   ]
  },
  {
   "cell_type": "code",
   "execution_count": 19,
   "metadata": {
    "collapsed": false
   },
   "outputs": [
    {
     "name": "stdout",
     "output_type": "stream",
     "text": [
      "n_clusters = 40\n",
      "(4039, 7)\n",
      "CPU times: user 60 ms, sys: 16 ms, total: 76 ms\n",
      "Wall time: 669 ms\n",
      "40\n"
     ]
    },
    {
     "data": {
      "image/png": "[encoded data removed]",
      "text/plain": [
       "<matplotlib.figure.Figure at 0x7f25f5afff60>"
      ]
     },
     "metadata": {},
     "output_type": "display_data"
    }
   ],
   "source": [
    "#n_clusters = int(v/40)\n",
    "n_clusters = int(v/100)\n",
    "print(\"n_clusters = %d\" % n_clusters)\n",
    "\n",
    "clf = KMeans(init='k-means++', n_clusters=n_clusters, n_init=10, n_jobs=4)\n",
    "#clf = AgglomerativeClustering(n_clusters = n_clusters)\n",
    "#clf = DBSCAN(eps = 0.0005)\n",
    "\n",
    "#X = eigvec_n[:,1:]\n",
    "X = eigvec[:,1:]\n",
    "\n",
    "print(X.shape)\n",
    "%time clusters = clf.fit_predict(X)\n",
    "print(len(np.unique(clusters)))\n",
    "\n",
    "plt.scatter(X[:,0], X[:,1], c=clusters)\n",
    "\n",
    "if \"cluster_centers_\" in clf.__dict__:\n",
    "    centers = clf.cluster_centers_.T\n",
    "    # print(centers)\n",
    "    plt.scatter(centers[0], centers[1], marker='*', s=200, c='black')"
   ]
  },
  {
   "cell_type": "markdown",
   "metadata": {},
   "source": [
    "## display clustered graphs"
   ]
  },
  {
   "cell_type": "code",
   "execution_count": 20,
   "metadata": {
    "collapsed": false
   },
   "outputs": [
    {
     "data": {
      "text/plain": [
       "<matplotlib.axes._subplots.AxesSubplot at 0x7f25f5b13320>"
      ]
     },
     "execution_count": 20,
     "metadata": {},
     "output_type": "execute_result"
    },
    {
     "data": {
      "image/png": "[encoded data removed]",
      "text/plain": [
       "<matplotlib.figure.Figure at 0x7f25f5b5a898>"
      ]
     },
     "metadata": {},
     "output_type": "display_data"
    }
   ],
   "source": [
    "vc = pd.Series(clusters).value_counts()\n",
    "vc.hist(bins=100)"
   ]
  },
  {
   "cell_type": "code",
   "execution_count": 21,
   "metadata": {
    "collapsed": false
   },
   "outputs": [
    {
     "data": {
      "text/plain": [
       "cnt\n",
       "1      4\n",
       "3      2\n",
       "4      2\n",
       "8      1\n",
       "9      1\n",
       "11     1\n",
       "13     1\n",
       "15     2\n",
       "16     1\n",
       "19     1\n",
       "25     2\n",
       "27     1\n",
       "28     2\n",
       "34     1\n",
       "55     1\n",
       "74     1\n",
       "79     1\n",
       "83     1\n",
       "86     1\n",
       "92     1\n",
       "118    1\n",
       "127    1\n",
       "167    1\n",
       "180    1\n",
       "187    1\n",
       "197    1\n",
       "288    1\n",
       "344    1\n",
       "351    1\n",
       "354    1\n",
       "455    1\n",
       "511    1\n",
       "dtype: int64"
      ]
     },
     "execution_count": 21,
     "metadata": {},
     "output_type": "execute_result"
    }
   ],
   "source": [
    "pd.DataFrame({'cnt': vc}).groupby([\"cnt\"]).size()"
   ]
  },
  {
   "cell_type": "code",
   "execution_count": 22,
   "metadata": {
    "collapsed": false
   },
   "outputs": [
    {
     "name": "stdout",
     "output_type": "stream",
     "text": [
      "CPU times: user 1.03 s, sys: 0 ns, total: 1.03 s\n",
      "Wall time: 1.03 s\n"
     ]
    },
    {
     "data": {
      "text/plain": [
       "<networkx.classes.graph.Graph at 0x7f25d7dfdda0>"
      ]
     },
     "execution_count": 22,
     "metadata": {},
     "output_type": "execute_result"
    }
   ],
   "source": [
    "import networkx as nx\n",
    "\n",
    "%time g = nx.Graph(list(df.to_records(index=False)))\n",
    "g"
   ]
  },
  {
   "cell_type": "code",
   "execution_count": 23,
   "metadata": {
    "collapsed": false
   },
   "outputs": [
    {
     "name": "stdout",
     "output_type": "stream",
     "text": [
      "Cluster #5 is of size 55\n",
      "pseudo-degree of cluster is 14\n"
     ]
    },
    {
     "data": {
      "image/png": "[encoded data removed]",
      "text/plain": [
       "<matplotlib.figure.Figure at 0x7f25f5b43f60>"
      ]
     },
     "metadata": {},
     "output_type": "display_data"
    }
   ],
   "source": [
    "from IPython.html.widgets import interact\n",
    "import gmet\n",
    "import graph_helpers\n",
    "\n",
    "@interact\n",
    "def plot(cl = ('5', '6', '7', '8', '10', '20', '30', '27', '215', '42', '1150'), \n",
    "         degree=(\"0\", \"1\", \"2\"), layout=(\"spring\", \"std\", \"spectral\")):\n",
    "    cl = int(cl)\n",
    "    print(\"Cluster #%d is of size %d\" % (cl, (clusters == cl).sum()))\n",
    "    \n",
    "    print(\"pseudo-degree of cluster is %d\" % gmet.group_edge_degree(facebook2, clusters == cl))\n",
    "    \n",
    "    graph_helpers.plot_subgraph_links(facebook2, clusters == cl, int(degree), layout=layout, graph=g)"
   ]
  },
  {
   "cell_type": "code",
   "execution_count": 25,
   "metadata": {
    "collapsed": false,
    "scrolled": true
   },
   "outputs": [
    {
     "name": "stdout",
     "output_type": "stream",
     "text": [
      "18 127\n",
      "4\n",
      "1\n"
     ]
    },
    {
     "data": {
      "text/html": [
       "<div>\n",
       "<table border=\"1\" class=\"dataframe\">\n",
       "  <thead>\n",
       "    <tr style=\"text-align: right;\">\n",
       "      <th></th>\n",
       "      <th>0</th>\n",
       "      <th>1</th>\n",
       "    </tr>\n",
       "  </thead>\n",
       "  <tbody>\n",
       "    <tr>\n",
       "      <th>44</th>\n",
       "      <td>0</td>\n",
       "      <td>46</td>\n",
       "    </tr>\n",
       "    <tr>\n",
       "      <th>993</th>\n",
       "      <td>46</td>\n",
       "      <td>143</td>\n",
       "    </tr>\n",
       "    <tr>\n",
       "      <th>994</th>\n",
       "      <td>46</td>\n",
       "      <td>175</td>\n",
       "    </tr>\n",
       "    <tr>\n",
       "      <th>995</th>\n",
       "      <td>46</td>\n",
       "      <td>177</td>\n",
       "    </tr>\n",
       "    <tr>\n",
       "      <th>996</th>\n",
       "      <td>46</td>\n",
       "      <td>278</td>\n",
       "    </tr>\n",
       "  </tbody>\n",
       "</table>\n",
       "</div>"
      ],
      "text/plain": [
       "      0    1\n",
       "44    0   46\n",
       "993  46  143\n",
       "994  46  175\n",
       "995  46  177\n",
       "996  46  278"
      ]
     },
     "execution_count": 25,
     "metadata": {},
     "output_type": "execute_result"
    }
   ],
   "source": [
    "n = 46\n",
    "\n",
    "print((clusters[n]), (clusters == clusters[n]).sum())\n",
    "print((df[\"0\"] == n).sum())\n",
    "print((df[\"1\"] == n).sum())\n",
    "df[(df[\"1\"] == n) | (df[\"0\"] == n)]"
   ]
  },
  {
   "cell_type": "code",
   "execution_count": 26,
   "metadata": {
    "collapsed": false
   },
   "outputs": [
    {
     "data": {
      "text/html": [
       "<div>\n",
       "<table border=\"1\" class=\"dataframe\">\n",
       "  <thead>\n",
       "    <tr style=\"text-align: right;\">\n",
       "      <th></th>\n",
       "      <th>0</th>\n",
       "      <th>1</th>\n",
       "    </tr>\n",
       "  </thead>\n",
       "  <tbody>\n",
       "    <tr>\n",
       "      <th>0</th>\n",
       "      <td>0</td>\n",
       "      <td>2</td>\n",
       "    </tr>\n",
       "    <tr>\n",
       "      <th>1</th>\n",
       "      <td>0</td>\n",
       "      <td>3</td>\n",
       "    </tr>\n",
       "    <tr>\n",
       "      <th>2</th>\n",
       "      <td>0</td>\n",
       "      <td>4</td>\n",
       "    </tr>\n",
       "    <tr>\n",
       "      <th>3</th>\n",
       "      <td>0</td>\n",
       "      <td>5</td>\n",
       "    </tr>\n",
       "    <tr>\n",
       "      <th>4</th>\n",
       "      <td>0</td>\n",
       "      <td>6</td>\n",
       "    </tr>\n",
       "  </tbody>\n",
       "</table>\n",
       "</div>"
      ],
      "text/plain": [
       "   0  1\n",
       "0  0  2\n",
       "1  0  3\n",
       "2  0  4\n",
       "3  0  5\n",
       "4  0  6"
      ]
     },
     "execution_count": 26,
     "metadata": {},
     "output_type": "execute_result"
    }
   ],
   "source": [
    "df.head()"
   ]
  },
  {
   "cell_type": "code",
   "execution_count": 27,
   "metadata": {
    "collapsed": false
   },
   "outputs": [
    {
     "name": "stdout",
     "output_type": "stream",
     "text": [
      "CPU times: user 108 ms, sys: 0 ns, total: 108 ms\n",
      "Wall time: 106 ms\n",
      "count     40.000000\n",
      "mean     108.425000\n",
      "std      140.725572\n",
      "min        1.000000\n",
      "25%        9.750000\n",
      "50%       65.000000\n",
      "75%      155.500000\n",
      "max      702.000000\n",
      "dtype: float64\n"
     ]
    },
    {
     "data": {
      "image/png": "[encoded data removed]",
      "text/plain": [
       "<matplotlib.figure.Figure at 0x7f25f8e540f0>"
      ]
     },
     "metadata": {},
     "output_type": "display_data"
    }
   ],
   "source": [
    "from gmet import group_vertex_degree, group_edge_degree\n",
    "\n",
    "%time all_degs = [group_vertex_degree(facebook2, clusters == i) for i in range(n_clusters)]\n",
    "\n",
    "print(pd.Series(all_degs).describe())\n",
    "_ = plt.hist(all_degs, bins=100)\n",
    "plt.yscale(\"log\")"
   ]
  },
  {
   "cell_type": "markdown",
   "metadata": {},
   "source": [
    "### Optimisation à faire\n",
    "Il faudrait optimiser le calcul des deux \"degrés\" en le faisant en masse par un big produit matriciel"
   ]
  },
  {
   "cell_type": "markdown",
   "metadata": {},
   "source": [
    "### Compléments à faire\n",
    "- implémenter d'autres métriques (cf littérature) comme le RatioCut = sigma cuts / taille et Ncut = sigma cuts / vol\n",
    "- remettre en non normalisé!\n",
    "- diminuer le k du k-means"
   ]
  },
  {
   "cell_type": "code",
   "execution_count": 28,
   "metadata": {
    "collapsed": false
   },
   "outputs": [
    {
     "name": "stdout",
     "output_type": "stream",
     "text": [
      "CPU times: user 192 ms, sys: 0 ns, total: 192 ms\n",
      "Wall time: 188 ms\n"
     ]
    },
    {
     "data": {
      "text/html": [
       "<div>\n",
       "<table border=\"1\" class=\"dataframe\">\n",
       "  <thead>\n",
       "    <tr style=\"text-align: right;\">\n",
       "      <th></th>\n",
       "      <th>edeg</th>\n",
       "      <th>sz</th>\n",
       "      <th>vdeg</th>\n",
       "      <th>vratio</th>\n",
       "      <th>eratio</th>\n",
       "    </tr>\n",
       "  </thead>\n",
       "  <tbody>\n",
       "    <tr>\n",
       "      <th>count</th>\n",
       "      <td>40.000000</td>\n",
       "      <td>40.000000</td>\n",
       "      <td>40.000000</td>\n",
       "      <td>40.000000</td>\n",
       "      <td>40.000000</td>\n",
       "    </tr>\n",
       "    <tr>\n",
       "      <th>mean</th>\n",
       "      <td>324.450000</td>\n",
       "      <td>100.975000</td>\n",
       "      <td>108.425000</td>\n",
       "      <td>2.756417</td>\n",
       "      <td>5.447198</td>\n",
       "    </tr>\n",
       "    <tr>\n",
       "      <th>std</th>\n",
       "      <td>433.177642</td>\n",
       "      <td>135.682035</td>\n",
       "      <td>140.725572</td>\n",
       "      <td>4.034568</td>\n",
       "      <td>6.179768</td>\n",
       "    </tr>\n",
       "    <tr>\n",
       "      <th>min</th>\n",
       "      <td>2.000000</td>\n",
       "      <td>1.000000</td>\n",
       "      <td>1.000000</td>\n",
       "      <td>0.027778</td>\n",
       "      <td>0.238889</td>\n",
       "    </tr>\n",
       "    <tr>\n",
       "      <th>25%</th>\n",
       "      <td>24.500000</td>\n",
       "      <td>10.500000</td>\n",
       "      <td>9.750000</td>\n",
       "      <td>0.557946</td>\n",
       "      <td>1.466175</td>\n",
       "    </tr>\n",
       "    <tr>\n",
       "      <th>50%</th>\n",
       "      <td>170.500000</td>\n",
       "      <td>28.000000</td>\n",
       "      <td>65.000000</td>\n",
       "      <td>2.000000</td>\n",
       "      <td>2.904987</td>\n",
       "    </tr>\n",
       "    <tr>\n",
       "      <th>75%</th>\n",
       "      <td>369.250000</td>\n",
       "      <td>137.000000</td>\n",
       "      <td>155.500000</td>\n",
       "      <td>3.163690</td>\n",
       "      <td>7.650000</td>\n",
       "    </tr>\n",
       "    <tr>\n",
       "      <th>max</th>\n",
       "      <td>1605.000000</td>\n",
       "      <td>511.000000</td>\n",
       "      <td>702.000000</td>\n",
       "      <td>18.777778</td>\n",
       "      <td>30.555556</td>\n",
       "    </tr>\n",
       "  </tbody>\n",
       "</table>\n",
       "</div>"
      ],
      "text/plain": [
       "              edeg          sz        vdeg     vratio     eratio\n",
       "count    40.000000   40.000000   40.000000  40.000000  40.000000\n",
       "mean    324.450000  100.975000  108.425000   2.756417   5.447198\n",
       "std     433.177642  135.682035  140.725572   4.034568   6.179768\n",
       "min       2.000000    1.000000    1.000000   0.027778   0.238889\n",
       "25%      24.500000   10.500000    9.750000   0.557946   1.466175\n",
       "50%     170.500000   28.000000   65.000000   2.000000   2.904987\n",
       "75%     369.250000  137.000000  155.500000   3.163690   7.650000\n",
       "max    1605.000000  511.000000  702.000000  18.777778  30.555556"
      ]
     },
     "execution_count": 28,
     "metadata": {},
     "output_type": "execute_result"
    }
   ],
   "source": [
    "from gmet import group_vertex_degree, group_edge_degree\n",
    "\n",
    "%time metrics = pd.DataFrame({'sz': [(clusters == cl).sum() for cl in range(n_clusters)], \\\n",
    "                          'vdeg': [group_vertex_degree(facebook2, clusters == i) for i in range(n_clusters)], \\\n",
    "                          'edeg': [group_edge_degree(facebook2, clusters == i) for i in range(n_clusters)]})\n",
    "\n",
    "metrics[\"vratio\"] = metrics.vdeg / metrics.sz\n",
    "metrics[\"eratio\"] = metrics.edeg / metrics.sz\n",
    "\n",
    "metrics.describe()"
   ]
  },
  {
   "cell_type": "code",
   "execution_count": 29,
   "metadata": {
    "collapsed": false,
    "scrolled": false
   },
   "outputs": [
    {
     "data": {
      "text/html": [
       "<div>\n",
       "<table border=\"1\" class=\"dataframe\">\n",
       "  <thead>\n",
       "    <tr style=\"text-align: right;\">\n",
       "      <th></th>\n",
       "      <th>edeg</th>\n",
       "      <th>sz</th>\n",
       "      <th>vdeg</th>\n",
       "      <th>vratio</th>\n",
       "      <th>eratio</th>\n",
       "    </tr>\n",
       "  </thead>\n",
       "  <tbody>\n",
       "    <tr>\n",
       "      <th>count</th>\n",
       "      <td>8.000000</td>\n",
       "      <td>8.000000</td>\n",
       "      <td>8.000000</td>\n",
       "      <td>8.000000</td>\n",
       "      <td>8.000000</td>\n",
       "    </tr>\n",
       "    <tr>\n",
       "      <th>mean</th>\n",
       "      <td>129.375000</td>\n",
       "      <td>108.625000</td>\n",
       "      <td>19.875000</td>\n",
       "      <td>0.148057</td>\n",
       "      <td>1.083909</td>\n",
       "    </tr>\n",
       "    <tr>\n",
       "      <th>std</th>\n",
       "      <td>166.818068</td>\n",
       "      <td>99.278738</td>\n",
       "      <td>28.215687</td>\n",
       "      <td>0.120438</td>\n",
       "      <td>0.698908</td>\n",
       "    </tr>\n",
       "    <tr>\n",
       "      <th>min</th>\n",
       "      <td>11.000000</td>\n",
       "      <td>11.000000</td>\n",
       "      <td>1.000000</td>\n",
       "      <td>0.027778</td>\n",
       "      <td>0.238889</td>\n",
       "    </tr>\n",
       "    <tr>\n",
       "      <th>25%</th>\n",
       "      <td>18.500000</td>\n",
       "      <td>22.750000</td>\n",
       "      <td>2.750000</td>\n",
       "      <td>0.090909</td>\n",
       "      <td>0.813636</td>\n",
       "    </tr>\n",
       "    <tr>\n",
       "      <th>50%</th>\n",
       "      <td>35.000000</td>\n",
       "      <td>91.000000</td>\n",
       "      <td>5.000000</td>\n",
       "      <td>0.111181</td>\n",
       "      <td>1.087244</td>\n",
       "    </tr>\n",
       "    <tr>\n",
       "      <th>75%</th>\n",
       "      <td>196.000000</td>\n",
       "      <td>170.250000</td>\n",
       "      <td>24.750000</td>\n",
       "      <td>0.145833</td>\n",
       "      <td>1.256076</td>\n",
       "    </tr>\n",
       "    <tr>\n",
       "      <th>max</th>\n",
       "      <td>414.000000</td>\n",
       "      <td>288.000000</td>\n",
       "      <td>70.000000</td>\n",
       "      <td>0.419162</td>\n",
       "      <td>2.479042</td>\n",
       "    </tr>\n",
       "  </tbody>\n",
       "</table>\n",
       "</div>"
      ],
      "text/plain": [
       "             edeg          sz       vdeg    vratio    eratio\n",
       "count    8.000000    8.000000   8.000000  8.000000  8.000000\n",
       "mean   129.375000  108.625000  19.875000  0.148057  1.083909\n",
       "std    166.818068   99.278738  28.215687  0.120438  0.698908\n",
       "min     11.000000   11.000000   1.000000  0.027778  0.238889\n",
       "25%     18.500000   22.750000   2.750000  0.090909  0.813636\n",
       "50%     35.000000   91.000000   5.000000  0.111181  1.087244\n",
       "75%    196.000000  170.250000  24.750000  0.145833  1.256076\n",
       "max    414.000000  288.000000  70.000000  0.419162  2.479042"
      ]
     },
     "execution_count": 29,
     "metadata": {},
     "output_type": "execute_result"
    }
   ],
   "source": [
    "metrics[metrics.vratio < 0.5].describe()"
   ]
  },
  {
   "cell_type": "code",
   "execution_count": 30,
   "metadata": {
    "collapsed": false
   },
   "outputs": [
    {
     "name": "stderr",
     "output_type": "stream",
     "text": [
      "/home/yannick/bin/anaconda3/envs/py35/lib/python3.5/site-packages/ipykernel/__main__.py:1: UserWarning: Boolean Series key will be reindexed to match DataFrame index.\n",
      "  if __name__ == '__main__':\n"
     ]
    },
    {
     "data": {
      "text/html": [
       "<div>\n",
       "<table border=\"1\" class=\"dataframe\">\n",
       "  <thead>\n",
       "    <tr style=\"text-align: right;\">\n",
       "      <th></th>\n",
       "      <th>edeg</th>\n",
       "      <th>sz</th>\n",
       "      <th>vdeg</th>\n",
       "      <th>vratio</th>\n",
       "      <th>eratio</th>\n",
       "    </tr>\n",
       "  </thead>\n",
       "  <tbody>\n",
       "    <tr>\n",
       "      <th>count</th>\n",
       "      <td>5.000000</td>\n",
       "      <td>5.000000</td>\n",
       "      <td>5.000000</td>\n",
       "      <td>5.000000</td>\n",
       "      <td>5.000000</td>\n",
       "    </tr>\n",
       "    <tr>\n",
       "      <th>mean</th>\n",
       "      <td>23.000000</td>\n",
       "      <td>57.400000</td>\n",
       "      <td>3.200000</td>\n",
       "      <td>0.090919</td>\n",
       "      <td>0.764687</td>\n",
       "    </tr>\n",
       "    <tr>\n",
       "      <th>std</th>\n",
       "      <td>12.747549</td>\n",
       "      <td>70.627898</td>\n",
       "      <td>1.788854</td>\n",
       "      <td>0.038711</td>\n",
       "      <td>0.481412</td>\n",
       "    </tr>\n",
       "    <tr>\n",
       "      <th>min</th>\n",
       "      <td>11.000000</td>\n",
       "      <td>11.000000</td>\n",
       "      <td>1.000000</td>\n",
       "      <td>0.027778</td>\n",
       "      <td>0.238889</td>\n",
       "    </tr>\n",
       "    <tr>\n",
       "      <th>25%</th>\n",
       "      <td>14.000000</td>\n",
       "      <td>16.000000</td>\n",
       "      <td>2.000000</td>\n",
       "      <td>0.090909</td>\n",
       "      <td>0.254545</td>\n",
       "    </tr>\n",
       "    <tr>\n",
       "      <th>50%</th>\n",
       "      <td>20.000000</td>\n",
       "      <td>25.000000</td>\n",
       "      <td>3.000000</td>\n",
       "      <td>0.090909</td>\n",
       "      <td>1.000000</td>\n",
       "    </tr>\n",
       "    <tr>\n",
       "      <th>75%</th>\n",
       "      <td>27.000000</td>\n",
       "      <td>55.000000</td>\n",
       "      <td>5.000000</td>\n",
       "      <td>0.120000</td>\n",
       "      <td>1.080000</td>\n",
       "    </tr>\n",
       "    <tr>\n",
       "      <th>max</th>\n",
       "      <td>43.000000</td>\n",
       "      <td>180.000000</td>\n",
       "      <td>5.000000</td>\n",
       "      <td>0.125000</td>\n",
       "      <td>1.250000</td>\n",
       "    </tr>\n",
       "  </tbody>\n",
       "</table>\n",
       "</div>"
      ],
      "text/plain": [
       "            edeg          sz      vdeg    vratio    eratio\n",
       "count   5.000000    5.000000  5.000000  5.000000  5.000000\n",
       "mean   23.000000   57.400000  3.200000  0.090919  0.764687\n",
       "std    12.747549   70.627898  1.788854  0.038711  0.481412\n",
       "min    11.000000   11.000000  1.000000  0.027778  0.238889\n",
       "25%    14.000000   16.000000  2.000000  0.090909  0.254545\n",
       "50%    20.000000   25.000000  3.000000  0.090909  1.000000\n",
       "75%    27.000000   55.000000  5.000000  0.120000  1.080000\n",
       "max    43.000000  180.000000  5.000000  0.125000  1.250000"
      ]
     },
     "execution_count": 30,
     "metadata": {},
     "output_type": "execute_result"
    }
   ],
   "source": [
    "metrics[metrics.vratio < 0.5][metrics.vdeg < 10].describe()"
   ]
  },
  {
   "cell_type": "code",
   "execution_count": 31,
   "metadata": {
    "collapsed": false
   },
   "outputs": [
    {
     "data": {
      "text/html": [
       "<div>\n",
       "<table border=\"1\" class=\"dataframe\">\n",
       "  <thead>\n",
       "    <tr style=\"text-align: right;\">\n",
       "      <th></th>\n",
       "      <th>edeg</th>\n",
       "      <th>sz</th>\n",
       "      <th>vdeg</th>\n",
       "      <th>vratio</th>\n",
       "      <th>eratio</th>\n",
       "    </tr>\n",
       "  </thead>\n",
       "  <tbody>\n",
       "    <tr>\n",
       "      <th>count</th>\n",
       "      <td>2.000000</td>\n",
       "      <td>2.000000</td>\n",
       "      <td>2.0</td>\n",
       "      <td>2.000000</td>\n",
       "      <td>2.000000</td>\n",
       "    </tr>\n",
       "    <tr>\n",
       "      <th>mean</th>\n",
       "      <td>28.500000</td>\n",
       "      <td>117.500000</td>\n",
       "      <td>5.0</td>\n",
       "      <td>0.059343</td>\n",
       "      <td>0.246717</td>\n",
       "    </tr>\n",
       "    <tr>\n",
       "      <th>std</th>\n",
       "      <td>20.506097</td>\n",
       "      <td>88.388348</td>\n",
       "      <td>0.0</td>\n",
       "      <td>0.044641</td>\n",
       "      <td>0.011071</td>\n",
       "    </tr>\n",
       "    <tr>\n",
       "      <th>min</th>\n",
       "      <td>14.000000</td>\n",
       "      <td>55.000000</td>\n",
       "      <td>5.0</td>\n",
       "      <td>0.027778</td>\n",
       "      <td>0.238889</td>\n",
       "    </tr>\n",
       "    <tr>\n",
       "      <th>25%</th>\n",
       "      <td>21.250000</td>\n",
       "      <td>86.250000</td>\n",
       "      <td>5.0</td>\n",
       "      <td>0.043561</td>\n",
       "      <td>0.242803</td>\n",
       "    </tr>\n",
       "    <tr>\n",
       "      <th>50%</th>\n",
       "      <td>28.500000</td>\n",
       "      <td>117.500000</td>\n",
       "      <td>5.0</td>\n",
       "      <td>0.059343</td>\n",
       "      <td>0.246717</td>\n",
       "    </tr>\n",
       "    <tr>\n",
       "      <th>75%</th>\n",
       "      <td>35.750000</td>\n",
       "      <td>148.750000</td>\n",
       "      <td>5.0</td>\n",
       "      <td>0.075126</td>\n",
       "      <td>0.250631</td>\n",
       "    </tr>\n",
       "    <tr>\n",
       "      <th>max</th>\n",
       "      <td>43.000000</td>\n",
       "      <td>180.000000</td>\n",
       "      <td>5.0</td>\n",
       "      <td>0.090909</td>\n",
       "      <td>0.254545</td>\n",
       "    </tr>\n",
       "  </tbody>\n",
       "</table>\n",
       "</div>"
      ],
      "text/plain": [
       "            edeg          sz  vdeg    vratio    eratio\n",
       "count   2.000000    2.000000   2.0  2.000000  2.000000\n",
       "mean   28.500000  117.500000   5.0  0.059343  0.246717\n",
       "std    20.506097   88.388348   0.0  0.044641  0.011071\n",
       "min    14.000000   55.000000   5.0  0.027778  0.238889\n",
       "25%    21.250000   86.250000   5.0  0.043561  0.242803\n",
       "50%    28.500000  117.500000   5.0  0.059343  0.246717\n",
       "75%    35.750000  148.750000   5.0  0.075126  0.250631\n",
       "max    43.000000  180.000000   5.0  0.090909  0.254545"
      ]
     },
     "execution_count": 31,
     "metadata": {},
     "output_type": "execute_result"
    }
   ],
   "source": [
    "metrics[metrics.eratio < 0.5].describe()"
   ]
  },
  {
   "cell_type": "code",
   "execution_count": 32,
   "metadata": {
    "collapsed": false
   },
   "outputs": [
    {
     "name": "stdout",
     "output_type": "stream",
     "text": [
      "0.505\n"
     ]
    },
    {
     "data": {
      "text/plain": [
       "[<matplotlib.lines.Line2D at 0x7f25f5a68588>]"
      ]
     },
     "execution_count": 32,
     "metadata": {},
     "output_type": "execute_result"
    },
    {
     "data": {
      "image/png": "[encoded data removed]",
      "text/plain": [
       "<matplotlib.figure.Figure at 0x7f25f5aca6d8>"
      ]
     },
     "metadata": {},
     "output_type": "display_data"
    }
   ],
   "source": [
    "def eratios(df):\n",
    "    return np.array([len(metrics[metrics.eratio < i])/len(metrics) for i in range(10)])\n",
    "\n",
    "def perf(df):\n",
    "    return (eratios(df)/10).sum()\n",
    "\n",
    "er = eratios(metrics)\n",
    "\n",
    "print (perf(metrics))\n",
    "\n",
    "plt.plot(er)"
   ]
  },
  {
   "cell_type": "code",
   "execution_count": 41,
   "metadata": {
    "collapsed": false
   },
   "outputs": [
    {
     "data": {
      "text/html": [
       "<div>\n",
       "<table border=\"1\" class=\"dataframe\">\n",
       "  <thead>\n",
       "    <tr style=\"text-align: right;\">\n",
       "      <th></th>\n",
       "      <th>edeg</th>\n",
       "      <th>sz</th>\n",
       "      <th>vdeg</th>\n",
       "      <th>vratio</th>\n",
       "      <th>eratio</th>\n",
       "      <th>ratio_cut</th>\n",
       "      <th>n_cut</th>\n",
       "    </tr>\n",
       "  </thead>\n",
       "  <tbody>\n",
       "    <tr>\n",
       "      <th>count</th>\n",
       "      <td>40.000000</td>\n",
       "      <td>40.000000</td>\n",
       "      <td>40.000000</td>\n",
       "      <td>40.000000</td>\n",
       "      <td>40.000000</td>\n",
       "      <td>40.000000</td>\n",
       "      <td>40.000000</td>\n",
       "    </tr>\n",
       "    <tr>\n",
       "      <th>mean</th>\n",
       "      <td>324.450000</td>\n",
       "      <td>100.975000</td>\n",
       "      <td>108.425000</td>\n",
       "      <td>2.756417</td>\n",
       "      <td>5.447198</td>\n",
       "      <td>5.447198</td>\n",
       "      <td>0.449978</td>\n",
       "    </tr>\n",
       "    <tr>\n",
       "      <th>std</th>\n",
       "      <td>433.177642</td>\n",
       "      <td>135.682035</td>\n",
       "      <td>140.725572</td>\n",
       "      <td>4.034568</td>\n",
       "      <td>6.179768</td>\n",
       "      <td>6.179768</td>\n",
       "      <td>0.355230</td>\n",
       "    </tr>\n",
       "    <tr>\n",
       "      <th>min</th>\n",
       "      <td>2.000000</td>\n",
       "      <td>1.000000</td>\n",
       "      <td>1.000000</td>\n",
       "      <td>0.027778</td>\n",
       "      <td>0.238889</td>\n",
       "      <td>0.238889</td>\n",
       "      <td>0.011373</td>\n",
       "    </tr>\n",
       "    <tr>\n",
       "      <th>25%</th>\n",
       "      <td>24.500000</td>\n",
       "      <td>10.500000</td>\n",
       "      <td>9.750000</td>\n",
       "      <td>0.557946</td>\n",
       "      <td>1.466175</td>\n",
       "      <td>1.466175</td>\n",
       "      <td>0.081353</td>\n",
       "    </tr>\n",
       "    <tr>\n",
       "      <th>50%</th>\n",
       "      <td>170.500000</td>\n",
       "      <td>28.000000</td>\n",
       "      <td>65.000000</td>\n",
       "      <td>2.000000</td>\n",
       "      <td>2.904987</td>\n",
       "      <td>2.904987</td>\n",
       "      <td>0.348588</td>\n",
       "    </tr>\n",
       "    <tr>\n",
       "      <th>75%</th>\n",
       "      <td>369.250000</td>\n",
       "      <td>137.000000</td>\n",
       "      <td>155.500000</td>\n",
       "      <td>3.163690</td>\n",
       "      <td>7.650000</td>\n",
       "      <td>7.650000</td>\n",
       "      <td>0.744808</td>\n",
       "    </tr>\n",
       "    <tr>\n",
       "      <th>max</th>\n",
       "      <td>1605.000000</td>\n",
       "      <td>511.000000</td>\n",
       "      <td>702.000000</td>\n",
       "      <td>18.777778</td>\n",
       "      <td>30.555556</td>\n",
       "      <td>30.555556</td>\n",
       "      <td>1.000000</td>\n",
       "    </tr>\n",
       "  </tbody>\n",
       "</table>\n",
       "</div>"
      ],
      "text/plain": [
       "              edeg          sz        vdeg     vratio     eratio  ratio_cut  \\\n",
       "count    40.000000   40.000000   40.000000  40.000000  40.000000  40.000000   \n",
       "mean    324.450000  100.975000  108.425000   2.756417   5.447198   5.447198   \n",
       "std     433.177642  135.682035  140.725572   4.034568   6.179768   6.179768   \n",
       "min       2.000000    1.000000    1.000000   0.027778   0.238889   0.238889   \n",
       "25%      24.500000   10.500000    9.750000   0.557946   1.466175   1.466175   \n",
       "50%     170.500000   28.000000   65.000000   2.000000   2.904987   2.904987   \n",
       "75%     369.250000  137.000000  155.500000   3.163690   7.650000   7.650000   \n",
       "max    1605.000000  511.000000  702.000000  18.777778  30.555556  30.555556   \n",
       "\n",
       "           n_cut  \n",
       "count  40.000000  \n",
       "mean    0.449978  \n",
       "std     0.355230  \n",
       "min     0.011373  \n",
       "25%     0.081353  \n",
       "50%     0.348588  \n",
       "75%     0.744808  \n",
       "max     1.000000  "
      ]
     },
     "execution_count": 41,
     "metadata": {},
     "output_type": "execute_result"
    }
   ],
   "source": [
    "from imp import reload\n",
    "import gmet\n",
    "reload(gmet)\n",
    "\n",
    "metrics[\"ratio_cut\"] = gmet.ratio_cut_list(facebook2, clusters)\n",
    "metrics[\"n_cut\"] = gmet.n_cut_list(facebook2, clusters)\n",
    "\n",
    "metrics.describe()"
   ]
  },
  {
   "cell_type": "markdown",
   "metadata": {},
   "source": [
    "Même avec une centaine de vertex par sous-graphe en moyenne, on a la moitié des sous-graphes à moins de 8 composantes => OK pour diminuer le nombre de clusters!"
   ]
  },
  {
   "cell_type": "code",
   "execution_count": 38,
   "metadata": {
    "collapsed": false
   },
   "outputs": [
    {
     "data": {
      "text/html": [
       "<div>\n",
       "<table border=\"1\" class=\"dataframe\">\n",
       "  <thead>\n",
       "    <tr style=\"text-align: right;\">\n",
       "      <th></th>\n",
       "      <th>edeg</th>\n",
       "      <th>sz</th>\n",
       "      <th>vdeg</th>\n",
       "      <th>vratio</th>\n",
       "      <th>eratio</th>\n",
       "      <th>ratio_cut</th>\n",
       "      <th>n_cut</th>\n",
       "    </tr>\n",
       "  </thead>\n",
       "  <tbody>\n",
       "    <tr>\n",
       "      <th>count</th>\n",
       "      <td>34.000000</td>\n",
       "      <td>34.000000</td>\n",
       "      <td>34.000000</td>\n",
       "      <td>34.000000</td>\n",
       "      <td>34.000000</td>\n",
       "      <td>34.000000</td>\n",
       "      <td>34.000000</td>\n",
       "    </tr>\n",
       "    <tr>\n",
       "      <th>mean</th>\n",
       "      <td>380.470588</td>\n",
       "      <td>118.500000</td>\n",
       "      <td>126.500000</td>\n",
       "      <td>2.615393</td>\n",
       "      <td>5.722193</td>\n",
       "      <td>5.722193</td>\n",
       "      <td>0.370562</td>\n",
       "    </tr>\n",
       "    <tr>\n",
       "      <th>std</th>\n",
       "      <td>447.435401</td>\n",
       "      <td>140.168135</td>\n",
       "      <td>145.455033</td>\n",
       "      <td>4.274890</td>\n",
       "      <td>6.613659</td>\n",
       "      <td>6.613659</td>\n",
       "      <td>0.319649</td>\n",
       "    </tr>\n",
       "    <tr>\n",
       "      <th>min</th>\n",
       "      <td>11.000000</td>\n",
       "      <td>4.000000</td>\n",
       "      <td>1.000000</td>\n",
       "      <td>0.027778</td>\n",
       "      <td>0.238889</td>\n",
       "      <td>0.238889</td>\n",
       "      <td>0.011373</td>\n",
       "    </tr>\n",
       "    <tr>\n",
       "      <th>25%</th>\n",
       "      <td>44.750000</td>\n",
       "      <td>16.750000</td>\n",
       "      <td>19.000000</td>\n",
       "      <td>0.514011</td>\n",
       "      <td>1.362258</td>\n",
       "      <td>1.362258</td>\n",
       "      <td>0.062289</td>\n",
       "    </tr>\n",
       "    <tr>\n",
       "      <th>50%</th>\n",
       "      <td>253.500000</td>\n",
       "      <td>64.500000</td>\n",
       "      <td>83.500000</td>\n",
       "      <td>1.513333</td>\n",
       "      <td>2.904987</td>\n",
       "      <td>2.904987</td>\n",
       "      <td>0.299860</td>\n",
       "    </tr>\n",
       "    <tr>\n",
       "      <th>75%</th>\n",
       "      <td>404.500000</td>\n",
       "      <td>176.750000</td>\n",
       "      <td>178.750000</td>\n",
       "      <td>2.764803</td>\n",
       "      <td>8.015686</td>\n",
       "      <td>8.015686</td>\n",
       "      <td>0.712185</td>\n",
       "    </tr>\n",
       "    <tr>\n",
       "      <th>max</th>\n",
       "      <td>1605.000000</td>\n",
       "      <td>511.000000</td>\n",
       "      <td>702.000000</td>\n",
       "      <td>18.777778</td>\n",
       "      <td>30.555556</td>\n",
       "      <td>30.555556</td>\n",
       "      <td>0.934066</td>\n",
       "    </tr>\n",
       "  </tbody>\n",
       "</table>\n",
       "</div>"
      ],
      "text/plain": [
       "              edeg          sz        vdeg     vratio     eratio  ratio_cut  \\\n",
       "count    34.000000   34.000000   34.000000  34.000000  34.000000  34.000000   \n",
       "mean    380.470588  118.500000  126.500000   2.615393   5.722193   5.722193   \n",
       "std     447.435401  140.168135  145.455033   4.274890   6.613659   6.613659   \n",
       "min      11.000000    4.000000    1.000000   0.027778   0.238889   0.238889   \n",
       "25%      44.750000   16.750000   19.000000   0.514011   1.362258   1.362258   \n",
       "50%     253.500000   64.500000   83.500000   1.513333   2.904987   2.904987   \n",
       "75%     404.500000  176.750000  178.750000   2.764803   8.015686   8.015686   \n",
       "max    1605.000000  511.000000  702.000000  18.777778  30.555556  30.555556   \n",
       "\n",
       "           n_cut  \n",
       "count  34.000000  \n",
       "mean    0.370562  \n",
       "std     0.319649  \n",
       "min     0.011373  \n",
       "25%     0.062289  \n",
       "50%     0.299860  \n",
       "75%     0.712185  \n",
       "max     0.934066  "
      ]
     },
     "execution_count": 38,
     "metadata": {},
     "output_type": "execute_result"
    }
   ],
   "source": [
    "metrics[metrics.sz >= 4].describe()"
   ]
  },
  {
   "cell_type": "code",
   "execution_count": 39,
   "metadata": {
    "collapsed": false
   },
   "outputs": [
    {
     "data": {
      "text/html": [
       "<div>\n",
       "<table border=\"1\" class=\"dataframe\">\n",
       "  <thead>\n",
       "    <tr style=\"text-align: right;\">\n",
       "      <th></th>\n",
       "      <th>edeg</th>\n",
       "      <th>sz</th>\n",
       "      <th>vdeg</th>\n",
       "      <th>vratio</th>\n",
       "      <th>eratio</th>\n",
       "      <th>ratio_cut</th>\n",
       "      <th>n_cut</th>\n",
       "    </tr>\n",
       "  </thead>\n",
       "  <tbody>\n",
       "  </tbody>\n",
       "</table>\n",
       "</div>"
      ],
      "text/plain": [
       "Empty DataFrame\n",
       "Columns: [edeg, sz, vdeg, vratio, eratio, ratio_cut, n_cut]\n",
       "Index: []"
      ]
     },
     "execution_count": 39,
     "metadata": {},
     "output_type": "execute_result"
    }
   ],
   "source": [
    "metrics[(metrics.sz >=4) & (metrics.ratio_cut < 0.2)]"
   ]
  },
  {
   "cell_type": "code",
   "execution_count": 40,
   "metadata": {
    "collapsed": false
   },
   "outputs": [
    {
     "name": "stdout",
     "output_type": "stream",
     "text": [
      "217.88790575091198 17.99910090602731\n"
     ]
    }
   ],
   "source": [
    "print(metrics.ratio_cut.sum(), metrics.n_cut.sum())"
   ]
  },
  {
   "cell_type": "code",
   "execution_count": null,
   "metadata": {
    "collapsed": true
   },
   "outputs": [],
   "source": []
  }
 ],
 "metadata": {
  "kernelspec": {
   "display_name": "Python 3",
   "language": "python",
   "name": "python3"
  },
  "language_info": {
   "codemirror_mode": {
    "name": "ipython",
    "version": 3
   },
   "file_extension": ".py",
   "mimetype": "text/x-python",
   "name": "python",
   "nbconvert_exporter": "python",
   "pygments_lexer": "ipython3",
   "version": "3.5.1"
  }
 },
 "nbformat": 4,
 "nbformat_minor": 0
}
