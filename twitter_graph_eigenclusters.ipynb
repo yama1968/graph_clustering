{
 "cells": [
  {
   "cell_type": "code",
   "execution_count": 1,
   "metadata": {
    "collapsed": false
   },
   "outputs": [],
   "source": [
    "import numpy as np\n",
    "import pandas as pd\n",
    "import scipy\n",
    "from scipy.sparse import csr_matrix, diags, eye\n",
    "from sklearn.cluster import SpectralClustering\n",
    "from matplotlib import pyplot as plt\n",
    "import pylab\n",
    "\n",
    "plt.style.use('ggplot')\n",
    "pylab.rcParams['figure.figsize'] = (18.0, 12.0)\n",
    "\n",
    "%matplotlib inline"
   ]
  },
  {
   "cell_type": "code",
   "execution_count": 2,
   "metadata": {
    "collapsed": false
   },
   "outputs": [
    {
     "name": "stdout",
     "output_type": "stream",
     "text": [
      "2420766\n"
     ]
    },
    {
     "data": {
      "text/html": [
       "<div>\n",
       "<table border=\"1\" class=\"dataframe\">\n",
       "  <thead>\n",
       "    <tr style=\"text-align: right;\">\n",
       "      <th></th>\n",
       "      <th>0</th>\n",
       "      <th>1</th>\n",
       "    </tr>\n",
       "  </thead>\n",
       "  <tbody>\n",
       "    <tr>\n",
       "      <th>0</th>\n",
       "      <td>214328887</td>\n",
       "      <td>34428380</td>\n",
       "    </tr>\n",
       "    <tr>\n",
       "      <th>1</th>\n",
       "      <td>17116707</td>\n",
       "      <td>28465635</td>\n",
       "    </tr>\n",
       "    <tr>\n",
       "      <th>2</th>\n",
       "      <td>380580781</td>\n",
       "      <td>18996905</td>\n",
       "    </tr>\n",
       "    <tr>\n",
       "      <th>3</th>\n",
       "      <td>221036078</td>\n",
       "      <td>153460275</td>\n",
       "    </tr>\n",
       "    <tr>\n",
       "      <th>4</th>\n",
       "      <td>107830991</td>\n",
       "      <td>17868918</td>\n",
       "    </tr>\n",
       "  </tbody>\n",
       "</table>\n",
       "</div>"
      ],
      "text/plain": [
       "           0          1\n",
       "0  214328887   34428380\n",
       "1   17116707   28465635\n",
       "2  380580781   18996905\n",
       "3  221036078  153460275\n",
       "4  107830991   17868918"
      ]
     },
     "execution_count": 2,
     "metadata": {},
     "output_type": "execute_result"
    }
   ],
   "source": [
    "#df = pd.read_csv(\"./facebook_combined.txt.gz\", compression='infer', sep=\" \")\n",
    "df = pd.read_csv(\"./twitter_combined.txt.gz\", compression='infer', sep=\" \", header=None)\n",
    "\n",
    "print(len(df))\n",
    "df.head()"
   ]
  },
  {
   "cell_type": "code",
   "execution_count": 3,
   "metadata": {
    "collapsed": false
   },
   "outputs": [],
   "source": [
    "df.columns = [\"0\", \"1\"]"
   ]
  },
  {
   "cell_type": "code",
   "execution_count": 4,
   "metadata": {
    "collapsed": false
   },
   "outputs": [
    {
     "data": {
      "text/html": [
       "<div>\n",
       "<table border=\"1\" class=\"dataframe\">\n",
       "  <thead>\n",
       "    <tr style=\"text-align: right;\">\n",
       "      <th></th>\n",
       "      <th>0</th>\n",
       "      <th>1</th>\n",
       "    </tr>\n",
       "  </thead>\n",
       "  <tbody>\n",
       "    <tr>\n",
       "      <th>0</th>\n",
       "      <td>64848</td>\n",
       "      <td>33444</td>\n",
       "    </tr>\n",
       "    <tr>\n",
       "      <th>1</th>\n",
       "      <td>15266</td>\n",
       "      <td>30189</td>\n",
       "    </tr>\n",
       "    <tr>\n",
       "      <th>2</th>\n",
       "      <td>76829</td>\n",
       "      <td>19302</td>\n",
       "    </tr>\n",
       "    <tr>\n",
       "      <th>3</th>\n",
       "      <td>65515</td>\n",
       "      <td>58679</td>\n",
       "    </tr>\n",
       "    <tr>\n",
       "      <th>4</th>\n",
       "      <td>52420</td>\n",
       "      <td>16766</td>\n",
       "    </tr>\n",
       "  </tbody>\n",
       "</table>\n",
       "</div>"
      ],
      "text/plain": [
       "       0      1\n",
       "0  64848  33444\n",
       "1  15266  30189\n",
       "2  76829  19302\n",
       "3  65515  58679\n",
       "4  52420  16766"
      ]
     },
     "execution_count": 4,
     "metadata": {},
     "output_type": "execute_result"
    }
   ],
   "source": [
    "nodes = list(set(df[\"0\"]) | set(df[\"1\"]))\n",
    "nodes.sort()\n",
    "nodes[:20]\n",
    "nodes_to_idx = {n:i for i,n in enumerate(nodes)}\n",
    "\n",
    "df_o = df\n",
    "df = pd.DataFrame({\"0\": df[\"0\"].apply(lambda x: nodes_to_idx[x]), \n",
    "                   \"1\": df[\"1\"].apply(lambda x: nodes_to_idx[x])})\n",
    "df.head()          "
   ]
  },
  {
   "cell_type": "code",
   "execution_count": 5,
   "metadata": {
    "collapsed": false
   },
   "outputs": [
    {
     "data": {
      "text/html": [
       "<div>\n",
       "<table border=\"1\" class=\"dataframe\">\n",
       "  <thead>\n",
       "    <tr style=\"text-align: right;\">\n",
       "      <th></th>\n",
       "      <th>0</th>\n",
       "      <th>1</th>\n",
       "    </tr>\n",
       "  </thead>\n",
       "  <tbody>\n",
       "    <tr>\n",
       "      <th>count</th>\n",
       "      <td>2.420766e+06</td>\n",
       "      <td>2.420766e+06</td>\n",
       "    </tr>\n",
       "    <tr>\n",
       "      <th>mean</th>\n",
       "      <td>3.863062e+04</td>\n",
       "      <td>3.579259e+04</td>\n",
       "    </tr>\n",
       "    <tr>\n",
       "      <th>std</th>\n",
       "      <td>2.424377e+04</td>\n",
       "      <td>2.372641e+04</td>\n",
       "    </tr>\n",
       "    <tr>\n",
       "      <th>min</th>\n",
       "      <td>0.000000e+00</td>\n",
       "      <td>0.000000e+00</td>\n",
       "    </tr>\n",
       "    <tr>\n",
       "      <th>25%</th>\n",
       "      <td>1.635800e+04</td>\n",
       "      <td>1.423600e+04</td>\n",
       "    </tr>\n",
       "    <tr>\n",
       "      <th>50%</th>\n",
       "      <td>3.852100e+04</td>\n",
       "      <td>3.366600e+04</td>\n",
       "    </tr>\n",
       "    <tr>\n",
       "      <th>75%</th>\n",
       "      <td>6.046100e+04</td>\n",
       "      <td>5.655900e+04</td>\n",
       "    </tr>\n",
       "    <tr>\n",
       "      <th>max</th>\n",
       "      <td>8.130500e+04</td>\n",
       "      <td>8.130500e+04</td>\n",
       "    </tr>\n",
       "  </tbody>\n",
       "</table>\n",
       "</div>"
      ],
      "text/plain": [
       "                  0             1\n",
       "count  2.420766e+06  2.420766e+06\n",
       "mean   3.863062e+04  3.579259e+04\n",
       "std    2.424377e+04  2.372641e+04\n",
       "min    0.000000e+00  0.000000e+00\n",
       "25%    1.635800e+04  1.423600e+04\n",
       "50%    3.852100e+04  3.366600e+04\n",
       "75%    6.046100e+04  5.655900e+04\n",
       "max    8.130500e+04  8.130500e+04"
      ]
     },
     "execution_count": 5,
     "metadata": {},
     "output_type": "execute_result"
    }
   ],
   "source": [
    "df.describe()"
   ]
  },
  {
   "cell_type": "code",
   "execution_count": 6,
   "metadata": {
    "collapsed": false
   },
   "outputs": [
    {
     "name": "stdout",
     "output_type": "stream",
     "text": [
      "2420766 81306\n"
     ]
    }
   ],
   "source": [
    "e = len(df)\n",
    "v = max(np.max(np.unique(df[\"0\"])), np.max(np.unique(df[\"1\"]))) + 1\n",
    "print(e,v)"
   ]
  },
  {
   "cell_type": "markdown",
   "metadata": {},
   "source": [
    "## Passage au Laplacien"
   ]
  },
  {
   "cell_type": "code",
   "execution_count": 7,
   "metadata": {
    "collapsed": false
   },
   "outputs": [],
   "source": [
    "facebook2 = csr_matrix((np.ones(e), (df['0'], df['1'])), shape=(v,v))\n",
    "facebook2 = 1.0 * ((facebook2 + facebook2.T) !=0)"
   ]
  },
  {
   "cell_type": "code",
   "execution_count": 8,
   "metadata": {
    "collapsed": false
   },
   "outputs": [
    {
     "data": {
      "text/plain": [
       "<81306x81306 sparse matrix of type '<class 'numpy.bool_'>'\n",
       "\twith 0 stored elements in Compressed Sparse Row format>"
      ]
     },
     "execution_count": 8,
     "metadata": {},
     "output_type": "execute_result"
    }
   ],
   "source": [
    "(facebook2 > 1)"
   ]
  },
  {
   "cell_type": "code",
   "execution_count": 9,
   "metadata": {
    "collapsed": false
   },
   "outputs": [
    {
     "name": "stdout",
     "output_type": "stream",
     "text": [
      "CPU times: user 8 ms, sys: 0 ns, total: 8 ms\n",
      "Wall time: 10.1 ms\n",
      "(81306,)\n",
      "0\n"
     ]
    }
   ],
   "source": [
    "%time deg = np.array(facebook2.sum(axis=0))[0]\n",
    "\n",
    "print(deg.shape)\n",
    "print((deg == 0).sum())"
   ]
  },
  {
   "cell_type": "code",
   "execution_count": 10,
   "metadata": {
    "collapsed": false
   },
   "outputs": [
    {
     "data": {
      "text/plain": [
       "<81306x81306 sparse matrix of type '<class 'numpy.float32'>'\n",
       "\twith 2765898 stored elements in Compressed Sparse Row format>"
      ]
     },
     "execution_count": 10,
     "metadata": {},
     "output_type": "execute_result"
    }
   ],
   "source": [
    "L = diags(np.array(facebook2.sum(axis=0))[0]) - facebook2\n",
    "L = L.astype(np.float32)\n",
    "L"
   ]
  },
  {
   "cell_type": "code",
   "execution_count": 11,
   "metadata": {
    "collapsed": true
   },
   "outputs": [],
   "source": [
    "from scipy.sparse.linalg import eigsh"
   ]
  },
  {
   "cell_type": "code",
   "execution_count": 12,
   "metadata": {
    "collapsed": false
   },
   "outputs": [
    {
     "name": "stdout",
     "output_type": "stream",
     "text": [
      "2032 12\n",
      "CPU times: user 13min 19s, sys: 13.8 s, total: 13min 33s\n",
      "Wall time: 3min 23s\n"
     ]
    },
    {
     "data": {
      "text/plain": [
       "array([ -1.17620029e-05,   4.86858673e-02,   5.01649976e-02,\n",
       "         8.99573565e-02,   1.08899884e-01,   1.35342017e-01,\n",
       "         1.55626819e-01,   1.68121129e-01,   1.83245599e-01,\n",
       "         1.85005590e-01,   1.85225844e-01,   2.13503286e-01], dtype=float32)"
      ]
     },
     "execution_count": 12,
     "metadata": {},
     "output_type": "execute_result"
    }
   ],
   "source": [
    "import os.path\n",
    "import pickle\n",
    "\n",
    "n_clusters = int(L.shape[0]/40) \n",
    "neig = 2 + int(np.log2(n_clusters))\n",
    "\n",
    "print(n_clusters, neig)\n",
    "\n",
    "f_vec = \"pkl/twitter_eigen_vec_%d.pkl\" % neig\n",
    "f_val = \"pkl/twitter_eigen_val_%d.pkl\" % neig\n",
    "\n",
    "if os.path.isfile(f_vec) and os.path.isfile(f_val):\n",
    "    \n",
    "    with open(f_vec, \"rb\") as f:\n",
    "        eigvec = pickle.load(f)\n",
    "    with open(f_val, \"rb\") as f:\n",
    "        eigval = pickle.load(f)\n",
    "    \n",
    "else:\n",
    "    %time eigval, eigvec = eigsh(L, neig, which='SM', tol=1e-3)\n",
    "    with open(\"pkl/twitter_eigen_vec.pkl\", \"wb\") as f:\n",
    "        pickle.dump(eigvec, f)\n",
    "    with open(\"pkl/twitter_eigen_val.pkl\", \"wb\") as f:\n",
    "        pickle.dump(eigval, f)\n",
    "# 15 min for 14 et 20...\n",
    "# 21 min for 12\n",
    "\n",
    "#%time eigval, eigvec = eigsh(L, neig, which='LM', tol=1e-2, sigma=0)\n",
    "# very very long! => SystemError: gstrf was called with invalid arguments\n",
    "\n",
    "eigval"
   ]
  },
  {
   "cell_type": "code",
   "execution_count": 13,
   "metadata": {
    "collapsed": false
   },
   "outputs": [
    {
     "data": {
      "text/plain": [
       "[<matplotlib.lines.Line2D at 0x7f61f9910c18>]"
      ]
     },
     "execution_count": 13,
     "metadata": {},
     "output_type": "execute_result"
    },
    {
     "data": {
      "image/png": "[encoded data removed]",
      "text/plain": [
       "<matplotlib.figure.Figure at 0x7f61fd1bc550>"
      ]
     },
     "metadata": {},
     "output_type": "display_data"
    }
   ],
   "source": [
    "plt.plot(eigval)"
   ]
  },
  {
   "cell_type": "code",
   "execution_count": 14,
   "metadata": {
    "collapsed": false
   },
   "outputs": [
    {
     "name": "stdout",
     "output_type": "stream",
     "text": [
      "1794 79512\n"
     ]
    }
   ],
   "source": [
    "e1 = eigvec[:,1]\n",
    "print((e1>=0).sum(), (e1<0).sum())"
   ]
  },
  {
   "cell_type": "code",
   "execution_count": 15,
   "metadata": {
    "collapsed": false
   },
   "outputs": [
    {
     "name": "stdout",
     "output_type": "stream",
     "text": [
      "(2, 81306)\n"
     ]
    },
    {
     "data": {
      "text/plain": [
       "<matplotlib.collections.PathCollection at 0x7f61f98399e8>"
      ]
     },
     "execution_count": 15,
     "metadata": {},
     "output_type": "execute_result"
    },
    {
     "data": {
      "image/png": "[encoded data removed]",
      "text/plain": [
       "<matplotlib.figure.Figure at 0x7f61fcb935f8>"
      ]
     },
     "metadata": {},
     "output_type": "display_data"
    }
   ],
   "source": [
    "proj = eigvec[:, 1:3].T\n",
    "print(proj.shape)\n",
    "\n",
    "pylab.rcParams['figure.figsize'] = (12.0, 8.0)\n",
    "\n",
    "plt.scatter(proj[0], proj[1])"
   ]
  },
  {
   "cell_type": "markdown",
   "metadata": {},
   "source": [
    "## kmeans clustering"
   ]
  },
  {
   "cell_type": "code",
   "execution_count": 16,
   "metadata": {
    "collapsed": false
   },
   "outputs": [
    {
     "name": "stdout",
     "output_type": "stream",
     "text": [
      "(81306, 2)\n",
      "CPU times: user 464 ms, sys: 4 ms, total: 468 ms\n",
      "Wall time: 119 ms\n",
      "4\n",
      "[[-0.00011183 -0.00793462  0.09834324  0.07628022]\n",
      " [-0.00012543  0.10446643  0.00735456  0.0056759 ]]\n"
     ]
    },
    {
     "data": {
      "image/png": "[encoded data removed]",
      "text/plain": [
       "<matplotlib.figure.Figure at 0x7f61f988c0b8>"
      ]
     },
     "metadata": {},
     "output_type": "display_data"
    }
   ],
   "source": [
    "from sklearn.cluster import KMeans, AgglomerativeClustering, DBSCAN\n",
    "\n",
    "n_clusters = 4\n",
    "\n",
    "clf = KMeans(init='k-means++', n_clusters=n_clusters, n_init=10)\n",
    "#clf = AgglomerativeClustering(n_clusters = n_clusters)\n",
    "# clf = DBSCAN(eps = 0.005)\n",
    "\n",
    "print(proj.T.shape)\n",
    "\n",
    "%time clusters = clf.fit_predict(proj.T)\n",
    "\n",
    "print(len(np.unique(clusters)))\n",
    "\n",
    "plt.scatter(proj[0], proj[1], c=clusters)\n",
    "\n",
    "if \"cluster_centers_\" in clf.__dict__:\n",
    "    centers = clf.cluster_centers_.T\n",
    "    print(centers)\n",
    "    plt.scatter(centers[0], centers[1], marker='*', s=200, c='black')"
   ]
  },
  {
   "cell_type": "code",
   "execution_count": 17,
   "metadata": {
    "collapsed": false
   },
   "outputs": [
    {
     "name": "stdout",
     "output_type": "stream",
     "text": [
      "[ 0.00339258 -0.00794127 -0.00035489 -0.09664207 -0.0809589  -0.00070121\n",
      " -0.07494913 -0.16104829 -0.02921503 -0.09841439 -0.13561624 -0.10767491] [ 0.0035505   0.10057445  0.10452624  0.00057749  0.00088364  0.17268604\n",
      "  0.00193609  0.00124813  0.08313013  0.10566136  0.00125007  0.0108919 ] [  3.50707606e-03   3.87251885e-06   1.08771587e-06   1.51920051e-06\n",
      "   1.16164983e-06  -7.05782766e-09  -1.81625339e-07  -1.78497700e-07\n",
      "  -3.85445702e-07  -5.18699551e-07   3.86922153e-07   5.72537715e-07]\n",
      "[  6.33207959e+03   9.21525478e+00   9.53460312e+00   1.02859955e+01\n",
      "   1.22185841e+01   5.76743650e+00   1.30064020e+01   6.16156578e+00\n",
      "   8.90114021e+00   4.90014124e+00   7.30640030e+00   8.43406296e+00]\n"
     ]
    }
   ],
   "source": [
    "print(eigvec.min(axis=0), eigvec.max(axis=0), eigvec.mean(axis=0))\n",
    "print(1/(eigvec.max(axis=0) - eigvec.min(axis=0)))"
   ]
  },
  {
   "cell_type": "code",
   "execution_count": 18,
   "metadata": {
    "collapsed": false
   },
   "outputs": [
    {
     "name": "stdout",
     "output_type": "stream",
     "text": [
      "(81306, 12) (81306, 12)\n",
      "[ 0.72502184  0.07321648  0.0033941   0.99407542  0.98921734  0.00404415\n",
      "  0.97481602  0.9923085   0.26004368  0.48224187  0.99086934  0.90814185]\n"
     ]
    }
   ],
   "source": [
    "eigvec_n = (eigvec-eigvec.min(axis=0)) / (eigvec.max(axis=0) - eigvec.min(axis=0))\n",
    "print(eigvec_n.shape, eigvec.shape)\n",
    "print(eigvec_n.mean(axis=0))"
   ]
  },
  {
   "cell_type": "code",
   "execution_count": 19,
   "metadata": {
    "collapsed": false
   },
   "outputs": [
    {
     "name": "stdout",
     "output_type": "stream",
     "text": [
      "n_clusters = 2032\n",
      "(81306, 11)\n"
     ]
    },
    {
     "name": "stderr",
     "output_type": "stream",
     "text": [
      "/home/yannick/bin/anaconda3/envs/py35/lib/python3.5/site-packages/sklearn/externals/joblib/hashing.py:197: DeprecationWarning: Changing the shape of non-C contiguous array by\n",
      "descriptor assignment is deprecated. To maintain\n",
      "the Fortran contiguity of a multidimensional Fortran\n",
      "array, use 'a.T.view(...).T' instead\n",
      "  obj_bytes_view = obj.view(self.np.uint8)\n",
      "/home/yannick/bin/anaconda3/envs/py35/lib/python3.5/site-packages/sklearn/externals/joblib/hashing.py:197: DeprecationWarning: Changing the shape of non-C contiguous array by\n",
      "descriptor assignment is deprecated. To maintain\n",
      "the Fortran contiguity of a multidimensional Fortran\n",
      "array, use 'a.T.view(...).T' instead\n",
      "  obj_bytes_view = obj.view(self.np.uint8)\n",
      "/home/yannick/bin/anaconda3/envs/py35/lib/python3.5/site-packages/sklearn/externals/joblib/hashing.py:197: DeprecationWarning: Changing the shape of non-C contiguous array by\n",
      "descriptor assignment is deprecated. To maintain\n",
      "the Fortran contiguity of a multidimensional Fortran\n",
      "array, use 'a.T.view(...).T' instead\n",
      "  obj_bytes_view = obj.view(self.np.uint8)\n",
      "/home/yannick/bin/anaconda3/envs/py35/lib/python3.5/site-packages/sklearn/externals/joblib/hashing.py:197: DeprecationWarning: Changing the shape of non-C contiguous array by\n",
      "descriptor assignment is deprecated. To maintain\n",
      "the Fortran contiguity of a multidimensional Fortran\n",
      "array, use 'a.T.view(...).T' instead\n",
      "  obj_bytes_view = obj.view(self.np.uint8)\n",
      "/home/yannick/bin/anaconda3/envs/py35/lib/python3.5/site-packages/sklearn/externals/joblib/hashing.py:197: DeprecationWarning: Changing the shape of non-C contiguous array by\n",
      "descriptor assignment is deprecated. To maintain\n",
      "the Fortran contiguity of a multidimensional Fortran\n",
      "array, use 'a.T.view(...).T' instead\n",
      "  obj_bytes_view = obj.view(self.np.uint8)\n",
      "/home/yannick/bin/anaconda3/envs/py35/lib/python3.5/site-packages/sklearn/externals/joblib/hashing.py:197: DeprecationWarning: Changing the shape of non-C contiguous array by\n",
      "descriptor assignment is deprecated. To maintain\n",
      "the Fortran contiguity of a multidimensional Fortran\n",
      "array, use 'a.T.view(...).T' instead\n",
      "  obj_bytes_view = obj.view(self.np.uint8)\n",
      "/home/yannick/bin/anaconda3/envs/py35/lib/python3.5/site-packages/sklearn/externals/joblib/hashing.py:197: DeprecationWarning: Changing the shape of non-C contiguous array by\n",
      "descriptor assignment is deprecated. To maintain\n",
      "the Fortran contiguity of a multidimensional Fortran\n",
      "array, use 'a.T.view(...).T' instead\n",
      "  obj_bytes_view = obj.view(self.np.uint8)\n",
      "/home/yannick/bin/anaconda3/envs/py35/lib/python3.5/site-packages/sklearn/externals/joblib/hashing.py:197: DeprecationWarning: Changing the shape of non-C contiguous array by\n",
      "descriptor assignment is deprecated. To maintain\n",
      "the Fortran contiguity of a multidimensional Fortran\n",
      "array, use 'a.T.view(...).T' instead\n",
      "  obj_bytes_view = obj.view(self.np.uint8)\n",
      "/home/yannick/bin/anaconda3/envs/py35/lib/python3.5/site-packages/sklearn/externals/joblib/hashing.py:197: DeprecationWarning: Changing the shape of non-C contiguous array by\n",
      "descriptor assignment is deprecated. To maintain\n",
      "the Fortran contiguity of a multidimensional Fortran\n",
      "array, use 'a.T.view(...).T' instead\n",
      "  obj_bytes_view = obj.view(self.np.uint8)\n",
      "/home/yannick/bin/anaconda3/envs/py35/lib/python3.5/site-packages/sklearn/externals/joblib/hashing.py:197: DeprecationWarning: Changing the shape of non-C contiguous array by\n",
      "descriptor assignment is deprecated. To maintain\n",
      "the Fortran contiguity of a multidimensional Fortran\n",
      "array, use 'a.T.view(...).T' instead\n",
      "  obj_bytes_view = obj.view(self.np.uint8)\n"
     ]
    },
    {
     "name": "stdout",
     "output_type": "stream",
     "text": [
      "CPU times: user 348 ms, sys: 96 ms, total: 444 ms\n",
      "Wall time: 3min 26s\n",
      "2032\n"
     ]
    },
    {
     "data": {
      "image/png": "[encoded data removed]",
      "text/plain": [
       "<matplotlib.figure.Figure at 0x7f61fcb7af28>"
      ]
     },
     "metadata": {},
     "output_type": "display_data"
    }
   ],
   "source": [
    "n_clusters = int(v/40)\n",
    "print(\"n_clusters = %d\" % n_clusters)\n",
    "\n",
    "clf = KMeans(init='k-means++', n_clusters=n_clusters, n_init=10, n_jobs=4)\n",
    "#clf = AgglomerativeClustering(n_clusters = n_clusters)\n",
    "#clf = DBSCAN(eps = 0.0005)\n",
    "\n",
    "X = eigvec_n[:,1:]\n",
    "\n",
    "print(X.shape)\n",
    "%time clusters = clf.fit_predict(X)\n",
    "print(len(np.unique(clusters)))\n",
    "\n",
    "plt.scatter(X[:,0], X[:,1], c=clusters)\n",
    "\n",
    "if \"cluster_centers_\" in clf.__dict__:\n",
    "    centers = clf.cluster_centers_.T\n",
    "    # print(centers)\n",
    "    plt.scatter(centers[0], centers[1], marker='*', s=200, c='black')"
   ]
  },
  {
   "cell_type": "markdown",
   "metadata": {},
   "source": [
    "## display clustered graphs"
   ]
  },
  {
   "cell_type": "code",
   "execution_count": 20,
   "metadata": {
    "collapsed": false
   },
   "outputs": [
    {
     "data": {
      "text/plain": [
       "<matplotlib.axes._subplots.AxesSubplot at 0x7f61f97ee470>"
      ]
     },
     "execution_count": 20,
     "metadata": {},
     "output_type": "execute_result"
    },
    {
     "data": {
      "image/png": "[encoded data removed]",
      "text/plain": [
       "<matplotlib.figure.Figure at 0x7f61f97ea160>"
      ]
     },
     "metadata": {},
     "output_type": "display_data"
    }
   ],
   "source": [
    "vc = pd.Series(clusters).value_counts()\n",
    "vc.hist(bins=100)"
   ]
  },
  {
   "cell_type": "code",
   "execution_count": 21,
   "metadata": {
    "collapsed": false
   },
   "outputs": [
    {
     "data": {
      "text/plain": [
       "cnt\n",
       "1      424\n",
       "2      188\n",
       "3      120\n",
       "4       87\n",
       "5       73\n",
       "6       45\n",
       "7       57\n",
       "8       38\n",
       "9       46\n",
       "10      32\n",
       "11      34\n",
       "12      26\n",
       "13      15\n",
       "14      13\n",
       "15      20\n",
       "16      17\n",
       "17      27\n",
       "18      20\n",
       "19      16\n",
       "20      23\n",
       "21      13\n",
       "22      12\n",
       "23      18\n",
       "24      16\n",
       "25      14\n",
       "26      13\n",
       "27      11\n",
       "28      16\n",
       "29      13\n",
       "30      12\n",
       "      ... \n",
       "351      1\n",
       "354      1\n",
       "355      1\n",
       "357      1\n",
       "359      1\n",
       "360      1\n",
       "362      1\n",
       "369      1\n",
       "374      1\n",
       "376      1\n",
       "416      1\n",
       "433      1\n",
       "437      1\n",
       "450      1\n",
       "460      1\n",
       "491      1\n",
       "497      1\n",
       "505      1\n",
       "528      1\n",
       "560      1\n",
       "567      1\n",
       "582      1\n",
       "584      1\n",
       "591      1\n",
       "600      1\n",
       "628      1\n",
       "676      1\n",
       "711      1\n",
       "767      1\n",
       "828      1\n",
       "dtype: int64"
      ]
     },
     "execution_count": 21,
     "metadata": {},
     "output_type": "execute_result"
    }
   ],
   "source": [
    "pd.DataFrame({'cnt': vc}).groupby([\"cnt\"]).size()"
   ]
  },
  {
   "cell_type": "code",
   "execution_count": 22,
   "metadata": {
    "collapsed": false
   },
   "outputs": [
    {
     "name": "stdout",
     "output_type": "stream",
     "text": [
      "CPU times: user 25 s, sys: 232 ms, total: 25.2 s\n",
      "Wall time: 25.2 s\n"
     ]
    },
    {
     "data": {
      "text/plain": [
       "<networkx.classes.graph.Graph at 0x7f61f7912d68>"
      ]
     },
     "execution_count": 22,
     "metadata": {},
     "output_type": "execute_result"
    }
   ],
   "source": [
    "import networkx as nx\n",
    "\n",
    "%time g = nx.Graph(list(df.to_records(index=False)))\n",
    "g"
   ]
  },
  {
   "cell_type": "code",
   "execution_count": 23,
   "metadata": {
    "collapsed": false
   },
   "outputs": [
    {
     "name": "stdout",
     "output_type": "stream",
     "text": [
      "Cluster #5 is of size 3\n",
      "pseudo-degree of cluster is 31\n"
     ]
    },
    {
     "data": {
      "image/png": "[encoded data removed]",
      "text/plain": [
       "<matplotlib.figure.Figure at 0x7f61f97b15c0>"
      ]
     },
     "metadata": {},
     "output_type": "display_data"
    }
   ],
   "source": [
    "from IPython.html.widgets import interact\n",
    "import graph_helpers\n",
    "from imp import reload\n",
    "reload(graph_helpers)\n",
    "\n",
    "@interact\n",
    "def plot(cl = ('5', '6', '7', '8', '10', '20', '30', '27', '215', '42', '1150'), \n",
    "         degree=(\"0\", \"1\", \"2\"), layout=(\"spring\", \"std\", \"spectral\")):\n",
    "    cl = int(cl)\n",
    "    print(\"Cluster #%d is of size %d\" % (cl, (clusters == cl).sum()))\n",
    "    \n",
    "    print(\"pseudo-degree of cluster is %d\" % graph_helpers.get_deg_sub(facebook2, clusters == cl))\n",
    "    \n",
    "    graph_helpers.plot_subgraph_links(facebook2, clusters == cl, int(degree), layout=layout, graph=g)"
   ]
  },
  {
   "cell_type": "code",
   "execution_count": 24,
   "metadata": {
    "collapsed": false,
    "scrolled": true
   },
   "outputs": [
    {
     "name": "stdout",
     "output_type": "stream",
     "text": [
      "1746 81\n",
      "128\n",
      "3\n"
     ]
    },
    {
     "data": {
      "text/html": [
       "<div>\n",
       "<table border=\"1\" class=\"dataframe\">\n",
       "  <thead>\n",
       "    <tr style=\"text-align: right;\">\n",
       "      <th></th>\n",
       "      <th>0</th>\n",
       "      <th>1</th>\n",
       "    </tr>\n",
       "  </thead>\n",
       "  <tbody>\n",
       "    <tr>\n",
       "      <th>1679589</th>\n",
       "      <td>46401</td>\n",
       "      <td>11249</td>\n",
       "    </tr>\n",
       "    <tr>\n",
       "      <th>1702103</th>\n",
       "      <td>6359</td>\n",
       "      <td>46401</td>\n",
       "    </tr>\n",
       "    <tr>\n",
       "      <th>2383045</th>\n",
       "      <td>482</td>\n",
       "      <td>46401</td>\n",
       "    </tr>\n",
       "    <tr>\n",
       "      <th>2384153</th>\n",
       "      <td>34575</td>\n",
       "      <td>46401</td>\n",
       "    </tr>\n",
       "    <tr>\n",
       "      <th>2408159</th>\n",
       "      <td>46401</td>\n",
       "      <td>38556</td>\n",
       "    </tr>\n",
       "    <tr>\n",
       "      <th>2408160</th>\n",
       "      <td>46401</td>\n",
       "      <td>28345</td>\n",
       "    </tr>\n",
       "    <tr>\n",
       "      <th>2408161</th>\n",
       "      <td>46401</td>\n",
       "      <td>11852</td>\n",
       "    </tr>\n",
       "    <tr>\n",
       "      <th>2408162</th>\n",
       "      <td>46401</td>\n",
       "      <td>44979</td>\n",
       "    </tr>\n",
       "    <tr>\n",
       "      <th>2408163</th>\n",
       "      <td>46401</td>\n",
       "      <td>70900</td>\n",
       "    </tr>\n",
       "    <tr>\n",
       "      <th>2408164</th>\n",
       "      <td>46401</td>\n",
       "      <td>55162</td>\n",
       "    </tr>\n",
       "    <tr>\n",
       "      <th>2408165</th>\n",
       "      <td>46401</td>\n",
       "      <td>23410</td>\n",
       "    </tr>\n",
       "    <tr>\n",
       "      <th>2408166</th>\n",
       "      <td>46401</td>\n",
       "      <td>39194</td>\n",
       "    </tr>\n",
       "    <tr>\n",
       "      <th>2408167</th>\n",
       "      <td>46401</td>\n",
       "      <td>29202</td>\n",
       "    </tr>\n",
       "    <tr>\n",
       "      <th>2408168</th>\n",
       "      <td>46401</td>\n",
       "      <td>51205</td>\n",
       "    </tr>\n",
       "    <tr>\n",
       "      <th>2408169</th>\n",
       "      <td>46401</td>\n",
       "      <td>34027</td>\n",
       "    </tr>\n",
       "    <tr>\n",
       "      <th>2408170</th>\n",
       "      <td>46401</td>\n",
       "      <td>54771</td>\n",
       "    </tr>\n",
       "    <tr>\n",
       "      <th>2408171</th>\n",
       "      <td>46401</td>\n",
       "      <td>53950</td>\n",
       "    </tr>\n",
       "    <tr>\n",
       "      <th>2408172</th>\n",
       "      <td>46401</td>\n",
       "      <td>50792</td>\n",
       "    </tr>\n",
       "    <tr>\n",
       "      <th>2408173</th>\n",
       "      <td>46401</td>\n",
       "      <td>29387</td>\n",
       "    </tr>\n",
       "    <tr>\n",
       "      <th>2408174</th>\n",
       "      <td>46401</td>\n",
       "      <td>26707</td>\n",
       "    </tr>\n",
       "    <tr>\n",
       "      <th>2408175</th>\n",
       "      <td>46401</td>\n",
       "      <td>10026</td>\n",
       "    </tr>\n",
       "    <tr>\n",
       "      <th>2408176</th>\n",
       "      <td>46401</td>\n",
       "      <td>32230</td>\n",
       "    </tr>\n",
       "    <tr>\n",
       "      <th>2408177</th>\n",
       "      <td>46401</td>\n",
       "      <td>41696</td>\n",
       "    </tr>\n",
       "    <tr>\n",
       "      <th>2408178</th>\n",
       "      <td>46401</td>\n",
       "      <td>48303</td>\n",
       "    </tr>\n",
       "    <tr>\n",
       "      <th>2408179</th>\n",
       "      <td>46401</td>\n",
       "      <td>32544</td>\n",
       "    </tr>\n",
       "    <tr>\n",
       "      <th>2408180</th>\n",
       "      <td>46401</td>\n",
       "      <td>482</td>\n",
       "    </tr>\n",
       "    <tr>\n",
       "      <th>2408181</th>\n",
       "      <td>46401</td>\n",
       "      <td>32610</td>\n",
       "    </tr>\n",
       "    <tr>\n",
       "      <th>2408182</th>\n",
       "      <td>46401</td>\n",
       "      <td>48801</td>\n",
       "    </tr>\n",
       "    <tr>\n",
       "      <th>2408183</th>\n",
       "      <td>46401</td>\n",
       "      <td>35995</td>\n",
       "    </tr>\n",
       "    <tr>\n",
       "      <th>2408184</th>\n",
       "      <td>46401</td>\n",
       "      <td>42651</td>\n",
       "    </tr>\n",
       "    <tr>\n",
       "      <th>...</th>\n",
       "      <td>...</td>\n",
       "      <td>...</td>\n",
       "    </tr>\n",
       "    <tr>\n",
       "      <th>2408256</th>\n",
       "      <td>46401</td>\n",
       "      <td>11249</td>\n",
       "    </tr>\n",
       "    <tr>\n",
       "      <th>2408257</th>\n",
       "      <td>46401</td>\n",
       "      <td>48359</td>\n",
       "    </tr>\n",
       "    <tr>\n",
       "      <th>2408258</th>\n",
       "      <td>46401</td>\n",
       "      <td>46560</td>\n",
       "    </tr>\n",
       "    <tr>\n",
       "      <th>2408259</th>\n",
       "      <td>46401</td>\n",
       "      <td>21539</td>\n",
       "    </tr>\n",
       "    <tr>\n",
       "      <th>2408260</th>\n",
       "      <td>46401</td>\n",
       "      <td>54565</td>\n",
       "    </tr>\n",
       "    <tr>\n",
       "      <th>2408261</th>\n",
       "      <td>46401</td>\n",
       "      <td>12398</td>\n",
       "    </tr>\n",
       "    <tr>\n",
       "      <th>2408262</th>\n",
       "      <td>46401</td>\n",
       "      <td>37430</td>\n",
       "    </tr>\n",
       "    <tr>\n",
       "      <th>2408263</th>\n",
       "      <td>46401</td>\n",
       "      <td>40876</td>\n",
       "    </tr>\n",
       "    <tr>\n",
       "      <th>2408264</th>\n",
       "      <td>46401</td>\n",
       "      <td>2444</td>\n",
       "    </tr>\n",
       "    <tr>\n",
       "      <th>2408265</th>\n",
       "      <td>46401</td>\n",
       "      <td>80184</td>\n",
       "    </tr>\n",
       "    <tr>\n",
       "      <th>2408266</th>\n",
       "      <td>46401</td>\n",
       "      <td>52218</td>\n",
       "    </tr>\n",
       "    <tr>\n",
       "      <th>2408267</th>\n",
       "      <td>46401</td>\n",
       "      <td>38449</td>\n",
       "    </tr>\n",
       "    <tr>\n",
       "      <th>2408268</th>\n",
       "      <td>46401</td>\n",
       "      <td>14344</td>\n",
       "    </tr>\n",
       "    <tr>\n",
       "      <th>2408269</th>\n",
       "      <td>46401</td>\n",
       "      <td>15649</td>\n",
       "    </tr>\n",
       "    <tr>\n",
       "      <th>2408270</th>\n",
       "      <td>46401</td>\n",
       "      <td>46366</td>\n",
       "    </tr>\n",
       "    <tr>\n",
       "      <th>2408271</th>\n",
       "      <td>46401</td>\n",
       "      <td>15740</td>\n",
       "    </tr>\n",
       "    <tr>\n",
       "      <th>2408272</th>\n",
       "      <td>46401</td>\n",
       "      <td>37030</td>\n",
       "    </tr>\n",
       "    <tr>\n",
       "      <th>2408273</th>\n",
       "      <td>46401</td>\n",
       "      <td>55408</td>\n",
       "    </tr>\n",
       "    <tr>\n",
       "      <th>2408274</th>\n",
       "      <td>46401</td>\n",
       "      <td>32137</td>\n",
       "    </tr>\n",
       "    <tr>\n",
       "      <th>2408275</th>\n",
       "      <td>46401</td>\n",
       "      <td>46777</td>\n",
       "    </tr>\n",
       "    <tr>\n",
       "      <th>2408276</th>\n",
       "      <td>46401</td>\n",
       "      <td>27402</td>\n",
       "    </tr>\n",
       "    <tr>\n",
       "      <th>2408277</th>\n",
       "      <td>46401</td>\n",
       "      <td>29209</td>\n",
       "    </tr>\n",
       "    <tr>\n",
       "      <th>2408278</th>\n",
       "      <td>46401</td>\n",
       "      <td>32459</td>\n",
       "    </tr>\n",
       "    <tr>\n",
       "      <th>2408279</th>\n",
       "      <td>46401</td>\n",
       "      <td>50914</td>\n",
       "    </tr>\n",
       "    <tr>\n",
       "      <th>2408280</th>\n",
       "      <td>46401</td>\n",
       "      <td>44980</td>\n",
       "    </tr>\n",
       "    <tr>\n",
       "      <th>2408281</th>\n",
       "      <td>46401</td>\n",
       "      <td>48453</td>\n",
       "    </tr>\n",
       "    <tr>\n",
       "      <th>2408282</th>\n",
       "      <td>46401</td>\n",
       "      <td>47287</td>\n",
       "    </tr>\n",
       "    <tr>\n",
       "      <th>2408283</th>\n",
       "      <td>46401</td>\n",
       "      <td>14699</td>\n",
       "    </tr>\n",
       "    <tr>\n",
       "      <th>2408284</th>\n",
       "      <td>46401</td>\n",
       "      <td>40338</td>\n",
       "    </tr>\n",
       "    <tr>\n",
       "      <th>2408285</th>\n",
       "      <td>46401</td>\n",
       "      <td>47220</td>\n",
       "    </tr>\n",
       "  </tbody>\n",
       "</table>\n",
       "<p>131 rows × 2 columns</p>\n",
       "</div>"
      ],
      "text/plain": [
       "             0      1\n",
       "1679589  46401  11249\n",
       "1702103   6359  46401\n",
       "2383045    482  46401\n",
       "2384153  34575  46401\n",
       "2408159  46401  38556\n",
       "2408160  46401  28345\n",
       "2408161  46401  11852\n",
       "2408162  46401  44979\n",
       "2408163  46401  70900\n",
       "2408164  46401  55162\n",
       "2408165  46401  23410\n",
       "2408166  46401  39194\n",
       "2408167  46401  29202\n",
       "2408168  46401  51205\n",
       "2408169  46401  34027\n",
       "2408170  46401  54771\n",
       "2408171  46401  53950\n",
       "2408172  46401  50792\n",
       "2408173  46401  29387\n",
       "2408174  46401  26707\n",
       "2408175  46401  10026\n",
       "2408176  46401  32230\n",
       "2408177  46401  41696\n",
       "2408178  46401  48303\n",
       "2408179  46401  32544\n",
       "2408180  46401    482\n",
       "2408181  46401  32610\n",
       "2408182  46401  48801\n",
       "2408183  46401  35995\n",
       "2408184  46401  42651\n",
       "...        ...    ...\n",
       "2408256  46401  11249\n",
       "2408257  46401  48359\n",
       "2408258  46401  46560\n",
       "2408259  46401  21539\n",
       "2408260  46401  54565\n",
       "2408261  46401  12398\n",
       "2408262  46401  37430\n",
       "2408263  46401  40876\n",
       "2408264  46401   2444\n",
       "2408265  46401  80184\n",
       "2408266  46401  52218\n",
       "2408267  46401  38449\n",
       "2408268  46401  14344\n",
       "2408269  46401  15649\n",
       "2408270  46401  46366\n",
       "2408271  46401  15740\n",
       "2408272  46401  37030\n",
       "2408273  46401  55408\n",
       "2408274  46401  32137\n",
       "2408275  46401  46777\n",
       "2408276  46401  27402\n",
       "2408277  46401  29209\n",
       "2408278  46401  32459\n",
       "2408279  46401  50914\n",
       "2408280  46401  44980\n",
       "2408281  46401  48453\n",
       "2408282  46401  47287\n",
       "2408283  46401  14699\n",
       "2408284  46401  40338\n",
       "2408285  46401  47220\n",
       "\n",
       "[131 rows x 2 columns]"
      ]
     },
     "execution_count": 24,
     "metadata": {},
     "output_type": "execute_result"
    }
   ],
   "source": [
    "n = 46401\n",
    "\n",
    "print((clusters[n]), (clusters == clusters[n]).sum())\n",
    "print((df[\"0\"] == n).sum())\n",
    "print((df[\"1\"] == n).sum())\n",
    "df[(df[\"1\"] == n) | (df[\"0\"] == n)]"
   ]
  },
  {
   "cell_type": "code",
   "execution_count": 29,
   "metadata": {
    "collapsed": false
   },
   "outputs": [
    {
     "name": "stdout",
     "output_type": "stream",
     "text": [
      "CPU times: user 1min 32s, sys: 16 ms, total: 1min 32s\n",
      "Wall time: 1min 32s\n",
      "count    2032.000000\n",
      "mean      270.785433\n",
      "std       697.633015\n",
      "min         1.000000\n",
      "25%         9.000000\n",
      "50%        36.000000\n",
      "75%       181.000000\n",
      "max      7161.000000\n",
      "dtype: float64\n"
     ]
    },
    {
     "data": {
      "image/png": "[encoded data removed]",
      "text/plain": [
       "<matplotlib.figure.Figure at 0x7f61f4fab7f0>"
      ]
     },
     "metadata": {},
     "output_type": "display_data"
    }
   ],
   "source": [
    "from gmet import group_vertex_degree, group_edge_degree\n",
    "\n",
    "%time all_degs = [group_vertex_degree(facebook2, clusters == i) for i in range(n_clusters)]\n",
    "\n",
    "print(pd.Series(all_degs).describe())\n",
    "_ = plt.hist(all_degs, bins=100)\n",
    "plt.yscale(\"log\")"
   ]
  },
  {
   "cell_type": "code",
   "execution_count": 36,
   "metadata": {
    "collapsed": false
   },
   "outputs": [
    {
     "name": "stdout",
     "output_type": "stream",
     "text": [
      "CPU times: user 3min 23s, sys: 8 ms, total: 3min 23s\n",
      "Wall time: 3min 23s\n"
     ]
    },
    {
     "data": {
      "text/html": [
       "<div>\n",
       "<table border=\"1\" class=\"dataframe\">\n",
       "  <thead>\n",
       "    <tr style=\"text-align: right;\">\n",
       "      <th></th>\n",
       "      <th>edeg</th>\n",
       "      <th>sz</th>\n",
       "      <th>vdeg</th>\n",
       "      <th>vratio</th>\n",
       "      <th>eratio</th>\n",
       "    </tr>\n",
       "  </thead>\n",
       "  <tbody>\n",
       "    <tr>\n",
       "      <th>count</th>\n",
       "      <td>2032.000000</td>\n",
       "      <td>2032.000000</td>\n",
       "      <td>2032.000000</td>\n",
       "      <td>2032.000000</td>\n",
       "      <td>2032.000000</td>\n",
       "    </tr>\n",
       "    <tr>\n",
       "      <th>mean</th>\n",
       "      <td>774.148622</td>\n",
       "      <td>40.012795</td>\n",
       "      <td>270.785433</td>\n",
       "      <td>10.441588</td>\n",
       "      <td>15.499506</td>\n",
       "    </tr>\n",
       "    <tr>\n",
       "      <th>std</th>\n",
       "      <td>2736.143690</td>\n",
       "      <td>81.550834</td>\n",
       "      <td>697.633015</td>\n",
       "      <td>20.888238</td>\n",
       "      <td>23.025275</td>\n",
       "    </tr>\n",
       "    <tr>\n",
       "      <th>min</th>\n",
       "      <td>1.000000</td>\n",
       "      <td>1.000000</td>\n",
       "      <td>1.000000</td>\n",
       "      <td>0.011111</td>\n",
       "      <td>0.855670</td>\n",
       "    </tr>\n",
       "    <tr>\n",
       "      <th>25%</th>\n",
       "      <td>14.000000</td>\n",
       "      <td>2.000000</td>\n",
       "      <td>9.000000</td>\n",
       "      <td>2.125000</td>\n",
       "      <td>3.666667</td>\n",
       "    </tr>\n",
       "    <tr>\n",
       "      <th>50%</th>\n",
       "      <td>61.000000</td>\n",
       "      <td>8.000000</td>\n",
       "      <td>36.000000</td>\n",
       "      <td>5.242647</td>\n",
       "      <td>8.570482</td>\n",
       "    </tr>\n",
       "    <tr>\n",
       "      <th>75%</th>\n",
       "      <td>398.750000</td>\n",
       "      <td>37.000000</td>\n",
       "      <td>181.000000</td>\n",
       "      <td>11.017442</td>\n",
       "      <td>19.557456</td>\n",
       "    </tr>\n",
       "    <tr>\n",
       "      <th>max</th>\n",
       "      <td>43534.000000</td>\n",
       "      <td>828.000000</td>\n",
       "      <td>7161.000000</td>\n",
       "      <td>439.000000</td>\n",
       "      <td>439.000000</td>\n",
       "    </tr>\n",
       "  </tbody>\n",
       "</table>\n",
       "</div>"
      ],
      "text/plain": [
       "               edeg           sz         vdeg       vratio       eratio\n",
       "count   2032.000000  2032.000000  2032.000000  2032.000000  2032.000000\n",
       "mean     774.148622    40.012795   270.785433    10.441588    15.499506\n",
       "std     2736.143690    81.550834   697.633015    20.888238    23.025275\n",
       "min        1.000000     1.000000     1.000000     0.011111     0.855670\n",
       "25%       14.000000     2.000000     9.000000     2.125000     3.666667\n",
       "50%       61.000000     8.000000    36.000000     5.242647     8.570482\n",
       "75%      398.750000    37.000000   181.000000    11.017442    19.557456\n",
       "max    43534.000000   828.000000  7161.000000   439.000000   439.000000"
      ]
     },
     "execution_count": 36,
     "metadata": {},
     "output_type": "execute_result"
    }
   ],
   "source": [
    "from gmet import group_vertex_degree, group_edge_degree\n",
    "\n",
    "%time cldegs_pd = pd.DataFrame({'sz': [(clusters == cl).sum() for cl in range(n_clusters)], \\\n",
    "                          'vdeg': [group_vertex_degree(facebook2, clusters == i) for i in range(n_clusters)], \\\n",
    "                          'edeg': [group_edge_degree(facebook2, clusters == i) for i in range(n_clusters)]})\n",
    "\n",
    "cldegs_pd[\"vratio\"] = cldegs_pd.vdeg / cldegs_pd.sz\n",
    "cldegs_pd[\"eratio\"] = cldegs_pd.edeg / cldegs_pd.sz\n",
    "\n",
    "cldegs_pd.describe()"
   ]
  },
  {
   "cell_type": "code",
   "execution_count": 37,
   "metadata": {
    "collapsed": false,
    "scrolled": false
   },
   "outputs": [
    {
     "data": {
      "text/html": [
       "<div>\n",
       "<table border=\"1\" class=\"dataframe\">\n",
       "  <thead>\n",
       "    <tr style=\"text-align: right;\">\n",
       "      <th></th>\n",
       "      <th>edeg</th>\n",
       "      <th>sz</th>\n",
       "      <th>vdeg</th>\n",
       "      <th>vratio</th>\n",
       "      <th>eratio</th>\n",
       "    </tr>\n",
       "  </thead>\n",
       "  <tbody>\n",
       "    <tr>\n",
       "      <th>count</th>\n",
       "      <td>178.000000</td>\n",
       "      <td>178.000000</td>\n",
       "      <td>178.000000</td>\n",
       "      <td>178.000000</td>\n",
       "      <td>178.000000</td>\n",
       "    </tr>\n",
       "    <tr>\n",
       "      <th>mean</th>\n",
       "      <td>43.477528</td>\n",
       "      <td>29.876404</td>\n",
       "      <td>7.707865</td>\n",
       "      <td>0.213133</td>\n",
       "      <td>1.200352</td>\n",
       "    </tr>\n",
       "    <tr>\n",
       "      <th>std</th>\n",
       "      <td>87.092859</td>\n",
       "      <td>40.876642</td>\n",
       "      <td>16.041051</td>\n",
       "      <td>0.138701</td>\n",
       "      <td>0.386564</td>\n",
       "    </tr>\n",
       "    <tr>\n",
       "      <th>min</th>\n",
       "      <td>3.000000</td>\n",
       "      <td>3.000000</td>\n",
       "      <td>1.000000</td>\n",
       "      <td>0.011111</td>\n",
       "      <td>0.855670</td>\n",
       "    </tr>\n",
       "    <tr>\n",
       "      <th>25%</th>\n",
       "      <td>10.000000</td>\n",
       "      <td>10.000000</td>\n",
       "      <td>1.000000</td>\n",
       "      <td>0.090909</td>\n",
       "      <td>1.000000</td>\n",
       "    </tr>\n",
       "    <tr>\n",
       "      <th>50%</th>\n",
       "      <td>20.000000</td>\n",
       "      <td>18.500000</td>\n",
       "      <td>2.000000</td>\n",
       "      <td>0.200000</td>\n",
       "      <td>1.056349</td>\n",
       "    </tr>\n",
       "    <tr>\n",
       "      <th>75%</th>\n",
       "      <td>35.000000</td>\n",
       "      <td>32.000000</td>\n",
       "      <td>6.000000</td>\n",
       "      <td>0.330619</td>\n",
       "      <td>1.198387</td>\n",
       "    </tr>\n",
       "    <tr>\n",
       "      <th>max</th>\n",
       "      <td>702.000000</td>\n",
       "      <td>307.000000</td>\n",
       "      <td>118.000000</td>\n",
       "      <td>0.494382</td>\n",
       "      <td>3.190476</td>\n",
       "    </tr>\n",
       "  </tbody>\n",
       "</table>\n",
       "</div>"
      ],
      "text/plain": [
       "             edeg          sz        vdeg      vratio      eratio\n",
       "count  178.000000  178.000000  178.000000  178.000000  178.000000\n",
       "mean    43.477528   29.876404    7.707865    0.213133    1.200352\n",
       "std     87.092859   40.876642   16.041051    0.138701    0.386564\n",
       "min      3.000000    3.000000    1.000000    0.011111    0.855670\n",
       "25%     10.000000   10.000000    1.000000    0.090909    1.000000\n",
       "50%     20.000000   18.500000    2.000000    0.200000    1.056349\n",
       "75%     35.000000   32.000000    6.000000    0.330619    1.198387\n",
       "max    702.000000  307.000000  118.000000    0.494382    3.190476"
      ]
     },
     "execution_count": 37,
     "metadata": {},
     "output_type": "execute_result"
    }
   ],
   "source": [
    "cldegs_pd[cldegs_pd.vratio < 0.5].describe()"
   ]
  },
  {
   "cell_type": "code",
   "execution_count": 38,
   "metadata": {
    "collapsed": false
   },
   "outputs": [
    {
     "name": "stderr",
     "output_type": "stream",
     "text": [
      "/home/yannick/bin/anaconda3/envs/py35/lib/python3.5/site-packages/ipykernel/__main__.py:1: UserWarning: Boolean Series key will be reindexed to match DataFrame index.\n",
      "  if __name__ == '__main__':\n"
     ]
    },
    {
     "data": {
      "text/html": [
       "<div>\n",
       "<table border=\"1\" class=\"dataframe\">\n",
       "  <thead>\n",
       "    <tr style=\"text-align: right;\">\n",
       "      <th></th>\n",
       "      <th>edeg</th>\n",
       "      <th>sz</th>\n",
       "      <th>vdeg</th>\n",
       "      <th>vratio</th>\n",
       "      <th>eratio</th>\n",
       "    </tr>\n",
       "  </thead>\n",
       "  <tbody>\n",
       "    <tr>\n",
       "      <th>count</th>\n",
       "      <td>145.000000</td>\n",
       "      <td>145.000000</td>\n",
       "      <td>145.000000</td>\n",
       "      <td>145.000000</td>\n",
       "      <td>145.000000</td>\n",
       "    </tr>\n",
       "    <tr>\n",
       "      <th>mean</th>\n",
       "      <td>19.462069</td>\n",
       "      <td>17.655172</td>\n",
       "      <td>2.455172</td>\n",
       "      <td>0.173192</td>\n",
       "      <td>1.109417</td>\n",
       "    </tr>\n",
       "    <tr>\n",
       "      <th>std</th>\n",
       "      <td>13.986611</td>\n",
       "      <td>12.397569</td>\n",
       "      <td>2.078258</td>\n",
       "      <td>0.113518</td>\n",
       "      <td>0.241379</td>\n",
       "    </tr>\n",
       "    <tr>\n",
       "      <th>min</th>\n",
       "      <td>3.000000</td>\n",
       "      <td>3.000000</td>\n",
       "      <td>1.000000</td>\n",
       "      <td>0.011111</td>\n",
       "      <td>1.000000</td>\n",
       "    </tr>\n",
       "    <tr>\n",
       "      <th>25%</th>\n",
       "      <td>9.000000</td>\n",
       "      <td>9.000000</td>\n",
       "      <td>1.000000</td>\n",
       "      <td>0.076923</td>\n",
       "      <td>1.000000</td>\n",
       "    </tr>\n",
       "    <tr>\n",
       "      <th>50%</th>\n",
       "      <td>17.000000</td>\n",
       "      <td>16.000000</td>\n",
       "      <td>2.000000</td>\n",
       "      <td>0.136364</td>\n",
       "      <td>1.000000</td>\n",
       "    </tr>\n",
       "    <tr>\n",
       "      <th>75%</th>\n",
       "      <td>26.000000</td>\n",
       "      <td>24.000000</td>\n",
       "      <td>3.000000</td>\n",
       "      <td>0.250000</td>\n",
       "      <td>1.129032</td>\n",
       "    </tr>\n",
       "    <tr>\n",
       "      <th>max</th>\n",
       "      <td>90.000000</td>\n",
       "      <td>90.000000</td>\n",
       "      <td>9.000000</td>\n",
       "      <td>0.473684</td>\n",
       "      <td>2.833333</td>\n",
       "    </tr>\n",
       "  </tbody>\n",
       "</table>\n",
       "</div>"
      ],
      "text/plain": [
       "             edeg          sz        vdeg      vratio      eratio\n",
       "count  145.000000  145.000000  145.000000  145.000000  145.000000\n",
       "mean    19.462069   17.655172    2.455172    0.173192    1.109417\n",
       "std     13.986611   12.397569    2.078258    0.113518    0.241379\n",
       "min      3.000000    3.000000    1.000000    0.011111    1.000000\n",
       "25%      9.000000    9.000000    1.000000    0.076923    1.000000\n",
       "50%     17.000000   16.000000    2.000000    0.136364    1.000000\n",
       "75%     26.000000   24.000000    3.000000    0.250000    1.129032\n",
       "max     90.000000   90.000000    9.000000    0.473684    2.833333"
      ]
     },
     "execution_count": 38,
     "metadata": {},
     "output_type": "execute_result"
    }
   ],
   "source": [
    "cldegs_pd[cldegs_pd.vratio < 0.5][cldegs_pd.vdeg < 10].describe()"
   ]
  },
  {
   "cell_type": "code",
   "execution_count": 39,
   "metadata": {
    "collapsed": false
   },
   "outputs": [
    {
     "data": {
      "text/html": [
       "<div>\n",
       "<table border=\"1\" class=\"dataframe\">\n",
       "  <thead>\n",
       "    <tr style=\"text-align: right;\">\n",
       "      <th></th>\n",
       "      <th>edeg</th>\n",
       "      <th>sz</th>\n",
       "      <th>vdeg</th>\n",
       "      <th>vratio</th>\n",
       "      <th>eratio</th>\n",
       "    </tr>\n",
       "  </thead>\n",
       "  <tbody>\n",
       "    <tr>\n",
       "      <th>count</th>\n",
       "      <td>0.0</td>\n",
       "      <td>0.0</td>\n",
       "      <td>0.0</td>\n",
       "      <td>0.0</td>\n",
       "      <td>0.0</td>\n",
       "    </tr>\n",
       "    <tr>\n",
       "      <th>mean</th>\n",
       "      <td>NaN</td>\n",
       "      <td>NaN</td>\n",
       "      <td>NaN</td>\n",
       "      <td>NaN</td>\n",
       "      <td>NaN</td>\n",
       "    </tr>\n",
       "    <tr>\n",
       "      <th>std</th>\n",
       "      <td>NaN</td>\n",
       "      <td>NaN</td>\n",
       "      <td>NaN</td>\n",
       "      <td>NaN</td>\n",
       "      <td>NaN</td>\n",
       "    </tr>\n",
       "    <tr>\n",
       "      <th>min</th>\n",
       "      <td>NaN</td>\n",
       "      <td>NaN</td>\n",
       "      <td>NaN</td>\n",
       "      <td>NaN</td>\n",
       "      <td>NaN</td>\n",
       "    </tr>\n",
       "    <tr>\n",
       "      <th>25%</th>\n",
       "      <td>NaN</td>\n",
       "      <td>NaN</td>\n",
       "      <td>NaN</td>\n",
       "      <td>NaN</td>\n",
       "      <td>NaN</td>\n",
       "    </tr>\n",
       "    <tr>\n",
       "      <th>50%</th>\n",
       "      <td>NaN</td>\n",
       "      <td>NaN</td>\n",
       "      <td>NaN</td>\n",
       "      <td>NaN</td>\n",
       "      <td>NaN</td>\n",
       "    </tr>\n",
       "    <tr>\n",
       "      <th>75%</th>\n",
       "      <td>NaN</td>\n",
       "      <td>NaN</td>\n",
       "      <td>NaN</td>\n",
       "      <td>NaN</td>\n",
       "      <td>NaN</td>\n",
       "    </tr>\n",
       "    <tr>\n",
       "      <th>max</th>\n",
       "      <td>NaN</td>\n",
       "      <td>NaN</td>\n",
       "      <td>NaN</td>\n",
       "      <td>NaN</td>\n",
       "      <td>NaN</td>\n",
       "    </tr>\n",
       "  </tbody>\n",
       "</table>\n",
       "</div>"
      ],
      "text/plain": [
       "       edeg   sz  vdeg  vratio  eratio\n",
       "count   0.0  0.0   0.0     0.0     0.0\n",
       "mean    NaN  NaN   NaN     NaN     NaN\n",
       "std     NaN  NaN   NaN     NaN     NaN\n",
       "min     NaN  NaN   NaN     NaN     NaN\n",
       "25%     NaN  NaN   NaN     NaN     NaN\n",
       "50%     NaN  NaN   NaN     NaN     NaN\n",
       "75%     NaN  NaN   NaN     NaN     NaN\n",
       "max     NaN  NaN   NaN     NaN     NaN"
      ]
     },
     "execution_count": 39,
     "metadata": {},
     "output_type": "execute_result"
    }
   ],
   "source": [
    "df = cldegs_pd\n",
    "\n",
    "df[df.eratio < 0.5].describe()"
   ]
  },
  {
   "cell_type": "code",
   "execution_count": 40,
   "metadata": {
    "collapsed": false
   },
   "outputs": [
    {
     "name": "stdout",
     "output_type": "stream",
     "text": [
      "0.04463090551181102\n"
     ]
    },
    {
     "data": {
      "text/plain": [
       "[<matplotlib.lines.Line2D at 0x7f61f49d4d68>]"
      ]
     },
     "execution_count": 40,
     "metadata": {},
     "output_type": "execute_result"
    },
    {
     "data": {
      "image/png": "[encoded data removed]",
      "text/plain": [
       "<matplotlib.figure.Figure at 0x7f61f4a0deb8>"
      ]
     },
     "metadata": {},
     "output_type": "display_data"
    }
   ],
   "source": [
    "def vratios(df):\n",
    "    return [len(df[df.vratio < i/10.])/len(df) for i in range(10)]\n",
    "\n",
    "def perf(df):\n",
    "    er = vratios(df)\n",
    "    return sum([i * er[i] / 10. for i in range(10)]) / 10.\n",
    "\n",
    "er = vratios(cldegs_pd)\n",
    "\n",
    "print (perf(cldegs_pd))\n",
    "\n",
    "plt.plot(er)"
   ]
  }
 ],
 "metadata": {
  "kernelspec": {
   "display_name": "Python 3",
   "language": "python",
   "name": "python3"
  },
  "language_info": {
   "codemirror_mode": {
    "name": "ipython",
    "version": 3
   },
   "file_extension": ".py",
   "mimetype": "text/x-python",
   "name": "python",
   "nbconvert_exporter": "python",
   "pygments_lexer": "ipython3",
   "version": "3.5.1"
  }
 },
 "nbformat": 4,
 "nbformat_minor": 0
}
