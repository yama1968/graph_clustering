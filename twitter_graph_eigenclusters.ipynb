{
 "cells": [
  {
   "cell_type": "code",
   "execution_count": 1,
   "metadata": {
    "collapsed": false
   },
   "outputs": [],
   "source": [
    "import numpy as np\n",
    "import pandas as pd\n",
    "import scipy\n",
    "from scipy.sparse import csr_matrix, diags, eye\n",
    "from sklearn.cluster import SpectralClustering\n",
    "from matplotlib import pyplot as plt\n",
    "import pylab\n",
    "\n",
    "plt.style.use('ggplot')\n",
    "pylab.rcParams['figure.figsize'] = (18.0, 12.0)\n",
    "\n",
    "%matplotlib inline"
   ]
  },
  {
   "cell_type": "code",
   "execution_count": 42,
   "metadata": {
    "collapsed": false
   },
   "outputs": [
    {
     "name": "stdout",
     "output_type": "stream",
     "text": [
      "2420766\n"
     ]
    },
    {
     "data": {
      "text/html": [
       "<div>\n",
       "<table border=\"1\" class=\"dataframe\">\n",
       "  <thead>\n",
       "    <tr style=\"text-align: right;\">\n",
       "      <th></th>\n",
       "      <th>0</th>\n",
       "      <th>1</th>\n",
       "    </tr>\n",
       "  </thead>\n",
       "  <tbody>\n",
       "    <tr>\n",
       "      <th>0</th>\n",
       "      <td>214328887</td>\n",
       "      <td>34428380</td>\n",
       "    </tr>\n",
       "    <tr>\n",
       "      <th>1</th>\n",
       "      <td>17116707</td>\n",
       "      <td>28465635</td>\n",
       "    </tr>\n",
       "    <tr>\n",
       "      <th>2</th>\n",
       "      <td>380580781</td>\n",
       "      <td>18996905</td>\n",
       "    </tr>\n",
       "    <tr>\n",
       "      <th>3</th>\n",
       "      <td>221036078</td>\n",
       "      <td>153460275</td>\n",
       "    </tr>\n",
       "    <tr>\n",
       "      <th>4</th>\n",
       "      <td>107830991</td>\n",
       "      <td>17868918</td>\n",
       "    </tr>\n",
       "  </tbody>\n",
       "</table>\n",
       "</div>"
      ],
      "text/plain": [
       "           0          1\n",
       "0  214328887   34428380\n",
       "1   17116707   28465635\n",
       "2  380580781   18996905\n",
       "3  221036078  153460275\n",
       "4  107830991   17868918"
      ]
     },
     "execution_count": 42,
     "metadata": {},
     "output_type": "execute_result"
    }
   ],
   "source": [
    "#df = pd.read_csv(\"./facebook_combined.txt.gz\", compression='infer', sep=\" \")\n",
    "df = pd.read_csv(\"./twitter_combined.txt.gz\", compression='infer', sep=\" \", header=None)\n",
    "\n",
    "print(len(df))\n",
    "df.head()"
   ]
  },
  {
   "cell_type": "code",
   "execution_count": 43,
   "metadata": {
    "collapsed": false
   },
   "outputs": [],
   "source": [
    "df.columns = [\"0\", \"1\"]"
   ]
  },
  {
   "cell_type": "code",
   "execution_count": 44,
   "metadata": {
    "collapsed": false
   },
   "outputs": [
    {
     "data": {
      "text/html": [
       "<div>\n",
       "<table border=\"1\" class=\"dataframe\">\n",
       "  <thead>\n",
       "    <tr style=\"text-align: right;\">\n",
       "      <th></th>\n",
       "      <th>0</th>\n",
       "      <th>1</th>\n",
       "    </tr>\n",
       "  </thead>\n",
       "  <tbody>\n",
       "    <tr>\n",
       "      <th>0</th>\n",
       "      <td>64848</td>\n",
       "      <td>33444</td>\n",
       "    </tr>\n",
       "    <tr>\n",
       "      <th>1</th>\n",
       "      <td>15266</td>\n",
       "      <td>30189</td>\n",
       "    </tr>\n",
       "    <tr>\n",
       "      <th>2</th>\n",
       "      <td>76829</td>\n",
       "      <td>19302</td>\n",
       "    </tr>\n",
       "    <tr>\n",
       "      <th>3</th>\n",
       "      <td>65515</td>\n",
       "      <td>58679</td>\n",
       "    </tr>\n",
       "    <tr>\n",
       "      <th>4</th>\n",
       "      <td>52420</td>\n",
       "      <td>16766</td>\n",
       "    </tr>\n",
       "  </tbody>\n",
       "</table>\n",
       "</div>"
      ],
      "text/plain": [
       "       0      1\n",
       "0  64848  33444\n",
       "1  15266  30189\n",
       "2  76829  19302\n",
       "3  65515  58679\n",
       "4  52420  16766"
      ]
     },
     "execution_count": 44,
     "metadata": {},
     "output_type": "execute_result"
    }
   ],
   "source": [
    "nodes = list(set(df[\"0\"]) | set(df[\"1\"]))\n",
    "nodes.sort()\n",
    "nodes[:20]\n",
    "nodes_to_idx = {n:i for i,n in enumerate(nodes)}\n",
    "\n",
    "df_o = df\n",
    "df = pd.DataFrame({\"0\": df[\"0\"].apply(lambda x: nodes_to_idx[x]), \n",
    "                   \"1\": df[\"1\"].apply(lambda x: nodes_to_idx[x])})\n",
    "df.head()          "
   ]
  },
  {
   "cell_type": "code",
   "execution_count": 45,
   "metadata": {
    "collapsed": false
   },
   "outputs": [
    {
     "data": {
      "text/html": [
       "<div>\n",
       "<table border=\"1\" class=\"dataframe\">\n",
       "  <thead>\n",
       "    <tr style=\"text-align: right;\">\n",
       "      <th></th>\n",
       "      <th>0</th>\n",
       "      <th>1</th>\n",
       "    </tr>\n",
       "  </thead>\n",
       "  <tbody>\n",
       "    <tr>\n",
       "      <th>count</th>\n",
       "      <td>2.420766e+06</td>\n",
       "      <td>2.420766e+06</td>\n",
       "    </tr>\n",
       "    <tr>\n",
       "      <th>mean</th>\n",
       "      <td>3.863062e+04</td>\n",
       "      <td>3.579259e+04</td>\n",
       "    </tr>\n",
       "    <tr>\n",
       "      <th>std</th>\n",
       "      <td>2.424377e+04</td>\n",
       "      <td>2.372641e+04</td>\n",
       "    </tr>\n",
       "    <tr>\n",
       "      <th>min</th>\n",
       "      <td>0.000000e+00</td>\n",
       "      <td>0.000000e+00</td>\n",
       "    </tr>\n",
       "    <tr>\n",
       "      <th>25%</th>\n",
       "      <td>1.635800e+04</td>\n",
       "      <td>1.423600e+04</td>\n",
       "    </tr>\n",
       "    <tr>\n",
       "      <th>50%</th>\n",
       "      <td>3.852100e+04</td>\n",
       "      <td>3.366600e+04</td>\n",
       "    </tr>\n",
       "    <tr>\n",
       "      <th>75%</th>\n",
       "      <td>6.046100e+04</td>\n",
       "      <td>5.655900e+04</td>\n",
       "    </tr>\n",
       "    <tr>\n",
       "      <th>max</th>\n",
       "      <td>8.130500e+04</td>\n",
       "      <td>8.130500e+04</td>\n",
       "    </tr>\n",
       "  </tbody>\n",
       "</table>\n",
       "</div>"
      ],
      "text/plain": [
       "                  0             1\n",
       "count  2.420766e+06  2.420766e+06\n",
       "mean   3.863062e+04  3.579259e+04\n",
       "std    2.424377e+04  2.372641e+04\n",
       "min    0.000000e+00  0.000000e+00\n",
       "25%    1.635800e+04  1.423600e+04\n",
       "50%    3.852100e+04  3.366600e+04\n",
       "75%    6.046100e+04  5.655900e+04\n",
       "max    8.130500e+04  8.130500e+04"
      ]
     },
     "execution_count": 45,
     "metadata": {},
     "output_type": "execute_result"
    }
   ],
   "source": [
    "df.describe()"
   ]
  },
  {
   "cell_type": "code",
   "execution_count": 6,
   "metadata": {
    "collapsed": false
   },
   "outputs": [
    {
     "name": "stdout",
     "output_type": "stream",
     "text": [
      "2420766 81306\n"
     ]
    }
   ],
   "source": [
    "e = len(df)\n",
    "v = max(np.max(np.unique(df[\"0\"])), np.max(np.unique(df[\"1\"]))) + 1\n",
    "print(e,v)"
   ]
  },
  {
   "cell_type": "markdown",
   "metadata": {},
   "source": [
    "## Passage au Laplacien"
   ]
  },
  {
   "cell_type": "code",
   "execution_count": 7,
   "metadata": {
    "collapsed": false
   },
   "outputs": [],
   "source": [
    "facebook2 = csr_matrix((np.ones(e), (df['0'], df['1'])), shape=(v,v))\n",
    "facebook2 = 1.0 * ((facebook2 + facebook2.T) !=0)"
   ]
  },
  {
   "cell_type": "code",
   "execution_count": 8,
   "metadata": {
    "collapsed": false
   },
   "outputs": [
    {
     "data": {
      "text/plain": [
       "<81306x81306 sparse matrix of type '<class 'numpy.bool_'>'\n",
       "\twith 0 stored elements in Compressed Sparse Row format>"
      ]
     },
     "execution_count": 8,
     "metadata": {},
     "output_type": "execute_result"
    }
   ],
   "source": [
    "(facebook2 > 1)"
   ]
  },
  {
   "cell_type": "code",
   "execution_count": 9,
   "metadata": {
    "collapsed": false
   },
   "outputs": [
    {
     "name": "stdout",
     "output_type": "stream",
     "text": [
      "Wall time: 17 ms\n",
      "(81306,)\n",
      "0\n"
     ]
    }
   ],
   "source": [
    "%time deg = np.array(facebook2.sum(axis=0))[0]\n",
    "\n",
    "print(deg.shape)\n",
    "print((deg == 0).sum())"
   ]
  },
  {
   "cell_type": "code",
   "execution_count": 10,
   "metadata": {
    "collapsed": false
   },
   "outputs": [
    {
     "data": {
      "text/plain": [
       "<81306x81306 sparse matrix of type '<class 'numpy.float32'>'\n",
       "\twith 2765898 stored elements in Compressed Sparse Row format>"
      ]
     },
     "execution_count": 10,
     "metadata": {},
     "output_type": "execute_result"
    }
   ],
   "source": [
    "L = diags(np.array(facebook2.sum(axis=0))[0]) - facebook2\n",
    "L = L.astype(np.float32)\n",
    "L"
   ]
  },
  {
   "cell_type": "code",
   "execution_count": 11,
   "metadata": {
    "collapsed": true
   },
   "outputs": [],
   "source": [
    "from scipy.sparse.linalg import eigsh"
   ]
  },
  {
   "cell_type": "code",
   "execution_count": 12,
   "metadata": {
    "collapsed": false
   },
   "outputs": [
    {
     "name": "stdout",
     "output_type": "stream",
     "text": [
      "2032 12\n",
      "Wall time: 5min 45s\n"
     ]
    },
    {
     "ename": "FileNotFoundError",
     "evalue": "[Errno 2] No such file or directory: 'pkl/twitter_eigen_vec.pkl'",
     "output_type": "error",
     "traceback": [
      "\u001b[1;31m---------------------------------------------------------------------------\u001b[0m",
      "\u001b[1;31mFileNotFoundError\u001b[0m                         Traceback (most recent call last)",
      "\u001b[1;32m<ipython-input-12-3221c9a3c039>\u001b[0m in \u001b[0;36m<module>\u001b[1;34m()\u001b[0m\n\u001b[0;32m     19\u001b[0m \u001b[1;32melse\u001b[0m\u001b[1;33m:\u001b[0m\u001b[1;33m\u001b[0m\u001b[0m\n\u001b[0;32m     20\u001b[0m     \u001b[0mget_ipython\u001b[0m\u001b[1;33m(\u001b[0m\u001b[1;33m)\u001b[0m\u001b[1;33m.\u001b[0m\u001b[0mmagic\u001b[0m\u001b[1;33m(\u001b[0m\u001b[1;34m\"time eigval, eigvec = eigsh(L, neig, which='SM', tol=1e-3)\"\u001b[0m\u001b[1;33m)\u001b[0m\u001b[1;33m\u001b[0m\u001b[0m\n\u001b[1;32m---> 21\u001b[1;33m     \u001b[1;32mwith\u001b[0m \u001b[0mopen\u001b[0m\u001b[1;33m(\u001b[0m\u001b[1;34m\"pkl/twitter_eigen_vec.pkl\"\u001b[0m\u001b[1;33m,\u001b[0m \u001b[1;34m\"wb\"\u001b[0m\u001b[1;33m)\u001b[0m \u001b[1;32mas\u001b[0m \u001b[0mf\u001b[0m\u001b[1;33m:\u001b[0m\u001b[1;33m\u001b[0m\u001b[0m\n\u001b[0m\u001b[0;32m     22\u001b[0m         \u001b[0mpickle\u001b[0m\u001b[1;33m.\u001b[0m\u001b[0mdump\u001b[0m\u001b[1;33m(\u001b[0m\u001b[0meigvec\u001b[0m\u001b[1;33m,\u001b[0m \u001b[0mf\u001b[0m\u001b[1;33m)\u001b[0m\u001b[1;33m\u001b[0m\u001b[0m\n\u001b[0;32m     23\u001b[0m     \u001b[1;32mwith\u001b[0m \u001b[0mopen\u001b[0m\u001b[1;33m(\u001b[0m\u001b[1;34m\"pkl/twitter_eigen_val.pkl\"\u001b[0m\u001b[1;33m,\u001b[0m \u001b[1;34m\"wb\"\u001b[0m\u001b[1;33m)\u001b[0m \u001b[1;32mas\u001b[0m \u001b[0mf\u001b[0m\u001b[1;33m:\u001b[0m\u001b[1;33m\u001b[0m\u001b[0m\n",
      "\u001b[1;31mFileNotFoundError\u001b[0m: [Errno 2] No such file or directory: 'pkl/twitter_eigen_vec.pkl'"
     ]
    }
   ],
   "source": [
    "import os.path\n",
    "import pickle\n",
    "\n",
    "n_clusters = int(L.shape[0]/40) \n",
    "neig = 2 + int(np.log2(n_clusters))\n",
    "\n",
    "print(n_clusters, neig)\n",
    "\n",
    "f_vec = \"pkl/twitter_eigen_vec_%d.pkl\" % neig\n",
    "f_val = \"pkl/twitter_eigen_val_%d.pkl\" % neig\n",
    "\n",
    "if os.path.isfile(f_vec) and os.path.isfile(f_val):\n",
    "    \n",
    "    with open(f_vec, \"rb\") as f:\n",
    "        eigvec = pickle.load(f)\n",
    "    with open(f_val, \"rb\") as f:\n",
    "        eigval = pickle.load(f)\n",
    "    \n",
    "else:\n",
    "    %time eigval, eigvec = eigsh(L, neig, which='SM', tol=1e-3)\n",
    "    with open(\"pkl/twitter_eigen_vec.pkl\", \"wb\") as f:\n",
    "        pickle.dump(eigvec, f)\n",
    "    with open(\"pkl/twitter_eigen_val.pkl\", \"wb\") as f:\n",
    "        pickle.dump(eigval, f)\n",
    "# 15 min for 14 et 20...\n",
    "# 21 min for 12\n",
    "\n",
    "#%time eigval, eigvec = eigsh(L, neig, which='LM', tol=1e-2, sigma=0)\n",
    "# very very long! => SystemError: gstrf was called with invalid arguments\n",
    "\n",
    "eigval"
   ]
  },
  {
   "cell_type": "code",
   "execution_count": 13,
   "metadata": {
    "collapsed": false
   },
   "outputs": [
    {
     "data": {
      "text/plain": [
       "[<matplotlib.lines.Line2D at 0x270878eb4e0>]"
      ]
     },
     "execution_count": 13,
     "metadata": {},
     "output_type": "execute_result"
    },
    {
     "data": {
      "image/png": "[encoded data removed]",
      "text/plain": [
       "<matplotlib.figure.Figure at 0x2708787d048>"
      ]
     },
     "metadata": {},
     "output_type": "display_data"
    }
   ],
   "source": [
    "plt.plot(eigval)"
   ]
  },
  {
   "cell_type": "code",
   "execution_count": 14,
   "metadata": {
    "collapsed": false
   },
   "outputs": [
    {
     "name": "stdout",
     "output_type": "stream",
     "text": [
      "1125 80181\n"
     ]
    }
   ],
   "source": [
    "e1 = eigvec[:,1]\n",
    "print((e1>=0).sum(), (e1<0).sum())"
   ]
  },
  {
   "cell_type": "code",
   "execution_count": 15,
   "metadata": {
    "collapsed": false
   },
   "outputs": [
    {
     "name": "stdout",
     "output_type": "stream",
     "text": [
      "(2, 81306)\n"
     ]
    },
    {
     "data": {
      "text/plain": [
       "<matplotlib.collections.PathCollection at 0x27087e2b5f8>"
      ]
     },
     "execution_count": 15,
     "metadata": {},
     "output_type": "execute_result"
    },
    {
     "data": {
      "image/png": "[encoded data removed]",
      "text/plain": [
       "<matplotlib.figure.Figure at 0x2708790f550>"
      ]
     },
     "metadata": {},
     "output_type": "display_data"
    }
   ],
   "source": [
    "proj = eigvec[:, 1:3].T\n",
    "print(proj.shape)\n",
    "\n",
    "pylab.rcParams['figure.figsize'] = (12.0, 8.0)\n",
    "\n",
    "plt.scatter(proj[0], proj[1])"
   ]
  },
  {
   "cell_type": "markdown",
   "metadata": {},
   "source": [
    "## kmeans clustering"
   ]
  },
  {
   "cell_type": "code",
   "execution_count": 16,
   "metadata": {
    "collapsed": false
   },
   "outputs": [
    {
     "name": "stdout",
     "output_type": "stream",
     "text": [
      "(81306, 2)\n",
      "Wall time: 479 ms\n",
      "4\n",
      "[[-0.00011692 -0.00829023  0.09831161  0.07625426]\n",
      " [-0.00012743  0.10443516  0.00768329  0.0059303 ]]\n"
     ]
    },
    {
     "data": {
      "image/png": "[encoded data removed]",
      "text/plain": [
       "<matplotlib.figure.Figure at 0x27087e3c748>"
      ]
     },
     "metadata": {},
     "output_type": "display_data"
    }
   ],
   "source": [
    "from sklearn.cluster import KMeans, AgglomerativeClustering, DBSCAN\n",
    "\n",
    "n_clusters = 4\n",
    "\n",
    "clf = KMeans(init='k-means++', n_clusters=n_clusters, n_init=10)\n",
    "#clf = AgglomerativeClustering(n_clusters = n_clusters)\n",
    "# clf = DBSCAN(eps = 0.005)\n",
    "\n",
    "print(proj.T.shape)\n",
    "\n",
    "%time clusters = clf.fit_predict(proj.T)\n",
    "\n",
    "print(len(np.unique(clusters)))\n",
    "\n",
    "plt.scatter(proj[0], proj[1], c=clusters)\n",
    "\n",
    "if \"cluster_centers_\" in clf.__dict__:\n",
    "    centers = clf.cluster_centers_.T\n",
    "    print(centers)\n",
    "    plt.scatter(centers[0], centers[1], marker='*', s=200, c='black')"
   ]
  },
  {
   "cell_type": "markdown",
   "metadata": {},
   "source": [
    "### Clustering plus poussé\n",
    "**Attention:** ici nous normalisons les vecteurs propres.\n",
    "Cela fait deux différences avec l'algorithme standard de spectral clustering\n",
    "- normalisation vecteurs propres vs pas normalisation => je retire la normalisation\n",
    "- 2^k-means sur k vecteurs propres contre k-means sur k vecteurs => je diminue le nombre de clusters"
   ]
  },
  {
   "cell_type": "code",
   "execution_count": 17,
   "metadata": {
    "collapsed": false
   },
   "outputs": [
    {
     "name": "stdout",
     "output_type": "stream",
     "text": [
      "[ 0.00347186 -0.00829527 -0.00029619 -0.09664069 -0.08096015 -0.00122928\n",
      " -0.0749449  -0.16102411 -0.020724   -0.15984859 -0.12203973 -0.10767043] [ 0.00355593  0.1005391   0.10449425  0.00050353  0.00088912  0.1726805\n",
      "  0.00263528  0.00159233  0.08540458  0.04327358  0.00303894  0.01095896] [  3.50707886e-03  -1.64799303e-06  -5.24182724e-07  -9.89251248e-07\n",
      "  -1.49874427e-06  -1.65201914e-08  -2.47814597e-07  -1.89147940e-07\n",
      "  -4.07535197e-07  -1.68544801e-07   4.99158318e-07   4.25759822e-07]\n",
      "[  1.18940889e+04   9.18827343e+00   9.54285622e+00   1.02939730e+01\n",
      "   1.22175798e+01   5.75010777e+00   1.28898907e+01   6.14943933e+00\n",
      "   9.42253208e+00   4.92314577e+00   7.99496794e+00   8.42961407e+00]\n"
     ]
    }
   ],
   "source": [
    "print(eigvec.min(axis=0), eigvec.max(axis=0), eigvec.mean(axis=0))\n",
    "print(1/(eigvec.max(axis=0) - eigvec.min(axis=0)))"
   ]
  },
  {
   "cell_type": "code",
   "execution_count": 18,
   "metadata": {
    "collapsed": false
   },
   "outputs": [
    {
     "name": "stdout",
     "output_type": "stream",
     "text": [
      "(81306, 12) (81306, 12)\n",
      "[ 0.41895232  0.07620408  0.00282145  0.99480647  0.98911887  0.00706841\n",
      "  0.96602839  0.99020684  0.19526872  0.78695703  0.97570771  0.90762365]\n"
     ]
    }
   ],
   "source": [
    "eigvec_n = (eigvec-eigvec.min(axis=0)) / (eigvec.max(axis=0) - eigvec.min(axis=0))\n",
    "print(eigvec_n.shape, eigvec.shape)\n",
    "print(eigvec_n.mean(axis=0))"
   ]
  },
  {
   "cell_type": "code",
   "execution_count": 34,
   "metadata": {
    "collapsed": false
   },
   "outputs": [
    {
     "name": "stdout",
     "output_type": "stream",
     "text": [
      "n_clusters = 813\n",
      "(81306, 11)\n"
     ]
    },
    {
     "name": "stderr",
     "output_type": "stream",
     "text": [
      "C:\\Anaconda3\\lib\\site-packages\\sklearn\\externals\\joblib\\hashing.py:197: DeprecationWarning: Changing the shape of non-C contiguous array by\n",
      "descriptor assignment is deprecated. To maintain\n",
      "the Fortran contiguity of a multidimensional Fortran\n",
      "array, use 'a.T.view(...).T' instead\n",
      "  obj_bytes_view = obj.view(self.np.uint8)\n",
      "C:\\Anaconda3\\lib\\site-packages\\sklearn\\externals\\joblib\\hashing.py:197: DeprecationWarning: Changing the shape of non-C contiguous array by\n",
      "descriptor assignment is deprecated. To maintain\n",
      "the Fortran contiguity of a multidimensional Fortran\n",
      "array, use 'a.T.view(...).T' instead\n",
      "  obj_bytes_view = obj.view(self.np.uint8)\n",
      "C:\\Anaconda3\\lib\\site-packages\\sklearn\\externals\\joblib\\hashing.py:197: DeprecationWarning: Changing the shape of non-C contiguous array by\n",
      "descriptor assignment is deprecated. To maintain\n",
      "the Fortran contiguity of a multidimensional Fortran\n",
      "array, use 'a.T.view(...).T' instead\n",
      "  obj_bytes_view = obj.view(self.np.uint8)\n",
      "C:\\Anaconda3\\lib\\site-packages\\sklearn\\externals\\joblib\\hashing.py:197: DeprecationWarning: Changing the shape of non-C contiguous array by\n",
      "descriptor assignment is deprecated. To maintain\n",
      "the Fortran contiguity of a multidimensional Fortran\n",
      "array, use 'a.T.view(...).T' instead\n",
      "  obj_bytes_view = obj.view(self.np.uint8)\n",
      "C:\\Anaconda3\\lib\\site-packages\\sklearn\\externals\\joblib\\hashing.py:197: DeprecationWarning: Changing the shape of non-C contiguous array by\n",
      "descriptor assignment is deprecated. To maintain\n",
      "the Fortran contiguity of a multidimensional Fortran\n",
      "array, use 'a.T.view(...).T' instead\n",
      "  obj_bytes_view = obj.view(self.np.uint8)\n",
      "C:\\Anaconda3\\lib\\site-packages\\sklearn\\externals\\joblib\\hashing.py:197: DeprecationWarning: Changing the shape of non-C contiguous array by\n",
      "descriptor assignment is deprecated. To maintain\n",
      "the Fortran contiguity of a multidimensional Fortran\n",
      "array, use 'a.T.view(...).T' instead\n",
      "  obj_bytes_view = obj.view(self.np.uint8)\n",
      "C:\\Anaconda3\\lib\\site-packages\\sklearn\\externals\\joblib\\hashing.py:197: DeprecationWarning: Changing the shape of non-C contiguous array by\n",
      "descriptor assignment is deprecated. To maintain\n",
      "the Fortran contiguity of a multidimensional Fortran\n",
      "array, use 'a.T.view(...).T' instead\n",
      "  obj_bytes_view = obj.view(self.np.uint8)\n",
      "C:\\Anaconda3\\lib\\site-packages\\sklearn\\externals\\joblib\\hashing.py:197: DeprecationWarning: Changing the shape of non-C contiguous array by\n",
      "descriptor assignment is deprecated. To maintain\n",
      "the Fortran contiguity of a multidimensional Fortran\n",
      "array, use 'a.T.view(...).T' instead\n",
      "  obj_bytes_view = obj.view(self.np.uint8)\n",
      "C:\\Anaconda3\\lib\\site-packages\\sklearn\\externals\\joblib\\hashing.py:197: DeprecationWarning: Changing the shape of non-C contiguous array by\n",
      "descriptor assignment is deprecated. To maintain\n",
      "the Fortran contiguity of a multidimensional Fortran\n",
      "array, use 'a.T.view(...).T' instead\n",
      "  obj_bytes_view = obj.view(self.np.uint8)\n",
      "C:\\Anaconda3\\lib\\site-packages\\sklearn\\externals\\joblib\\hashing.py:197: DeprecationWarning: Changing the shape of non-C contiguous array by\n",
      "descriptor assignment is deprecated. To maintain\n",
      "the Fortran contiguity of a multidimensional Fortran\n",
      "array, use 'a.T.view(...).T' instead\n",
      "  obj_bytes_view = obj.view(self.np.uint8)\n"
     ]
    },
    {
     "name": "stdout",
     "output_type": "stream",
     "text": [
      "Wall time: 2min 56s\n",
      "813\n"
     ]
    },
    {
     "data": {
      "image/png": "[encoded data removed]",
      "text/plain": [
       "<matplotlib.figure.Figure at 0x2708ef479b0>"
      ]
     },
     "metadata": {},
     "output_type": "display_data"
    }
   ],
   "source": [
    "#n_clusters = int(v/40)\n",
    "n_clusters = int(v/100)\n",
    "print(\"n_clusters = %d\" % n_clusters)\n",
    "\n",
    "clf = KMeans(init='k-means++', n_clusters=n_clusters, n_init=10, n_jobs=4)\n",
    "#clf = AgglomerativeClustering(n_clusters = n_clusters)\n",
    "#clf = DBSCAN(eps = 0.0005)\n",
    "\n",
    "#X = eigvec_n[:,1:]\n",
    "X = eigvec[:,1:]\n",
    "\n",
    "print(X.shape)\n",
    "%time clusters = clf.fit_predict(X)\n",
    "print(len(np.unique(clusters)))\n",
    "\n",
    "plt.scatter(X[:,0], X[:,1], c=clusters)\n",
    "\n",
    "if \"cluster_centers_\" in clf.__dict__:\n",
    "    centers = clf.cluster_centers_.T\n",
    "    # print(centers)\n",
    "    plt.scatter(centers[0], centers[1], marker='*', s=200, c='black')"
   ]
  },
  {
   "cell_type": "markdown",
   "metadata": {},
   "source": [
    "## display clustered graphs"
   ]
  },
  {
   "cell_type": "code",
   "execution_count": 35,
   "metadata": {
    "collapsed": false
   },
   "outputs": [
    {
     "data": {
      "text/plain": [
       "<matplotlib.axes._subplots.AxesSubplot at 0x2708efc87b8>"
      ]
     },
     "execution_count": 35,
     "metadata": {},
     "output_type": "execute_result"
    },
    {
     "data": {
      "image/png": "[encoded data removed]",
      "text/plain": [
       "<matplotlib.figure.Figure at 0x2708efaa588>"
      ]
     },
     "metadata": {},
     "output_type": "display_data"
    }
   ],
   "source": [
    "vc = pd.Series(clusters).value_counts()\n",
    "vc.hist(bins=100)"
   ]
  },
  {
   "cell_type": "code",
   "execution_count": 36,
   "metadata": {
    "collapsed": false
   },
   "outputs": [
    {
     "data": {
      "text/plain": [
       "cnt\n",
       "1       169\n",
       "2        74\n",
       "3        54\n",
       "4        30\n",
       "5        25\n",
       "6        15\n",
       "7        23\n",
       "8        21\n",
       "9        19\n",
       "10       13\n",
       "11       10\n",
       "12        6\n",
       "13        2\n",
       "14        8\n",
       "15        5\n",
       "16        7\n",
       "17        3\n",
       "18        3\n",
       "19        9\n",
       "20        8\n",
       "21        4\n",
       "22        5\n",
       "23        4\n",
       "24        3\n",
       "25        3\n",
       "26        6\n",
       "27        8\n",
       "28        5\n",
       "29        2\n",
       "30        4\n",
       "       ... \n",
       "640       1\n",
       "665       1\n",
       "694       1\n",
       "709       1\n",
       "715       1\n",
       "739       1\n",
       "815       1\n",
       "833       1\n",
       "853       1\n",
       "884       1\n",
       "894       1\n",
       "897       1\n",
       "903       1\n",
       "904       1\n",
       "974       1\n",
       "992       1\n",
       "1008      1\n",
       "1095      1\n",
       "1247      1\n",
       "1270      1\n",
       "1374      1\n",
       "1477      1\n",
       "1506      1\n",
       "1517      1\n",
       "1613      1\n",
       "1770      1\n",
       "1816      1\n",
       "2086      1\n",
       "2247      1\n",
       "2594      1\n",
       "dtype: int64"
      ]
     },
     "execution_count": 36,
     "metadata": {},
     "output_type": "execute_result"
    }
   ],
   "source": [
    "pd.DataFrame({'cnt': vc}).groupby([\"cnt\"]).size()"
   ]
  },
  {
   "cell_type": "code",
   "execution_count": 46,
   "metadata": {
    "collapsed": false
   },
   "outputs": [
    {
     "name": "stdout",
     "output_type": "stream",
     "text": [
      "Wall time: 30.5 s\n"
     ]
    },
    {
     "data": {
      "text/plain": [
       "<networkx.classes.graph.Graph at 0x2708eb5b6d8>"
      ]
     },
     "execution_count": 46,
     "metadata": {},
     "output_type": "execute_result"
    }
   ],
   "source": [
    "import networkx as nx\n",
    "\n",
    "%time g = nx.Graph(list(df.to_records(index=False)))\n",
    "g"
   ]
  },
  {
   "cell_type": "code",
   "execution_count": 47,
   "metadata": {
    "collapsed": false
   },
   "outputs": [
    {
     "name": "stdout",
     "output_type": "stream",
     "text": [
      "Cluster #5 is of size 7\n",
      "pseudo-degree of cluster is 40\n"
     ]
    },
    {
     "data": {
      "image/png": "[encoded data removed]",
      "text/plain": [
       "<matplotlib.figure.Figure at 0x270879db710>"
      ]
     },
     "metadata": {},
     "output_type": "display_data"
    }
   ],
   "source": [
    "from IPython.html.widgets import interact\n",
    "import graph_helpers\n",
    "from imp import reload\n",
    "reload(graph_helpers)\n",
    "\n",
    "@interact\n",
    "def plot(cl = ('5', '6', '7', '8', '10', '20', '30', '27', '215', '42', '1150'), \n",
    "         degree=(\"0\", \"1\", \"2\"), layout=(\"spring\", \"std\", \"spectral\")):\n",
    "    cl = int(cl)\n",
    "    print(\"Cluster #%d is of size %d\" % (cl, (clusters == cl).sum()))\n",
    "    \n",
    "    print(\"pseudo-degree of cluster is %d\" % graph_helpers.get_deg_sub(facebook2, clusters == cl))\n",
    "    \n",
    "    graph_helpers.plot_subgraph_links(facebook2, clusters == cl, int(degree), layout=layout, graph=g)"
   ]
  },
  {
   "cell_type": "code",
   "execution_count": 48,
   "metadata": {
    "collapsed": false,
    "scrolled": true
   },
   "outputs": [
    {
     "name": "stdout",
     "output_type": "stream",
     "text": [
      "522 640\n",
      "128\n",
      "3\n"
     ]
    },
    {
     "data": {
      "text/html": [
       "<div>\n",
       "<table border=\"1\" class=\"dataframe\">\n",
       "  <thead>\n",
       "    <tr style=\"text-align: right;\">\n",
       "      <th></th>\n",
       "      <th>0</th>\n",
       "      <th>1</th>\n",
       "    </tr>\n",
       "  </thead>\n",
       "  <tbody>\n",
       "    <tr>\n",
       "      <th>1679589</th>\n",
       "      <td>46401</td>\n",
       "      <td>11249</td>\n",
       "    </tr>\n",
       "    <tr>\n",
       "      <th>1702103</th>\n",
       "      <td>6359</td>\n",
       "      <td>46401</td>\n",
       "    </tr>\n",
       "    <tr>\n",
       "      <th>2383045</th>\n",
       "      <td>482</td>\n",
       "      <td>46401</td>\n",
       "    </tr>\n",
       "    <tr>\n",
       "      <th>2384153</th>\n",
       "      <td>34575</td>\n",
       "      <td>46401</td>\n",
       "    </tr>\n",
       "    <tr>\n",
       "      <th>2408159</th>\n",
       "      <td>46401</td>\n",
       "      <td>38556</td>\n",
       "    </tr>\n",
       "    <tr>\n",
       "      <th>2408160</th>\n",
       "      <td>46401</td>\n",
       "      <td>28345</td>\n",
       "    </tr>\n",
       "    <tr>\n",
       "      <th>2408161</th>\n",
       "      <td>46401</td>\n",
       "      <td>11852</td>\n",
       "    </tr>\n",
       "    <tr>\n",
       "      <th>2408162</th>\n",
       "      <td>46401</td>\n",
       "      <td>44979</td>\n",
       "    </tr>\n",
       "    <tr>\n",
       "      <th>2408163</th>\n",
       "      <td>46401</td>\n",
       "      <td>70900</td>\n",
       "    </tr>\n",
       "    <tr>\n",
       "      <th>2408164</th>\n",
       "      <td>46401</td>\n",
       "      <td>55162</td>\n",
       "    </tr>\n",
       "    <tr>\n",
       "      <th>2408165</th>\n",
       "      <td>46401</td>\n",
       "      <td>23410</td>\n",
       "    </tr>\n",
       "    <tr>\n",
       "      <th>2408166</th>\n",
       "      <td>46401</td>\n",
       "      <td>39194</td>\n",
       "    </tr>\n",
       "    <tr>\n",
       "      <th>2408167</th>\n",
       "      <td>46401</td>\n",
       "      <td>29202</td>\n",
       "    </tr>\n",
       "    <tr>\n",
       "      <th>2408168</th>\n",
       "      <td>46401</td>\n",
       "      <td>51205</td>\n",
       "    </tr>\n",
       "    <tr>\n",
       "      <th>2408169</th>\n",
       "      <td>46401</td>\n",
       "      <td>34027</td>\n",
       "    </tr>\n",
       "    <tr>\n",
       "      <th>2408170</th>\n",
       "      <td>46401</td>\n",
       "      <td>54771</td>\n",
       "    </tr>\n",
       "    <tr>\n",
       "      <th>2408171</th>\n",
       "      <td>46401</td>\n",
       "      <td>53950</td>\n",
       "    </tr>\n",
       "    <tr>\n",
       "      <th>2408172</th>\n",
       "      <td>46401</td>\n",
       "      <td>50792</td>\n",
       "    </tr>\n",
       "    <tr>\n",
       "      <th>2408173</th>\n",
       "      <td>46401</td>\n",
       "      <td>29387</td>\n",
       "    </tr>\n",
       "    <tr>\n",
       "      <th>2408174</th>\n",
       "      <td>46401</td>\n",
       "      <td>26707</td>\n",
       "    </tr>\n",
       "    <tr>\n",
       "      <th>2408175</th>\n",
       "      <td>46401</td>\n",
       "      <td>10026</td>\n",
       "    </tr>\n",
       "    <tr>\n",
       "      <th>2408176</th>\n",
       "      <td>46401</td>\n",
       "      <td>32230</td>\n",
       "    </tr>\n",
       "    <tr>\n",
       "      <th>2408177</th>\n",
       "      <td>46401</td>\n",
       "      <td>41696</td>\n",
       "    </tr>\n",
       "    <tr>\n",
       "      <th>2408178</th>\n",
       "      <td>46401</td>\n",
       "      <td>48303</td>\n",
       "    </tr>\n",
       "    <tr>\n",
       "      <th>2408179</th>\n",
       "      <td>46401</td>\n",
       "      <td>32544</td>\n",
       "    </tr>\n",
       "    <tr>\n",
       "      <th>2408180</th>\n",
       "      <td>46401</td>\n",
       "      <td>482</td>\n",
       "    </tr>\n",
       "    <tr>\n",
       "      <th>2408181</th>\n",
       "      <td>46401</td>\n",
       "      <td>32610</td>\n",
       "    </tr>\n",
       "    <tr>\n",
       "      <th>2408182</th>\n",
       "      <td>46401</td>\n",
       "      <td>48801</td>\n",
       "    </tr>\n",
       "    <tr>\n",
       "      <th>2408183</th>\n",
       "      <td>46401</td>\n",
       "      <td>35995</td>\n",
       "    </tr>\n",
       "    <tr>\n",
       "      <th>2408184</th>\n",
       "      <td>46401</td>\n",
       "      <td>42651</td>\n",
       "    </tr>\n",
       "    <tr>\n",
       "      <th>...</th>\n",
       "      <td>...</td>\n",
       "      <td>...</td>\n",
       "    </tr>\n",
       "    <tr>\n",
       "      <th>2408256</th>\n",
       "      <td>46401</td>\n",
       "      <td>11249</td>\n",
       "    </tr>\n",
       "    <tr>\n",
       "      <th>2408257</th>\n",
       "      <td>46401</td>\n",
       "      <td>48359</td>\n",
       "    </tr>\n",
       "    <tr>\n",
       "      <th>2408258</th>\n",
       "      <td>46401</td>\n",
       "      <td>46560</td>\n",
       "    </tr>\n",
       "    <tr>\n",
       "      <th>2408259</th>\n",
       "      <td>46401</td>\n",
       "      <td>21539</td>\n",
       "    </tr>\n",
       "    <tr>\n",
       "      <th>2408260</th>\n",
       "      <td>46401</td>\n",
       "      <td>54565</td>\n",
       "    </tr>\n",
       "    <tr>\n",
       "      <th>2408261</th>\n",
       "      <td>46401</td>\n",
       "      <td>12398</td>\n",
       "    </tr>\n",
       "    <tr>\n",
       "      <th>2408262</th>\n",
       "      <td>46401</td>\n",
       "      <td>37430</td>\n",
       "    </tr>\n",
       "    <tr>\n",
       "      <th>2408263</th>\n",
       "      <td>46401</td>\n",
       "      <td>40876</td>\n",
       "    </tr>\n",
       "    <tr>\n",
       "      <th>2408264</th>\n",
       "      <td>46401</td>\n",
       "      <td>2444</td>\n",
       "    </tr>\n",
       "    <tr>\n",
       "      <th>2408265</th>\n",
       "      <td>46401</td>\n",
       "      <td>80184</td>\n",
       "    </tr>\n",
       "    <tr>\n",
       "      <th>2408266</th>\n",
       "      <td>46401</td>\n",
       "      <td>52218</td>\n",
       "    </tr>\n",
       "    <tr>\n",
       "      <th>2408267</th>\n",
       "      <td>46401</td>\n",
       "      <td>38449</td>\n",
       "    </tr>\n",
       "    <tr>\n",
       "      <th>2408268</th>\n",
       "      <td>46401</td>\n",
       "      <td>14344</td>\n",
       "    </tr>\n",
       "    <tr>\n",
       "      <th>2408269</th>\n",
       "      <td>46401</td>\n",
       "      <td>15649</td>\n",
       "    </tr>\n",
       "    <tr>\n",
       "      <th>2408270</th>\n",
       "      <td>46401</td>\n",
       "      <td>46366</td>\n",
       "    </tr>\n",
       "    <tr>\n",
       "      <th>2408271</th>\n",
       "      <td>46401</td>\n",
       "      <td>15740</td>\n",
       "    </tr>\n",
       "    <tr>\n",
       "      <th>2408272</th>\n",
       "      <td>46401</td>\n",
       "      <td>37030</td>\n",
       "    </tr>\n",
       "    <tr>\n",
       "      <th>2408273</th>\n",
       "      <td>46401</td>\n",
       "      <td>55408</td>\n",
       "    </tr>\n",
       "    <tr>\n",
       "      <th>2408274</th>\n",
       "      <td>46401</td>\n",
       "      <td>32137</td>\n",
       "    </tr>\n",
       "    <tr>\n",
       "      <th>2408275</th>\n",
       "      <td>46401</td>\n",
       "      <td>46777</td>\n",
       "    </tr>\n",
       "    <tr>\n",
       "      <th>2408276</th>\n",
       "      <td>46401</td>\n",
       "      <td>27402</td>\n",
       "    </tr>\n",
       "    <tr>\n",
       "      <th>2408277</th>\n",
       "      <td>46401</td>\n",
       "      <td>29209</td>\n",
       "    </tr>\n",
       "    <tr>\n",
       "      <th>2408278</th>\n",
       "      <td>46401</td>\n",
       "      <td>32459</td>\n",
       "    </tr>\n",
       "    <tr>\n",
       "      <th>2408279</th>\n",
       "      <td>46401</td>\n",
       "      <td>50914</td>\n",
       "    </tr>\n",
       "    <tr>\n",
       "      <th>2408280</th>\n",
       "      <td>46401</td>\n",
       "      <td>44980</td>\n",
       "    </tr>\n",
       "    <tr>\n",
       "      <th>2408281</th>\n",
       "      <td>46401</td>\n",
       "      <td>48453</td>\n",
       "    </tr>\n",
       "    <tr>\n",
       "      <th>2408282</th>\n",
       "      <td>46401</td>\n",
       "      <td>47287</td>\n",
       "    </tr>\n",
       "    <tr>\n",
       "      <th>2408283</th>\n",
       "      <td>46401</td>\n",
       "      <td>14699</td>\n",
       "    </tr>\n",
       "    <tr>\n",
       "      <th>2408284</th>\n",
       "      <td>46401</td>\n",
       "      <td>40338</td>\n",
       "    </tr>\n",
       "    <tr>\n",
       "      <th>2408285</th>\n",
       "      <td>46401</td>\n",
       "      <td>47220</td>\n",
       "    </tr>\n",
       "  </tbody>\n",
       "</table>\n",
       "<p>131 rows × 2 columns</p>\n",
       "</div>"
      ],
      "text/plain": [
       "             0      1\n",
       "1679589  46401  11249\n",
       "1702103   6359  46401\n",
       "2383045    482  46401\n",
       "2384153  34575  46401\n",
       "2408159  46401  38556\n",
       "2408160  46401  28345\n",
       "2408161  46401  11852\n",
       "2408162  46401  44979\n",
       "2408163  46401  70900\n",
       "2408164  46401  55162\n",
       "2408165  46401  23410\n",
       "2408166  46401  39194\n",
       "2408167  46401  29202\n",
       "2408168  46401  51205\n",
       "2408169  46401  34027\n",
       "2408170  46401  54771\n",
       "2408171  46401  53950\n",
       "2408172  46401  50792\n",
       "2408173  46401  29387\n",
       "2408174  46401  26707\n",
       "2408175  46401  10026\n",
       "2408176  46401  32230\n",
       "2408177  46401  41696\n",
       "2408178  46401  48303\n",
       "2408179  46401  32544\n",
       "2408180  46401    482\n",
       "2408181  46401  32610\n",
       "2408182  46401  48801\n",
       "2408183  46401  35995\n",
       "2408184  46401  42651\n",
       "...        ...    ...\n",
       "2408256  46401  11249\n",
       "2408257  46401  48359\n",
       "2408258  46401  46560\n",
       "2408259  46401  21539\n",
       "2408260  46401  54565\n",
       "2408261  46401  12398\n",
       "2408262  46401  37430\n",
       "2408263  46401  40876\n",
       "2408264  46401   2444\n",
       "2408265  46401  80184\n",
       "2408266  46401  52218\n",
       "2408267  46401  38449\n",
       "2408268  46401  14344\n",
       "2408269  46401  15649\n",
       "2408270  46401  46366\n",
       "2408271  46401  15740\n",
       "2408272  46401  37030\n",
       "2408273  46401  55408\n",
       "2408274  46401  32137\n",
       "2408275  46401  46777\n",
       "2408276  46401  27402\n",
       "2408277  46401  29209\n",
       "2408278  46401  32459\n",
       "2408279  46401  50914\n",
       "2408280  46401  44980\n",
       "2408281  46401  48453\n",
       "2408282  46401  47287\n",
       "2408283  46401  14699\n",
       "2408284  46401  40338\n",
       "2408285  46401  47220\n",
       "\n",
       "[131 rows x 2 columns]"
      ]
     },
     "execution_count": 48,
     "metadata": {},
     "output_type": "execute_result"
    }
   ],
   "source": [
    "n = 46401\n",
    "\n",
    "print((clusters[n]), (clusters == clusters[n]).sum())\n",
    "print((df[\"0\"] == n).sum())\n",
    "print((df[\"1\"] == n).sum())\n",
    "df[(df[\"1\"] == n) | (df[\"0\"] == n)]"
   ]
  },
  {
   "cell_type": "code",
   "execution_count": 49,
   "metadata": {
    "collapsed": false
   },
   "outputs": [
    {
     "data": {
      "text/html": [
       "<div>\n",
       "<table border=\"1\" class=\"dataframe\">\n",
       "  <thead>\n",
       "    <tr style=\"text-align: right;\">\n",
       "      <th></th>\n",
       "      <th>0</th>\n",
       "      <th>1</th>\n",
       "    </tr>\n",
       "  </thead>\n",
       "  <tbody>\n",
       "    <tr>\n",
       "      <th>0</th>\n",
       "      <td>64848</td>\n",
       "      <td>33444</td>\n",
       "    </tr>\n",
       "    <tr>\n",
       "      <th>1</th>\n",
       "      <td>15266</td>\n",
       "      <td>30189</td>\n",
       "    </tr>\n",
       "    <tr>\n",
       "      <th>2</th>\n",
       "      <td>76829</td>\n",
       "      <td>19302</td>\n",
       "    </tr>\n",
       "    <tr>\n",
       "      <th>3</th>\n",
       "      <td>65515</td>\n",
       "      <td>58679</td>\n",
       "    </tr>\n",
       "    <tr>\n",
       "      <th>4</th>\n",
       "      <td>52420</td>\n",
       "      <td>16766</td>\n",
       "    </tr>\n",
       "  </tbody>\n",
       "</table>\n",
       "</div>"
      ],
      "text/plain": [
       "       0      1\n",
       "0  64848  33444\n",
       "1  15266  30189\n",
       "2  76829  19302\n",
       "3  65515  58679\n",
       "4  52420  16766"
      ]
     },
     "execution_count": 49,
     "metadata": {},
     "output_type": "execute_result"
    }
   ],
   "source": [
    "df.head()"
   ]
  },
  {
   "cell_type": "code",
   "execution_count": 50,
   "metadata": {
    "collapsed": false
   },
   "outputs": [
    {
     "name": "stdout",
     "output_type": "stream",
     "text": [
      "Wall time: 1min 9s\n",
      "count      813.000000\n",
      "mean       432.249692\n",
      "std       1250.074620\n",
      "min          1.000000\n",
      "25%          9.000000\n",
      "50%         41.000000\n",
      "75%        195.000000\n",
      "max      11619.000000\n",
      "dtype: float64\n"
     ]
    },
    {
     "data": {
      "image/png": "[encoded data removed]",
      "text/plain": [
       "<matplotlib.figure.Figure at 0x2708f1ab0f0>"
      ]
     },
     "metadata": {},
     "output_type": "display_data"
    }
   ],
   "source": [
    "from gmet import group_vertex_degree, group_edge_degree\n",
    "\n",
    "%time all_degs = [group_vertex_degree(facebook2, clusters == i) for i in range(n_clusters)]\n",
    "\n",
    "print(pd.Series(all_degs).describe())\n",
    "_ = plt.hist(all_degs, bins=100)\n",
    "plt.yscale(\"log\")"
   ]
  },
  {
   "cell_type": "markdown",
   "metadata": {},
   "source": [
    "### Optimisation à faire\n",
    "Il faudrait optimiser le calcul des deux \"degrés\" en le faisant en masse par un big produit matriciel"
   ]
  },
  {
   "cell_type": "markdown",
   "metadata": {},
   "source": [
    "### Compléments à faire\n",
    "- implémenter d'autres métriques (cf littérature) comme le RatioCut = sigma cuts / taille et Ncut = sigma cuts / vol\n",
    "- remettre en non normalisé!\n",
    "- diminuer le k du k-means"
   ]
  },
  {
   "cell_type": "code",
   "execution_count": 51,
   "metadata": {
    "collapsed": false
   },
   "outputs": [
    {
     "name": "stdout",
     "output_type": "stream",
     "text": [
      "Wall time: 2min 23s\n"
     ]
    },
    {
     "data": {
      "text/html": [
       "<div>\n",
       "<table border=\"1\" class=\"dataframe\">\n",
       "  <thead>\n",
       "    <tr style=\"text-align: right;\">\n",
       "      <th></th>\n",
       "      <th>edeg</th>\n",
       "      <th>sz</th>\n",
       "      <th>vdeg</th>\n",
       "      <th>vratio</th>\n",
       "      <th>eratio</th>\n",
       "    </tr>\n",
       "  </thead>\n",
       "  <tbody>\n",
       "    <tr>\n",
       "      <th>count</th>\n",
       "      <td>813.000000</td>\n",
       "      <td>813.000000</td>\n",
       "      <td>813.000000</td>\n",
       "      <td>813.000000</td>\n",
       "      <td>813.000000</td>\n",
       "    </tr>\n",
       "    <tr>\n",
       "      <th>mean</th>\n",
       "      <td>1480.383764</td>\n",
       "      <td>100.007380</td>\n",
       "      <td>432.249692</td>\n",
       "      <td>8.351019</td>\n",
       "      <td>12.801758</td>\n",
       "    </tr>\n",
       "    <tr>\n",
       "      <th>std</th>\n",
       "      <td>5733.860244</td>\n",
       "      <td>259.958532</td>\n",
       "      <td>1250.074620</td>\n",
       "      <td>14.382741</td>\n",
       "      <td>16.379581</td>\n",
       "    </tr>\n",
       "    <tr>\n",
       "      <th>min</th>\n",
       "      <td>2.000000</td>\n",
       "      <td>1.000000</td>\n",
       "      <td>1.000000</td>\n",
       "      <td>0.011111</td>\n",
       "      <td>0.430000</td>\n",
       "    </tr>\n",
       "    <tr>\n",
       "      <th>25%</th>\n",
       "      <td>13.000000</td>\n",
       "      <td>2.000000</td>\n",
       "      <td>9.000000</td>\n",
       "      <td>2.000000</td>\n",
       "      <td>3.461538</td>\n",
       "    </tr>\n",
       "    <tr>\n",
       "      <th>50%</th>\n",
       "      <td>77.000000</td>\n",
       "      <td>8.000000</td>\n",
       "      <td>41.000000</td>\n",
       "      <td>4.454545</td>\n",
       "      <td>7.750000</td>\n",
       "    </tr>\n",
       "    <tr>\n",
       "      <th>75%</th>\n",
       "      <td>441.000000</td>\n",
       "      <td>63.000000</td>\n",
       "      <td>195.000000</td>\n",
       "      <td>9.133455</td>\n",
       "      <td>16.333333</td>\n",
       "    </tr>\n",
       "    <tr>\n",
       "      <th>max</th>\n",
       "      <td>82971.000000</td>\n",
       "      <td>2594.000000</td>\n",
       "      <td>11619.000000</td>\n",
       "      <td>219.000000</td>\n",
       "      <td>219.500000</td>\n",
       "    </tr>\n",
       "  </tbody>\n",
       "</table>\n",
       "</div>"
      ],
      "text/plain": [
       "               edeg           sz          vdeg      vratio      eratio\n",
       "count    813.000000   813.000000    813.000000  813.000000  813.000000\n",
       "mean    1480.383764   100.007380    432.249692    8.351019   12.801758\n",
       "std     5733.860244   259.958532   1250.074620   14.382741   16.379581\n",
       "min        2.000000     1.000000      1.000000    0.011111    0.430000\n",
       "25%       13.000000     2.000000      9.000000    2.000000    3.461538\n",
       "50%       77.000000     8.000000     41.000000    4.454545    7.750000\n",
       "75%      441.000000    63.000000    195.000000    9.133455   16.333333\n",
       "max    82971.000000  2594.000000  11619.000000  219.000000  219.500000"
      ]
     },
     "execution_count": 51,
     "metadata": {},
     "output_type": "execute_result"
    }
   ],
   "source": [
    "from gmet import group_vertex_degree, group_edge_degree\n",
    "\n",
    "%time metrics = pd.DataFrame({'sz': [(clusters == cl).sum() for cl in range(n_clusters)], \\\n",
    "                          'vdeg': [group_vertex_degree(facebook2, clusters == i) for i in range(n_clusters)], \\\n",
    "                          'edeg': [group_edge_degree(facebook2, clusters == i) for i in range(n_clusters)]})\n",
    "\n",
    "metrics[\"vratio\"] = metrics.vdeg / metrics.sz\n",
    "metrics[\"eratio\"] = metrics.edeg / metrics.sz\n",
    "\n",
    "metrics.describe()"
   ]
  },
  {
   "cell_type": "code",
   "execution_count": 52,
   "metadata": {
    "collapsed": false,
    "scrolled": false
   },
   "outputs": [
    {
     "data": {
      "text/html": [
       "<div>\n",
       "<table border=\"1\" class=\"dataframe\">\n",
       "  <thead>\n",
       "    <tr style=\"text-align: right;\">\n",
       "      <th></th>\n",
       "      <th>edeg</th>\n",
       "      <th>sz</th>\n",
       "      <th>vdeg</th>\n",
       "      <th>vratio</th>\n",
       "      <th>eratio</th>\n",
       "    </tr>\n",
       "  </thead>\n",
       "  <tbody>\n",
       "    <tr>\n",
       "      <th>count</th>\n",
       "      <td>54.000000</td>\n",
       "      <td>54.000000</td>\n",
       "      <td>54.000000</td>\n",
       "      <td>54.000000</td>\n",
       "      <td>54.000000</td>\n",
       "    </tr>\n",
       "    <tr>\n",
       "      <th>mean</th>\n",
       "      <td>60.611111</td>\n",
       "      <td>52.388889</td>\n",
       "      <td>13.074074</td>\n",
       "      <td>0.217480</td>\n",
       "      <td>1.168946</td>\n",
       "    </tr>\n",
       "    <tr>\n",
       "      <th>std</th>\n",
       "      <td>86.809794</td>\n",
       "      <td>67.717620</td>\n",
       "      <td>23.015870</td>\n",
       "      <td>0.137044</td>\n",
       "      <td>0.349497</td>\n",
       "    </tr>\n",
       "    <tr>\n",
       "      <th>min</th>\n",
       "      <td>3.000000</td>\n",
       "      <td>3.000000</td>\n",
       "      <td>1.000000</td>\n",
       "      <td>0.011111</td>\n",
       "      <td>0.430000</td>\n",
       "    </tr>\n",
       "    <tr>\n",
       "      <th>25%</th>\n",
       "      <td>13.000000</td>\n",
       "      <td>10.000000</td>\n",
       "      <td>1.000000</td>\n",
       "      <td>0.102778</td>\n",
       "      <td>1.000000</td>\n",
       "    </tr>\n",
       "    <tr>\n",
       "      <th>50%</th>\n",
       "      <td>22.500000</td>\n",
       "      <td>23.500000</td>\n",
       "      <td>3.000000</td>\n",
       "      <td>0.200000</td>\n",
       "      <td>1.058422</td>\n",
       "    </tr>\n",
       "    <tr>\n",
       "      <th>75%</th>\n",
       "      <td>60.750000</td>\n",
       "      <td>68.500000</td>\n",
       "      <td>16.250000</td>\n",
       "      <td>0.333333</td>\n",
       "      <td>1.267045</td>\n",
       "    </tr>\n",
       "    <tr>\n",
       "      <th>max</th>\n",
       "      <td>468.000000</td>\n",
       "      <td>337.000000</td>\n",
       "      <td>118.000000</td>\n",
       "      <td>0.494898</td>\n",
       "      <td>2.000000</td>\n",
       "    </tr>\n",
       "  </tbody>\n",
       "</table>\n",
       "</div>"
      ],
      "text/plain": [
       "             edeg          sz        vdeg     vratio     eratio\n",
       "count   54.000000   54.000000   54.000000  54.000000  54.000000\n",
       "mean    60.611111   52.388889   13.074074   0.217480   1.168946\n",
       "std     86.809794   67.717620   23.015870   0.137044   0.349497\n",
       "min      3.000000    3.000000    1.000000   0.011111   0.430000\n",
       "25%     13.000000   10.000000    1.000000   0.102778   1.000000\n",
       "50%     22.500000   23.500000    3.000000   0.200000   1.058422\n",
       "75%     60.750000   68.500000   16.250000   0.333333   1.267045\n",
       "max    468.000000  337.000000  118.000000   0.494898   2.000000"
      ]
     },
     "execution_count": 52,
     "metadata": {},
     "output_type": "execute_result"
    }
   ],
   "source": [
    "metrics[metrics.vratio < 0.5].describe()"
   ]
  },
  {
   "cell_type": "code",
   "execution_count": 53,
   "metadata": {
    "collapsed": false
   },
   "outputs": [
    {
     "name": "stderr",
     "output_type": "stream",
     "text": [
      "C:\\Anaconda3\\lib\\site-packages\\ipykernel\\__main__.py:1: UserWarning: Boolean Series key will be reindexed to match DataFrame index.\n",
      "  if __name__ == '__main__':\n"
     ]
    },
    {
     "data": {
      "text/html": [
       "<div>\n",
       "<table border=\"1\" class=\"dataframe\">\n",
       "  <thead>\n",
       "    <tr style=\"text-align: right;\">\n",
       "      <th></th>\n",
       "      <th>edeg</th>\n",
       "      <th>sz</th>\n",
       "      <th>vdeg</th>\n",
       "      <th>vratio</th>\n",
       "      <th>eratio</th>\n",
       "    </tr>\n",
       "  </thead>\n",
       "  <tbody>\n",
       "    <tr>\n",
       "      <th>count</th>\n",
       "      <td>39.000000</td>\n",
       "      <td>39.000000</td>\n",
       "      <td>39.000000</td>\n",
       "      <td>39.000000</td>\n",
       "      <td>39.000000</td>\n",
       "    </tr>\n",
       "    <tr>\n",
       "      <th>mean</th>\n",
       "      <td>21.897436</td>\n",
       "      <td>21.435897</td>\n",
       "      <td>2.461538</td>\n",
       "      <td>0.177492</td>\n",
       "      <td>1.154899</td>\n",
       "    </tr>\n",
       "    <tr>\n",
       "      <th>std</th>\n",
       "      <td>17.827824</td>\n",
       "      <td>21.314432</td>\n",
       "      <td>2.062780</td>\n",
       "      <td>0.123642</td>\n",
       "      <td>0.359357</td>\n",
       "    </tr>\n",
       "    <tr>\n",
       "      <th>min</th>\n",
       "      <td>3.000000</td>\n",
       "      <td>3.000000</td>\n",
       "      <td>1.000000</td>\n",
       "      <td>0.011111</td>\n",
       "      <td>0.430000</td>\n",
       "    </tr>\n",
       "    <tr>\n",
       "      <th>25%</th>\n",
       "      <td>10.000000</td>\n",
       "      <td>8.500000</td>\n",
       "      <td>1.000000</td>\n",
       "      <td>0.055728</td>\n",
       "      <td>1.000000</td>\n",
       "    </tr>\n",
       "    <tr>\n",
       "      <th>50%</th>\n",
       "      <td>19.000000</td>\n",
       "      <td>16.000000</td>\n",
       "      <td>2.000000</td>\n",
       "      <td>0.166667</td>\n",
       "      <td>1.000000</td>\n",
       "    </tr>\n",
       "    <tr>\n",
       "      <th>75%</th>\n",
       "      <td>27.500000</td>\n",
       "      <td>26.000000</td>\n",
       "      <td>3.000000</td>\n",
       "      <td>0.265396</td>\n",
       "      <td>1.181818</td>\n",
       "    </tr>\n",
       "    <tr>\n",
       "      <th>max</th>\n",
       "      <td>90.000000</td>\n",
       "      <td>100.000000</td>\n",
       "      <td>8.000000</td>\n",
       "      <td>0.428571</td>\n",
       "      <td>2.000000</td>\n",
       "    </tr>\n",
       "  </tbody>\n",
       "</table>\n",
       "</div>"
      ],
      "text/plain": [
       "            edeg          sz       vdeg     vratio     eratio\n",
       "count  39.000000   39.000000  39.000000  39.000000  39.000000\n",
       "mean   21.897436   21.435897   2.461538   0.177492   1.154899\n",
       "std    17.827824   21.314432   2.062780   0.123642   0.359357\n",
       "min     3.000000    3.000000   1.000000   0.011111   0.430000\n",
       "25%    10.000000    8.500000   1.000000   0.055728   1.000000\n",
       "50%    19.000000   16.000000   2.000000   0.166667   1.000000\n",
       "75%    27.500000   26.000000   3.000000   0.265396   1.181818\n",
       "max    90.000000  100.000000   8.000000   0.428571   2.000000"
      ]
     },
     "execution_count": 53,
     "metadata": {},
     "output_type": "execute_result"
    }
   ],
   "source": [
    "metrics[metrics.vratio < 0.5][metrics.vdeg < 10].describe()"
   ]
  },
  {
   "cell_type": "code",
   "execution_count": 55,
   "metadata": {
    "collapsed": false
   },
   "outputs": [
    {
     "data": {
      "text/html": [
       "<div>\n",
       "<table border=\"1\" class=\"dataframe\">\n",
       "  <thead>\n",
       "    <tr style=\"text-align: right;\">\n",
       "      <th></th>\n",
       "      <th>edeg</th>\n",
       "      <th>sz</th>\n",
       "      <th>vdeg</th>\n",
       "      <th>vratio</th>\n",
       "      <th>eratio</th>\n",
       "    </tr>\n",
       "  </thead>\n",
       "  <tbody>\n",
       "    <tr>\n",
       "      <th>count</th>\n",
       "      <td>1.0</td>\n",
       "      <td>1.0</td>\n",
       "      <td>1.0</td>\n",
       "      <td>1.00</td>\n",
       "      <td>1.00</td>\n",
       "    </tr>\n",
       "    <tr>\n",
       "      <th>mean</th>\n",
       "      <td>43.0</td>\n",
       "      <td>100.0</td>\n",
       "      <td>5.0</td>\n",
       "      <td>0.05</td>\n",
       "      <td>0.43</td>\n",
       "    </tr>\n",
       "    <tr>\n",
       "      <th>std</th>\n",
       "      <td>NaN</td>\n",
       "      <td>NaN</td>\n",
       "      <td>NaN</td>\n",
       "      <td>NaN</td>\n",
       "      <td>NaN</td>\n",
       "    </tr>\n",
       "    <tr>\n",
       "      <th>min</th>\n",
       "      <td>43.0</td>\n",
       "      <td>100.0</td>\n",
       "      <td>5.0</td>\n",
       "      <td>0.05</td>\n",
       "      <td>0.43</td>\n",
       "    </tr>\n",
       "    <tr>\n",
       "      <th>25%</th>\n",
       "      <td>43.0</td>\n",
       "      <td>100.0</td>\n",
       "      <td>5.0</td>\n",
       "      <td>0.05</td>\n",
       "      <td>0.43</td>\n",
       "    </tr>\n",
       "    <tr>\n",
       "      <th>50%</th>\n",
       "      <td>43.0</td>\n",
       "      <td>100.0</td>\n",
       "      <td>5.0</td>\n",
       "      <td>0.05</td>\n",
       "      <td>0.43</td>\n",
       "    </tr>\n",
       "    <tr>\n",
       "      <th>75%</th>\n",
       "      <td>43.0</td>\n",
       "      <td>100.0</td>\n",
       "      <td>5.0</td>\n",
       "      <td>0.05</td>\n",
       "      <td>0.43</td>\n",
       "    </tr>\n",
       "    <tr>\n",
       "      <th>max</th>\n",
       "      <td>43.0</td>\n",
       "      <td>100.0</td>\n",
       "      <td>5.0</td>\n",
       "      <td>0.05</td>\n",
       "      <td>0.43</td>\n",
       "    </tr>\n",
       "  </tbody>\n",
       "</table>\n",
       "</div>"
      ],
      "text/plain": [
       "       edeg     sz  vdeg  vratio  eratio\n",
       "count   1.0    1.0   1.0    1.00    1.00\n",
       "mean   43.0  100.0   5.0    0.05    0.43\n",
       "std     NaN    NaN   NaN     NaN     NaN\n",
       "min    43.0  100.0   5.0    0.05    0.43\n",
       "25%    43.0  100.0   5.0    0.05    0.43\n",
       "50%    43.0  100.0   5.0    0.05    0.43\n",
       "75%    43.0  100.0   5.0    0.05    0.43\n",
       "max    43.0  100.0   5.0    0.05    0.43"
      ]
     },
     "execution_count": 55,
     "metadata": {},
     "output_type": "execute_result"
    }
   ],
   "source": [
    "metrics[metrics.eratio < 0.5].describe()"
   ]
  },
  {
   "cell_type": "code",
   "execution_count": 56,
   "metadata": {
    "collapsed": false
   },
   "outputs": [
    {
     "name": "stdout",
     "output_type": "stream",
     "text": [
      "0.283148831488\n"
     ]
    },
    {
     "data": {
      "text/plain": [
       "[<matplotlib.lines.Line2D at 0x27082cba1d0>]"
      ]
     },
     "execution_count": 56,
     "metadata": {},
     "output_type": "execute_result"
    },
    {
     "data": {
      "image/png": "[encoded data removed]",
      "text/plain": [
       "<matplotlib.figure.Figure at 0x27082c36278>"
      ]
     },
     "metadata": {},
     "output_type": "display_data"
    }
   ],
   "source": [
    "def eratios(df):\n",
    "    return np.array([len(metrics[metrics.eratio < i])/len(metrics) for i in range(10)])\n",
    "\n",
    "def perf(df):\n",
    "    return (eratios(df)/10).sum()\n",
    "\n",
    "er = eratios(metrics)\n",
    "\n",
    "print (perf(metrics))\n",
    "\n",
    "plt.plot(er)"
   ]
  },
  {
   "cell_type": "code",
   "execution_count": 58,
   "metadata": {
    "collapsed": false
   },
   "outputs": [
    {
     "data": {
      "text/html": [
       "<div>\n",
       "<table border=\"1\" class=\"dataframe\">\n",
       "  <thead>\n",
       "    <tr style=\"text-align: right;\">\n",
       "      <th></th>\n",
       "      <th>edeg</th>\n",
       "      <th>sz</th>\n",
       "      <th>vdeg</th>\n",
       "      <th>vratio</th>\n",
       "      <th>eratio</th>\n",
       "      <th>ratio_cut</th>\n",
       "      <th>n_cut</th>\n",
       "    </tr>\n",
       "  </thead>\n",
       "  <tbody>\n",
       "    <tr>\n",
       "      <th>count</th>\n",
       "      <td>813.000000</td>\n",
       "      <td>813.000000</td>\n",
       "      <td>813.000000</td>\n",
       "      <td>813.000000</td>\n",
       "      <td>813.000000</td>\n",
       "      <td>813.000000</td>\n",
       "      <td>813.000000</td>\n",
       "    </tr>\n",
       "    <tr>\n",
       "      <th>mean</th>\n",
       "      <td>1480.383764</td>\n",
       "      <td>100.007380</td>\n",
       "      <td>432.249692</td>\n",
       "      <td>8.351019</td>\n",
       "      <td>12.801758</td>\n",
       "      <td>8.351019</td>\n",
       "      <td>0.540728</td>\n",
       "    </tr>\n",
       "    <tr>\n",
       "      <th>std</th>\n",
       "      <td>5733.860244</td>\n",
       "      <td>259.958532</td>\n",
       "      <td>1250.074620</td>\n",
       "      <td>14.382741</td>\n",
       "      <td>16.379581</td>\n",
       "      <td>14.382741</td>\n",
       "      <td>0.342520</td>\n",
       "    </tr>\n",
       "    <tr>\n",
       "      <th>min</th>\n",
       "      <td>2.000000</td>\n",
       "      <td>1.000000</td>\n",
       "      <td>1.000000</td>\n",
       "      <td>0.011111</td>\n",
       "      <td>0.430000</td>\n",
       "      <td>0.011111</td>\n",
       "      <td>0.001701</td>\n",
       "    </tr>\n",
       "    <tr>\n",
       "      <th>25%</th>\n",
       "      <td>13.000000</td>\n",
       "      <td>2.000000</td>\n",
       "      <td>9.000000</td>\n",
       "      <td>2.000000</td>\n",
       "      <td>3.461538</td>\n",
       "      <td>2.000000</td>\n",
       "      <td>0.222011</td>\n",
       "    </tr>\n",
       "    <tr>\n",
       "      <th>50%</th>\n",
       "      <td>77.000000</td>\n",
       "      <td>8.000000</td>\n",
       "      <td>41.000000</td>\n",
       "      <td>4.454545</td>\n",
       "      <td>7.750000</td>\n",
       "      <td>4.454545</td>\n",
       "      <td>0.543103</td>\n",
       "    </tr>\n",
       "    <tr>\n",
       "      <th>75%</th>\n",
       "      <td>441.000000</td>\n",
       "      <td>63.000000</td>\n",
       "      <td>195.000000</td>\n",
       "      <td>9.133455</td>\n",
       "      <td>16.333333</td>\n",
       "      <td>9.133455</td>\n",
       "      <td>0.871658</td>\n",
       "    </tr>\n",
       "    <tr>\n",
       "      <th>max</th>\n",
       "      <td>82971.000000</td>\n",
       "      <td>2594.000000</td>\n",
       "      <td>11619.000000</td>\n",
       "      <td>219.000000</td>\n",
       "      <td>219.500000</td>\n",
       "      <td>219.000000</td>\n",
       "      <td>1.000000</td>\n",
       "    </tr>\n",
       "  </tbody>\n",
       "</table>\n",
       "</div>"
      ],
      "text/plain": [
       "               edeg           sz          vdeg      vratio      eratio  \\\n",
       "count    813.000000   813.000000    813.000000  813.000000  813.000000   \n",
       "mean    1480.383764   100.007380    432.249692    8.351019   12.801758   \n",
       "std     5733.860244   259.958532   1250.074620   14.382741   16.379581   \n",
       "min        2.000000     1.000000      1.000000    0.011111    0.430000   \n",
       "25%       13.000000     2.000000      9.000000    2.000000    3.461538   \n",
       "50%       77.000000     8.000000     41.000000    4.454545    7.750000   \n",
       "75%      441.000000    63.000000    195.000000    9.133455   16.333333   \n",
       "max    82971.000000  2594.000000  11619.000000  219.000000  219.500000   \n",
       "\n",
       "        ratio_cut       n_cut  \n",
       "count  813.000000  813.000000  \n",
       "mean     8.351019    0.540728  \n",
       "std     14.382741    0.342520  \n",
       "min      0.011111    0.001701  \n",
       "25%      2.000000    0.222011  \n",
       "50%      4.454545    0.543103  \n",
       "75%      9.133455    0.871658  \n",
       "max    219.000000    1.000000  "
      ]
     },
     "execution_count": 58,
     "metadata": {},
     "output_type": "execute_result"
    }
   ],
   "source": [
    "from imp import reload\n",
    "import gmet\n",
    "reload(gmet)\n",
    "\n",
    "metrics[\"ratio_cut\"] = gmet.ratio_cut_list(facebook2, clusters)\n",
    "metrics[\"n_cut\"] = gmet.n_cut_list(facebook2, clusters)\n",
    "\n",
    "metrics.describe()"
   ]
  },
  {
   "cell_type": "markdown",
   "metadata": {},
   "source": [
    "Même avec une centaine de vertex par sous-graphe en moyenne, on a la moitié des sous-graphes à moins de 8 composantes => OK pour diminuer le nombre de clusters!"
   ]
  },
  {
   "cell_type": "code",
   "execution_count": 62,
   "metadata": {
    "collapsed": false
   },
   "outputs": [
    {
     "data": {
      "text/html": [
       "<div>\n",
       "<table border=\"1\" class=\"dataframe\">\n",
       "  <thead>\n",
       "    <tr style=\"text-align: right;\">\n",
       "      <th></th>\n",
       "      <th>edeg</th>\n",
       "      <th>sz</th>\n",
       "      <th>vdeg</th>\n",
       "      <th>vratio</th>\n",
       "      <th>eratio</th>\n",
       "      <th>ratio_cut</th>\n",
       "      <th>n_cut</th>\n",
       "    </tr>\n",
       "  </thead>\n",
       "  <tbody>\n",
       "    <tr>\n",
       "      <th>count</th>\n",
       "      <td>516.000000</td>\n",
       "      <td>516.000000</td>\n",
       "      <td>516.000000</td>\n",
       "      <td>516.000000</td>\n",
       "      <td>516.000000</td>\n",
       "      <td>516.000000</td>\n",
       "      <td>516.000000</td>\n",
       "    </tr>\n",
       "    <tr>\n",
       "      <th>mean</th>\n",
       "      <td>2319.779070</td>\n",
       "      <td>156.641473</td>\n",
       "      <td>669.943798</td>\n",
       "      <td>6.051767</td>\n",
       "      <td>12.448959</td>\n",
       "      <td>6.051767</td>\n",
       "      <td>0.342412</td>\n",
       "    </tr>\n",
       "    <tr>\n",
       "      <th>std</th>\n",
       "      <td>7064.273783</td>\n",
       "      <td>312.655649</td>\n",
       "      <td>1519.250901</td>\n",
       "      <td>7.825818</td>\n",
       "      <td>12.243630</td>\n",
       "      <td>7.825818</td>\n",
       "      <td>0.243184</td>\n",
       "    </tr>\n",
       "    <tr>\n",
       "      <th>min</th>\n",
       "      <td>5.000000</td>\n",
       "      <td>4.000000</td>\n",
       "      <td>1.000000</td>\n",
       "      <td>0.011111</td>\n",
       "      <td>0.430000</td>\n",
       "      <td>0.011111</td>\n",
       "      <td>0.001701</td>\n",
       "    </tr>\n",
       "    <tr>\n",
       "      <th>25%</th>\n",
       "      <td>78.000000</td>\n",
       "      <td>9.000000</td>\n",
       "      <td>38.000000</td>\n",
       "      <td>1.315038</td>\n",
       "      <td>3.250000</td>\n",
       "      <td>1.315038</td>\n",
       "      <td>0.127672</td>\n",
       "    </tr>\n",
       "    <tr>\n",
       "      <th>50%</th>\n",
       "      <td>237.000000</td>\n",
       "      <td>33.500000</td>\n",
       "      <td>115.000000</td>\n",
       "      <td>3.566964</td>\n",
       "      <td>8.413793</td>\n",
       "      <td>3.566964</td>\n",
       "      <td>0.297774</td>\n",
       "    </tr>\n",
       "    <tr>\n",
       "      <th>75%</th>\n",
       "      <td>1257.500000</td>\n",
       "      <td>154.250000</td>\n",
       "      <td>499.500000</td>\n",
       "      <td>7.589634</td>\n",
       "      <td>17.901088</td>\n",
       "      <td>7.589634</td>\n",
       "      <td>0.548439</td>\n",
       "    </tr>\n",
       "    <tr>\n",
       "      <th>max</th>\n",
       "      <td>82971.000000</td>\n",
       "      <td>2594.000000</td>\n",
       "      <td>11619.000000</td>\n",
       "      <td>65.789474</td>\n",
       "      <td>87.000000</td>\n",
       "      <td>65.789474</td>\n",
       "      <td>0.973970</td>\n",
       "    </tr>\n",
       "  </tbody>\n",
       "</table>\n",
       "</div>"
      ],
      "text/plain": [
       "               edeg           sz          vdeg      vratio      eratio  \\\n",
       "count    516.000000   516.000000    516.000000  516.000000  516.000000   \n",
       "mean    2319.779070   156.641473    669.943798    6.051767   12.448959   \n",
       "std     7064.273783   312.655649   1519.250901    7.825818   12.243630   \n",
       "min        5.000000     4.000000      1.000000    0.011111    0.430000   \n",
       "25%       78.000000     9.000000     38.000000    1.315038    3.250000   \n",
       "50%      237.000000    33.500000    115.000000    3.566964    8.413793   \n",
       "75%     1257.500000   154.250000    499.500000    7.589634   17.901088   \n",
       "max    82971.000000  2594.000000  11619.000000   65.789474   87.000000   \n",
       "\n",
       "        ratio_cut       n_cut  \n",
       "count  516.000000  516.000000  \n",
       "mean     6.051767    0.342412  \n",
       "std      7.825818    0.243184  \n",
       "min      0.011111    0.001701  \n",
       "25%      1.315038    0.127672  \n",
       "50%      3.566964    0.297774  \n",
       "75%      7.589634    0.548439  \n",
       "max     65.789474    0.973970  "
      ]
     },
     "execution_count": 62,
     "metadata": {},
     "output_type": "execute_result"
    }
   ],
   "source": [
    "metrics[metrics.sz >= 4].describe()"
   ]
  },
  {
   "cell_type": "code",
   "execution_count": 64,
   "metadata": {
    "collapsed": false
   },
   "outputs": [
    {
     "data": {
      "text/html": [
       "<div>\n",
       "<table border=\"1\" class=\"dataframe\">\n",
       "  <thead>\n",
       "    <tr style=\"text-align: right;\">\n",
       "      <th></th>\n",
       "      <th>edeg</th>\n",
       "      <th>sz</th>\n",
       "      <th>vdeg</th>\n",
       "      <th>vratio</th>\n",
       "      <th>eratio</th>\n",
       "      <th>ratio_cut</th>\n",
       "      <th>n_cut</th>\n",
       "    </tr>\n",
       "  </thead>\n",
       "  <tbody>\n",
       "    <tr>\n",
       "      <th>2</th>\n",
       "      <td>90.0</td>\n",
       "      <td>90</td>\n",
       "      <td>1</td>\n",
       "      <td>0.011111</td>\n",
       "      <td>1.000000</td>\n",
       "      <td>0.011111</td>\n",
       "      <td>0.001701</td>\n",
       "    </tr>\n",
       "    <tr>\n",
       "      <th>8</th>\n",
       "      <td>33.0</td>\n",
       "      <td>33</td>\n",
       "      <td>1</td>\n",
       "      <td>0.030303</td>\n",
       "      <td>1.000000</td>\n",
       "      <td>0.030303</td>\n",
       "      <td>0.008264</td>\n",
       "    </tr>\n",
       "    <tr>\n",
       "      <th>12</th>\n",
       "      <td>57.0</td>\n",
       "      <td>57</td>\n",
       "      <td>1</td>\n",
       "      <td>0.017544</td>\n",
       "      <td>1.000000</td>\n",
       "      <td>0.017544</td>\n",
       "      <td>0.014493</td>\n",
       "    </tr>\n",
       "    <tr>\n",
       "      <th>16</th>\n",
       "      <td>20.0</td>\n",
       "      <td>20</td>\n",
       "      <td>1</td>\n",
       "      <td>0.050000</td>\n",
       "      <td>1.000000</td>\n",
       "      <td>0.050000</td>\n",
       "      <td>0.033333</td>\n",
       "    </tr>\n",
       "    <tr>\n",
       "      <th>32</th>\n",
       "      <td>27.0</td>\n",
       "      <td>27</td>\n",
       "      <td>1</td>\n",
       "      <td>0.037037</td>\n",
       "      <td>1.000000</td>\n",
       "      <td>0.037037</td>\n",
       "      <td>0.025000</td>\n",
       "    </tr>\n",
       "    <tr>\n",
       "      <th>41</th>\n",
       "      <td>71.0</td>\n",
       "      <td>67</td>\n",
       "      <td>11</td>\n",
       "      <td>0.164179</td>\n",
       "      <td>1.059701</td>\n",
       "      <td>0.164179</td>\n",
       "      <td>0.099099</td>\n",
       "    </tr>\n",
       "    <tr>\n",
       "      <th>42</th>\n",
       "      <td>8.0</td>\n",
       "      <td>8</td>\n",
       "      <td>1</td>\n",
       "      <td>0.125000</td>\n",
       "      <td>1.000000</td>\n",
       "      <td>0.125000</td>\n",
       "      <td>0.125000</td>\n",
       "    </tr>\n",
       "    <tr>\n",
       "      <th>62</th>\n",
       "      <td>19.0</td>\n",
       "      <td>19</td>\n",
       "      <td>1</td>\n",
       "      <td>0.052632</td>\n",
       "      <td>1.000000</td>\n",
       "      <td>0.052632</td>\n",
       "      <td>0.022222</td>\n",
       "    </tr>\n",
       "    <tr>\n",
       "      <th>91</th>\n",
       "      <td>43.0</td>\n",
       "      <td>100</td>\n",
       "      <td>5</td>\n",
       "      <td>0.050000</td>\n",
       "      <td>0.430000</td>\n",
       "      <td>0.050000</td>\n",
       "      <td>0.002417</td>\n",
       "    </tr>\n",
       "    <tr>\n",
       "      <th>139</th>\n",
       "      <td>20.0</td>\n",
       "      <td>20</td>\n",
       "      <td>1</td>\n",
       "      <td>0.050000</td>\n",
       "      <td>1.000000</td>\n",
       "      <td>0.050000</td>\n",
       "      <td>0.045455</td>\n",
       "    </tr>\n",
       "    <tr>\n",
       "      <th>176</th>\n",
       "      <td>179.0</td>\n",
       "      <td>203</td>\n",
       "      <td>29</td>\n",
       "      <td>0.142857</td>\n",
       "      <td>0.881773</td>\n",
       "      <td>0.142857</td>\n",
       "      <td>0.005456</td>\n",
       "    </tr>\n",
       "    <tr>\n",
       "      <th>181</th>\n",
       "      <td>191.0</td>\n",
       "      <td>187</td>\n",
       "      <td>28</td>\n",
       "      <td>0.149733</td>\n",
       "      <td>1.021390</td>\n",
       "      <td>0.149733</td>\n",
       "      <td>0.004554</td>\n",
       "    </tr>\n",
       "    <tr>\n",
       "      <th>209</th>\n",
       "      <td>56.0</td>\n",
       "      <td>48</td>\n",
       "      <td>8</td>\n",
       "      <td>0.166667</td>\n",
       "      <td>1.166667</td>\n",
       "      <td>0.166667</td>\n",
       "      <td>0.121212</td>\n",
       "    </tr>\n",
       "    <tr>\n",
       "      <th>224</th>\n",
       "      <td>287.0</td>\n",
       "      <td>213</td>\n",
       "      <td>42</td>\n",
       "      <td>0.197183</td>\n",
       "      <td>1.347418</td>\n",
       "      <td>0.197183</td>\n",
       "      <td>0.001709</td>\n",
       "    </tr>\n",
       "    <tr>\n",
       "      <th>264</th>\n",
       "      <td>49.0</td>\n",
       "      <td>25</td>\n",
       "      <td>4</td>\n",
       "      <td>0.160000</td>\n",
       "      <td>1.960000</td>\n",
       "      <td>0.160000</td>\n",
       "      <td>0.030534</td>\n",
       "    </tr>\n",
       "    <tr>\n",
       "      <th>333</th>\n",
       "      <td>10.0</td>\n",
       "      <td>10</td>\n",
       "      <td>1</td>\n",
       "      <td>0.100000</td>\n",
       "      <td>1.000000</td>\n",
       "      <td>0.100000</td>\n",
       "      <td>0.100000</td>\n",
       "    </tr>\n",
       "    <tr>\n",
       "      <th>385</th>\n",
       "      <td>37.0</td>\n",
       "      <td>35</td>\n",
       "      <td>5</td>\n",
       "      <td>0.142857</td>\n",
       "      <td>1.057143</td>\n",
       "      <td>0.142857</td>\n",
       "      <td>0.128205</td>\n",
       "    </tr>\n",
       "    <tr>\n",
       "      <th>406</th>\n",
       "      <td>9.0</td>\n",
       "      <td>9</td>\n",
       "      <td>1</td>\n",
       "      <td>0.111111</td>\n",
       "      <td>1.000000</td>\n",
       "      <td>0.111111</td>\n",
       "      <td>0.111111</td>\n",
       "    </tr>\n",
       "    <tr>\n",
       "      <th>469</th>\n",
       "      <td>20.0</td>\n",
       "      <td>20</td>\n",
       "      <td>1</td>\n",
       "      <td>0.050000</td>\n",
       "      <td>1.000000</td>\n",
       "      <td>0.050000</td>\n",
       "      <td>0.045455</td>\n",
       "    </tr>\n",
       "    <tr>\n",
       "      <th>481</th>\n",
       "      <td>20.0</td>\n",
       "      <td>16</td>\n",
       "      <td>3</td>\n",
       "      <td>0.187500</td>\n",
       "      <td>1.250000</td>\n",
       "      <td>0.187500</td>\n",
       "      <td>0.107143</td>\n",
       "    </tr>\n",
       "    <tr>\n",
       "      <th>517</th>\n",
       "      <td>24.0</td>\n",
       "      <td>23</td>\n",
       "      <td>2</td>\n",
       "      <td>0.086957</td>\n",
       "      <td>1.043478</td>\n",
       "      <td>0.086957</td>\n",
       "      <td>0.055556</td>\n",
       "    </tr>\n",
       "    <tr>\n",
       "      <th>525</th>\n",
       "      <td>21.0</td>\n",
       "      <td>19</td>\n",
       "      <td>3</td>\n",
       "      <td>0.157895</td>\n",
       "      <td>1.105263</td>\n",
       "      <td>0.157895</td>\n",
       "      <td>0.090909</td>\n",
       "    </tr>\n",
       "    <tr>\n",
       "      <th>576</th>\n",
       "      <td>19.0</td>\n",
       "      <td>17</td>\n",
       "      <td>3</td>\n",
       "      <td>0.176471</td>\n",
       "      <td>1.117647</td>\n",
       "      <td>0.176471</td>\n",
       "      <td>0.120000</td>\n",
       "    </tr>\n",
       "    <tr>\n",
       "      <th>596</th>\n",
       "      <td>28.0</td>\n",
       "      <td>28</td>\n",
       "      <td>1</td>\n",
       "      <td>0.035714</td>\n",
       "      <td>1.000000</td>\n",
       "      <td>0.035714</td>\n",
       "      <td>0.035714</td>\n",
       "    </tr>\n",
       "    <tr>\n",
       "      <th>756</th>\n",
       "      <td>13.0</td>\n",
       "      <td>13</td>\n",
       "      <td>1</td>\n",
       "      <td>0.076923</td>\n",
       "      <td>1.000000</td>\n",
       "      <td>0.076923</td>\n",
       "      <td>0.076923</td>\n",
       "    </tr>\n",
       "    <tr>\n",
       "      <th>765</th>\n",
       "      <td>35.0</td>\n",
       "      <td>34</td>\n",
       "      <td>2</td>\n",
       "      <td>0.058824</td>\n",
       "      <td>1.029412</td>\n",
       "      <td>0.058824</td>\n",
       "      <td>0.003540</td>\n",
       "    </tr>\n",
       "  </tbody>\n",
       "</table>\n",
       "</div>"
      ],
      "text/plain": [
       "      edeg   sz  vdeg    vratio    eratio  ratio_cut     n_cut\n",
       "2     90.0   90     1  0.011111  1.000000   0.011111  0.001701\n",
       "8     33.0   33     1  0.030303  1.000000   0.030303  0.008264\n",
       "12    57.0   57     1  0.017544  1.000000   0.017544  0.014493\n",
       "16    20.0   20     1  0.050000  1.000000   0.050000  0.033333\n",
       "32    27.0   27     1  0.037037  1.000000   0.037037  0.025000\n",
       "41    71.0   67    11  0.164179  1.059701   0.164179  0.099099\n",
       "42     8.0    8     1  0.125000  1.000000   0.125000  0.125000\n",
       "62    19.0   19     1  0.052632  1.000000   0.052632  0.022222\n",
       "91    43.0  100     5  0.050000  0.430000   0.050000  0.002417\n",
       "139   20.0   20     1  0.050000  1.000000   0.050000  0.045455\n",
       "176  179.0  203    29  0.142857  0.881773   0.142857  0.005456\n",
       "181  191.0  187    28  0.149733  1.021390   0.149733  0.004554\n",
       "209   56.0   48     8  0.166667  1.166667   0.166667  0.121212\n",
       "224  287.0  213    42  0.197183  1.347418   0.197183  0.001709\n",
       "264   49.0   25     4  0.160000  1.960000   0.160000  0.030534\n",
       "333   10.0   10     1  0.100000  1.000000   0.100000  0.100000\n",
       "385   37.0   35     5  0.142857  1.057143   0.142857  0.128205\n",
       "406    9.0    9     1  0.111111  1.000000   0.111111  0.111111\n",
       "469   20.0   20     1  0.050000  1.000000   0.050000  0.045455\n",
       "481   20.0   16     3  0.187500  1.250000   0.187500  0.107143\n",
       "517   24.0   23     2  0.086957  1.043478   0.086957  0.055556\n",
       "525   21.0   19     3  0.157895  1.105263   0.157895  0.090909\n",
       "576   19.0   17     3  0.176471  1.117647   0.176471  0.120000\n",
       "596   28.0   28     1  0.035714  1.000000   0.035714  0.035714\n",
       "756   13.0   13     1  0.076923  1.000000   0.076923  0.076923\n",
       "765   35.0   34     2  0.058824  1.029412   0.058824  0.003540"
      ]
     },
     "execution_count": 64,
     "metadata": {},
     "output_type": "execute_result"
    }
   ],
   "source": [
    "metrics[(metrics.sz >=4) & (metrics.ratio_cut < 0.2)]"
   ]
  },
  {
   "cell_type": "code",
   "execution_count": 59,
   "metadata": {
    "collapsed": false
   },
   "outputs": [
    {
     "name": "stdout",
     "output_type": "stream",
     "text": [
      "6789.378637312192 439.6117051996319\n"
     ]
    }
   ],
   "source": [
    "print(metrics.ratio_cut.sum(), metrics.n_cut.sum())"
   ]
  }
 ],
 "metadata": {
  "kernelspec": {
   "display_name": "Python 3",
   "language": "python",
   "name": "python3"
  },
  "language_info": {
   "codemirror_mode": {
    "name": "ipython",
    "version": 3
   },
   "file_extension": ".py",
   "mimetype": "text/x-python",
   "name": "python",
   "nbconvert_exporter": "python",
   "pygments_lexer": "ipython3",
   "version": "3.5.1"
  }
 },
 "nbformat": 4,
 "nbformat_minor": 0
}
