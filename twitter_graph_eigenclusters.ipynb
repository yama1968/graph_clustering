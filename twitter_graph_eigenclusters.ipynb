{
 "cells": [
  {
   "cell_type": "code",
   "execution_count": 1,
   "metadata": {
    "collapsed": false
   },
   "outputs": [],
   "source": [
    "import numpy as np\n",
    "import pandas as pd\n",
    "import scipy\n",
    "from scipy.sparse import csr_matrix, diags, eye\n",
    "from sklearn.cluster import SpectralClustering\n",
    "from matplotlib import pyplot as plt\n",
    "import pylab\n",
    "\n",
    "plt.style.use('ggplot')\n",
    "pylab.rcParams['figure.figsize'] = (18.0, 12.0)\n",
    "\n",
    "%matplotlib inline"
   ]
  },
  {
   "cell_type": "code",
   "execution_count": 2,
   "metadata": {
    "collapsed": false
   },
   "outputs": [
    {
     "name": "stdout",
     "output_type": "stream",
     "text": [
      "2420766\n"
     ]
    },
    {
     "data": {
      "text/html": [
       "<div>\n",
       "<table border=\"1\" class=\"dataframe\">\n",
       "  <thead>\n",
       "    <tr style=\"text-align: right;\">\n",
       "      <th></th>\n",
       "      <th>0</th>\n",
       "      <th>1</th>\n",
       "    </tr>\n",
       "  </thead>\n",
       "  <tbody>\n",
       "    <tr>\n",
       "      <th>0</th>\n",
       "      <td>214328887</td>\n",
       "      <td>34428380</td>\n",
       "    </tr>\n",
       "    <tr>\n",
       "      <th>1</th>\n",
       "      <td>17116707</td>\n",
       "      <td>28465635</td>\n",
       "    </tr>\n",
       "    <tr>\n",
       "      <th>2</th>\n",
       "      <td>380580781</td>\n",
       "      <td>18996905</td>\n",
       "    </tr>\n",
       "    <tr>\n",
       "      <th>3</th>\n",
       "      <td>221036078</td>\n",
       "      <td>153460275</td>\n",
       "    </tr>\n",
       "    <tr>\n",
       "      <th>4</th>\n",
       "      <td>107830991</td>\n",
       "      <td>17868918</td>\n",
       "    </tr>\n",
       "  </tbody>\n",
       "</table>\n",
       "</div>"
      ],
      "text/plain": [
       "           0          1\n",
       "0  214328887   34428380\n",
       "1   17116707   28465635\n",
       "2  380580781   18996905\n",
       "3  221036078  153460275\n",
       "4  107830991   17868918"
      ]
     },
     "execution_count": 2,
     "metadata": {},
     "output_type": "execute_result"
    }
   ],
   "source": [
    "#df = pd.read_csv(\"./data/facebook_combined.txt.gz\", compression='infer', sep=\" \")\n",
    "df = pd.read_csv(\"./data/twitter_combined.txt.gz\", compression='infer', sep=\" \", header=None)\n",
    "\n",
    "print(len(df))\n",
    "df.head()"
   ]
  },
  {
   "cell_type": "code",
   "execution_count": 3,
   "metadata": {
    "collapsed": false
   },
   "outputs": [],
   "source": [
    "df.columns = [\"0\", \"1\"]"
   ]
  },
  {
   "cell_type": "code",
   "execution_count": 4,
   "metadata": {
    "collapsed": false
   },
   "outputs": [
    {
     "data": {
      "text/html": [
       "<div>\n",
       "<table border=\"1\" class=\"dataframe\">\n",
       "  <thead>\n",
       "    <tr style=\"text-align: right;\">\n",
       "      <th></th>\n",
       "      <th>0</th>\n",
       "      <th>1</th>\n",
       "    </tr>\n",
       "  </thead>\n",
       "  <tbody>\n",
       "    <tr>\n",
       "      <th>0</th>\n",
       "      <td>64848</td>\n",
       "      <td>33444</td>\n",
       "    </tr>\n",
       "    <tr>\n",
       "      <th>1</th>\n",
       "      <td>15266</td>\n",
       "      <td>30189</td>\n",
       "    </tr>\n",
       "    <tr>\n",
       "      <th>2</th>\n",
       "      <td>76829</td>\n",
       "      <td>19302</td>\n",
       "    </tr>\n",
       "    <tr>\n",
       "      <th>3</th>\n",
       "      <td>65515</td>\n",
       "      <td>58679</td>\n",
       "    </tr>\n",
       "    <tr>\n",
       "      <th>4</th>\n",
       "      <td>52420</td>\n",
       "      <td>16766</td>\n",
       "    </tr>\n",
       "  </tbody>\n",
       "</table>\n",
       "</div>"
      ],
      "text/plain": [
       "       0      1\n",
       "0  64848  33444\n",
       "1  15266  30189\n",
       "2  76829  19302\n",
       "3  65515  58679\n",
       "4  52420  16766"
      ]
     },
     "execution_count": 4,
     "metadata": {},
     "output_type": "execute_result"
    }
   ],
   "source": [
    "nodes = list(set(df[\"0\"]) | set(df[\"1\"]))\n",
    "nodes.sort()\n",
    "nodes[:20]\n",
    "nodes_to_idx = {n:i for i,n in enumerate(nodes)}\n",
    "\n",
    "df_o = df\n",
    "df = pd.DataFrame({\"0\": df[\"0\"].apply(lambda x: nodes_to_idx[x]), \n",
    "                   \"1\": df[\"1\"].apply(lambda x: nodes_to_idx[x])})\n",
    "df.head()          "
   ]
  },
  {
   "cell_type": "code",
   "execution_count": 5,
   "metadata": {
    "collapsed": false
   },
   "outputs": [
    {
     "data": {
      "text/html": [
       "<div>\n",
       "<table border=\"1\" class=\"dataframe\">\n",
       "  <thead>\n",
       "    <tr style=\"text-align: right;\">\n",
       "      <th></th>\n",
       "      <th>0</th>\n",
       "      <th>1</th>\n",
       "    </tr>\n",
       "  </thead>\n",
       "  <tbody>\n",
       "    <tr>\n",
       "      <th>count</th>\n",
       "      <td>2.420766e+06</td>\n",
       "      <td>2.420766e+06</td>\n",
       "    </tr>\n",
       "    <tr>\n",
       "      <th>mean</th>\n",
       "      <td>3.863062e+04</td>\n",
       "      <td>3.579259e+04</td>\n",
       "    </tr>\n",
       "    <tr>\n",
       "      <th>std</th>\n",
       "      <td>2.424377e+04</td>\n",
       "      <td>2.372641e+04</td>\n",
       "    </tr>\n",
       "    <tr>\n",
       "      <th>min</th>\n",
       "      <td>0.000000e+00</td>\n",
       "      <td>0.000000e+00</td>\n",
       "    </tr>\n",
       "    <tr>\n",
       "      <th>25%</th>\n",
       "      <td>1.635800e+04</td>\n",
       "      <td>1.423600e+04</td>\n",
       "    </tr>\n",
       "    <tr>\n",
       "      <th>50%</th>\n",
       "      <td>3.852100e+04</td>\n",
       "      <td>3.366600e+04</td>\n",
       "    </tr>\n",
       "    <tr>\n",
       "      <th>75%</th>\n",
       "      <td>6.046100e+04</td>\n",
       "      <td>5.655900e+04</td>\n",
       "    </tr>\n",
       "    <tr>\n",
       "      <th>max</th>\n",
       "      <td>8.130500e+04</td>\n",
       "      <td>8.130500e+04</td>\n",
       "    </tr>\n",
       "  </tbody>\n",
       "</table>\n",
       "</div>"
      ],
      "text/plain": [
       "                  0             1\n",
       "count  2.420766e+06  2.420766e+06\n",
       "mean   3.863062e+04  3.579259e+04\n",
       "std    2.424377e+04  2.372641e+04\n",
       "min    0.000000e+00  0.000000e+00\n",
       "25%    1.635800e+04  1.423600e+04\n",
       "50%    3.852100e+04  3.366600e+04\n",
       "75%    6.046100e+04  5.655900e+04\n",
       "max    8.130500e+04  8.130500e+04"
      ]
     },
     "execution_count": 5,
     "metadata": {},
     "output_type": "execute_result"
    }
   ],
   "source": [
    "df.describe()"
   ]
  },
  {
   "cell_type": "code",
   "execution_count": 6,
   "metadata": {
    "collapsed": false
   },
   "outputs": [
    {
     "name": "stdout",
     "output_type": "stream",
     "text": [
      "2420766 81306\n"
     ]
    }
   ],
   "source": [
    "e = len(df)\n",
    "v = max(np.max(np.unique(df[\"0\"])), np.max(np.unique(df[\"1\"]))) + 1\n",
    "print(e,v)"
   ]
  },
  {
   "cell_type": "markdown",
   "metadata": {},
   "source": [
    "## Passage au Laplacien"
   ]
  },
  {
   "cell_type": "code",
   "execution_count": 7,
   "metadata": {
    "collapsed": false
   },
   "outputs": [],
   "source": [
    "facebook2 = csr_matrix((np.ones(e), (df['0'], df['1'])), shape=(v,v))\n",
    "facebook2 = 1.0 * ((facebook2 + facebook2.T) !=0)"
   ]
  },
  {
   "cell_type": "code",
   "execution_count": 8,
   "metadata": {
    "collapsed": false
   },
   "outputs": [
    {
     "data": {
      "text/plain": [
       "<81306x81306 sparse matrix of type '<class 'numpy.bool_'>'\n",
       "\twith 0 stored elements in Compressed Sparse Row format>"
      ]
     },
     "execution_count": 8,
     "metadata": {},
     "output_type": "execute_result"
    }
   ],
   "source": [
    "(facebook2 > 1)"
   ]
  },
  {
   "cell_type": "code",
   "execution_count": 9,
   "metadata": {
    "collapsed": false
   },
   "outputs": [
    {
     "name": "stdout",
     "output_type": "stream",
     "text": [
      "CPU times: user 12 ms, sys: 0 ns, total: 12 ms\n",
      "Wall time: 9.26 ms\n",
      "(81306,)\n",
      "0\n"
     ]
    }
   ],
   "source": [
    "%time deg = np.array(facebook2.sum(axis=0))[0]\n",
    "\n",
    "print(deg.shape)\n",
    "print((deg == 0).sum())"
   ]
  },
  {
   "cell_type": "code",
   "execution_count": 10,
   "metadata": {
    "collapsed": false
   },
   "outputs": [
    {
     "data": {
      "text/plain": [
       "<81306x81306 sparse matrix of type '<class 'numpy.float32'>'\n",
       "\twith 2765898 stored elements in Compressed Sparse Row format>"
      ]
     },
     "execution_count": 10,
     "metadata": {},
     "output_type": "execute_result"
    }
   ],
   "source": [
    "L = diags(np.array(facebook2.sum(axis=0))[0]) - facebook2\n",
    "L = L.astype(np.float32)\n",
    "L"
   ]
  },
  {
   "cell_type": "code",
   "execution_count": 11,
   "metadata": {
    "collapsed": true
   },
   "outputs": [],
   "source": [
    "from scipy.sparse.linalg import eigsh"
   ]
  },
  {
   "cell_type": "code",
   "execution_count": 12,
   "metadata": {
    "collapsed": false
   },
   "outputs": [
    {
     "name": "stdout",
     "output_type": "stream",
     "text": [
      "2032 12\n",
      "CPU times: user 14min 37s, sys: 14.8 s, total: 14min 51s\n",
      "Wall time: 3min 43s\n"
     ]
    },
    {
     "data": {
      "text/plain": [
       "array([  2.47494827e-05,   4.87001538e-02,   5.00406809e-02,\n",
       "         9.00120884e-02,   1.08928800e-01,   1.35219052e-01,\n",
       "         1.55931577e-01,   1.68067649e-01,   1.83029979e-01,\n",
       "         1.83370933e-01,   1.85148627e-01,   2.13547707e-01], dtype=float32)"
      ]
     },
     "execution_count": 12,
     "metadata": {},
     "output_type": "execute_result"
    }
   ],
   "source": [
    "import os.path\n",
    "import pickle\n",
    "\n",
    "n_clusters = int(L.shape[0]/40) \n",
    "neig = 2 + int(np.log2(n_clusters))\n",
    "\n",
    "print(n_clusters, neig)\n",
    "\n",
    "f_vec = \"pkl/twitter_eigen_vec_%d.pkl\" % neig\n",
    "f_val = \"pkl/twitter_eigen_val_%d.pkl\" % neig\n",
    "\n",
    "if os.path.isfile(f_vec) and os.path.isfile(f_val):\n",
    "    \n",
    "    with open(f_vec, \"rb\") as f:\n",
    "        eigvec = pickle.load(f)\n",
    "    with open(f_val, \"rb\") as f:\n",
    "        eigval = pickle.load(f)\n",
    "    \n",
    "else:\n",
    "    %time eigval, eigvec = eigsh(L, neig, which='SM', tol=1e-3)\n",
    "    with open(\"pkl/twitter_eigen_vec.pkl\", \"wb\") as f:\n",
    "        pickle.dump(eigvec, f)\n",
    "    with open(\"pkl/twitter_eigen_val.pkl\", \"wb\") as f:\n",
    "        pickle.dump(eigval, f)\n",
    "# 15 min for 14 et 20...\n",
    "# 21 min for 12\n",
    "\n",
    "#%time eigval, eigvec = eigsh(L, neig, which='LM', tol=1e-2, sigma=0)\n",
    "# very very long! => SystemError: gstrf was called with invalid arguments\n",
    "\n",
    "eigval"
   ]
  },
  {
   "cell_type": "code",
   "execution_count": 13,
   "metadata": {
    "collapsed": false
   },
   "outputs": [
    {
     "data": {
      "text/plain": [
       "[<matplotlib.lines.Line2D at 0x7f3722e53be0>]"
      ]
     },
     "execution_count": 13,
     "metadata": {},
     "output_type": "execute_result"
    },
    {
     "data": {
      "image/png": "[encoded data removed]",
      "text/plain": [
       "<matplotlib.figure.Figure at 0x7f372670a160>"
      ]
     },
     "metadata": {},
     "output_type": "display_data"
    }
   ],
   "source": [
    "plt.plot(eigval)"
   ]
  },
  {
   "cell_type": "code",
   "execution_count": 14,
   "metadata": {
    "collapsed": false
   },
   "outputs": [
    {
     "name": "stdout",
     "output_type": "stream",
     "text": [
      "1723 79583\n"
     ]
    }
   ],
   "source": [
    "e1 = eigvec[:,1]\n",
    "print((e1>=0).sum(), (e1<0).sum())"
   ]
  },
  {
   "cell_type": "code",
   "execution_count": 15,
   "metadata": {
    "collapsed": false
   },
   "outputs": [
    {
     "name": "stdout",
     "output_type": "stream",
     "text": [
      "(2, 81306)\n"
     ]
    },
    {
     "data": {
      "text/plain": [
       "<matplotlib.collections.PathCollection at 0x7f3722dfa898>"
      ]
     },
     "execution_count": 15,
     "metadata": {},
     "output_type": "execute_result"
    },
    {
     "data": {
      "image/png": "[encoded data removed]",
      "text/plain": [
       "<matplotlib.figure.Figure at 0x7f3722e5e780>"
      ]
     },
     "metadata": {},
     "output_type": "display_data"
    }
   ],
   "source": [
    "proj = eigvec[:, 1:3].T\n",
    "print(proj.shape)\n",
    "\n",
    "pylab.rcParams['figure.figsize'] = (12.0, 8.0)\n",
    "\n",
    "plt.scatter(proj[0], proj[1])"
   ]
  },
  {
   "cell_type": "markdown",
   "metadata": {},
   "source": [
    "## kmeans clustering"
   ]
  },
  {
   "cell_type": "code",
   "execution_count": 16,
   "metadata": {
    "collapsed": false
   },
   "outputs": [
    {
     "name": "stdout",
     "output_type": "stream",
     "text": [
      "(81306, 2)\n",
      "CPU times: user 428 ms, sys: 20 ms, total: 448 ms\n",
      "Wall time: 114 ms\n",
      "4\n",
      "[[-0.00011169 -0.01106782  0.09807468  0.07607216]\n",
      " [-0.00012992  0.10417831  0.01030017  0.00796127]]\n"
     ]
    },
    {
     "data": {
      "image/png": "[encoded data removed]",
      "text/plain": [
       "<matplotlib.figure.Figure at 0x7f3722dcd208>"
      ]
     },
     "metadata": {},
     "output_type": "display_data"
    }
   ],
   "source": [
    "from sklearn.cluster import KMeans, AgglomerativeClustering, DBSCAN\n",
    "\n",
    "n_clusters = 4\n",
    "\n",
    "clf = KMeans(init='k-means++', n_clusters=n_clusters, n_init=10)\n",
    "#clf = AgglomerativeClustering(n_clusters = n_clusters)\n",
    "# clf = DBSCAN(eps = 0.005)\n",
    "\n",
    "print(proj.T.shape)\n",
    "\n",
    "%time clusters = clf.fit_predict(proj.T)\n",
    "\n",
    "print(len(np.unique(clusters)))\n",
    "\n",
    "plt.scatter(proj[0], proj[1], c=clusters)\n",
    "\n",
    "if \"cluster_centers_\" in clf.__dict__:\n",
    "    centers = clf.cluster_centers_.T\n",
    "    print(centers)\n",
    "    plt.scatter(centers[0], centers[1], marker='*', s=200, c='black')"
   ]
  },
  {
   "cell_type": "markdown",
   "metadata": {},
   "source": [
    "### Clustering plus poussé\n",
    "**Attention:** ici nous normalisons les vecteurs propres.\n",
    "Cela fait deux différences avec l'algorithme standard de spectral clustering\n",
    "- normalisation vecteurs propres vs pas normalisation => je retire la normalisation\n",
    "- 2^k-means sur k vecteurs propres contre k-means sur k vecteurs => je diminue le nombre de clusters"
   ]
  },
  {
   "cell_type": "code",
   "execution_count": 17,
   "metadata": {
    "collapsed": false
   },
   "outputs": [
    {
     "name": "stdout",
     "output_type": "stream",
     "text": [
      "[ 0.00348853 -0.01107709 -0.00038694 -0.09664353 -0.08096127 -0.00064347\n",
      " -0.07495229 -0.16103163 -0.03735074 -0.04098563 -0.12456457 -0.1076628 ] [ 0.00352342  0.10030194  0.10423686  0.00039867  0.00089343  0.17268717\n",
      "  0.00286113  0.00133372  0.07937389  0.14963666  0.00261943  0.01189978] [  3.50707979e-03   1.66050825e-07   1.16403749e-08  -2.95510745e-07\n",
      "  -6.83821554e-07  -1.69534484e-08  -1.73607347e-07  -1.29998639e-07\n",
      "  -1.82719106e-07   1.80530094e-07   4.67139841e-07   3.78603062e-07]\n",
      "[  2.86606289e+04   8.97835159e+00   9.55805397e+00   1.03047953e+01\n",
      "   1.22167692e+01   5.76932049e+00   1.28512526e+01   6.15894985e+00\n",
      "   8.56717205e+00   5.24597645e+00   7.86262417e+00   8.36382103e+00]\n"
     ]
    }
   ],
   "source": [
    "print(eigvec.min(axis=0), eigvec.max(axis=0), eigvec.mean(axis=0))\n",
    "print(1/(eigvec.max(axis=0) - eigvec.min(axis=0)))"
   ]
  },
  {
   "cell_type": "code",
   "execution_count": 18,
   "metadata": {
    "collapsed": false
   },
   "outputs": [
    {
     "name": "stdout",
     "output_type": "stream",
     "text": [
      "(81306, 12) (81306, 12)\n",
      "[ 0.53176141  0.09945546  0.00369854  0.99588877  0.98907685  0.00371228\n",
      "  0.96322864  0.99178487  0.3199887   0.21501061  0.97940803  0.9004755 ]\n"
     ]
    }
   ],
   "source": [
    "eigvec_n = (eigvec-eigvec.min(axis=0)) / (eigvec.max(axis=0) - eigvec.min(axis=0))\n",
    "print(eigvec_n.shape, eigvec.shape)\n",
    "print(eigvec_n.mean(axis=0))"
   ]
  },
  {
   "cell_type": "code",
   "execution_count": 19,
   "metadata": {
    "collapsed": false,
    "scrolled": false
   },
   "outputs": [
    {
     "name": "stdout",
     "output_type": "stream",
     "text": [
      "n_clusters = 813\n",
      "(81306, 11)\n"
     ]
    },
    {
     "name": "stderr",
     "output_type": "stream",
     "text": [
      "/home/yannick/bin/anaconda3/envs/py35/lib/python3.5/site-packages/sklearn/externals/joblib/hashing.py:197: DeprecationWarning: Changing the shape of non-C contiguous array by\n",
      "descriptor assignment is deprecated. To maintain\n",
      "the Fortran contiguity of a multidimensional Fortran\n",
      "array, use 'a.T.view(...).T' instead\n",
      "  obj_bytes_view = obj.view(self.np.uint8)\n",
      "/home/yannick/bin/anaconda3/envs/py35/lib/python3.5/site-packages/sklearn/externals/joblib/hashing.py:197: DeprecationWarning: Changing the shape of non-C contiguous array by\n",
      "descriptor assignment is deprecated. To maintain\n",
      "the Fortran contiguity of a multidimensional Fortran\n",
      "array, use 'a.T.view(...).T' instead\n",
      "  obj_bytes_view = obj.view(self.np.uint8)\n",
      "/home/yannick/bin/anaconda3/envs/py35/lib/python3.5/site-packages/sklearn/externals/joblib/hashing.py:197: DeprecationWarning: Changing the shape of non-C contiguous array by\n",
      "descriptor assignment is deprecated. To maintain\n",
      "the Fortran contiguity of a multidimensional Fortran\n",
      "array, use 'a.T.view(...).T' instead\n",
      "  obj_bytes_view = obj.view(self.np.uint8)\n",
      "/home/yannick/bin/anaconda3/envs/py35/lib/python3.5/site-packages/sklearn/externals/joblib/hashing.py:197: DeprecationWarning: Changing the shape of non-C contiguous array by\n",
      "descriptor assignment is deprecated. To maintain\n",
      "the Fortran contiguity of a multidimensional Fortran\n",
      "array, use 'a.T.view(...).T' instead\n",
      "  obj_bytes_view = obj.view(self.np.uint8)\n",
      "/home/yannick/bin/anaconda3/envs/py35/lib/python3.5/site-packages/sklearn/externals/joblib/hashing.py:197: DeprecationWarning: Changing the shape of non-C contiguous array by\n",
      "descriptor assignment is deprecated. To maintain\n",
      "the Fortran contiguity of a multidimensional Fortran\n",
      "array, use 'a.T.view(...).T' instead\n",
      "  obj_bytes_view = obj.view(self.np.uint8)\n",
      "/home/yannick/bin/anaconda3/envs/py35/lib/python3.5/site-packages/sklearn/externals/joblib/hashing.py:197: DeprecationWarning: Changing the shape of non-C contiguous array by\n",
      "descriptor assignment is deprecated. To maintain\n",
      "the Fortran contiguity of a multidimensional Fortran\n",
      "array, use 'a.T.view(...).T' instead\n",
      "  obj_bytes_view = obj.view(self.np.uint8)\n",
      "/home/yannick/bin/anaconda3/envs/py35/lib/python3.5/site-packages/sklearn/externals/joblib/hashing.py:197: DeprecationWarning: Changing the shape of non-C contiguous array by\n",
      "descriptor assignment is deprecated. To maintain\n",
      "the Fortran contiguity of a multidimensional Fortran\n",
      "array, use 'a.T.view(...).T' instead\n",
      "  obj_bytes_view = obj.view(self.np.uint8)\n",
      "/home/yannick/bin/anaconda3/envs/py35/lib/python3.5/site-packages/sklearn/externals/joblib/hashing.py:197: DeprecationWarning: Changing the shape of non-C contiguous array by\n",
      "descriptor assignment is deprecated. To maintain\n",
      "the Fortran contiguity of a multidimensional Fortran\n",
      "array, use 'a.T.view(...).T' instead\n",
      "  obj_bytes_view = obj.view(self.np.uint8)\n",
      "/home/yannick/bin/anaconda3/envs/py35/lib/python3.5/site-packages/sklearn/externals/joblib/hashing.py:197: DeprecationWarning: Changing the shape of non-C contiguous array by\n",
      "descriptor assignment is deprecated. To maintain\n",
      "the Fortran contiguity of a multidimensional Fortran\n",
      "array, use 'a.T.view(...).T' instead\n",
      "  obj_bytes_view = obj.view(self.np.uint8)\n",
      "/home/yannick/bin/anaconda3/envs/py35/lib/python3.5/site-packages/sklearn/externals/joblib/hashing.py:197: DeprecationWarning: Changing the shape of non-C contiguous array by\n",
      "descriptor assignment is deprecated. To maintain\n",
      "the Fortran contiguity of a multidimensional Fortran\n",
      "array, use 'a.T.view(...).T' instead\n",
      "  obj_bytes_view = obj.view(self.np.uint8)\n"
     ]
    },
    {
     "name": "stdout",
     "output_type": "stream",
     "text": [
      "CPU times: user 288 ms, sys: 40 ms, total: 328 ms\n",
      "Wall time: 1min 35s\n",
      "813\n"
     ]
    },
    {
     "data": {
      "image/png": "[encoded data removed]",
      "text/plain": [
       "<matplotlib.figure.Figure at 0x7f3722db0320>"
      ]
     },
     "metadata": {},
     "output_type": "display_data"
    }
   ],
   "source": [
    "#n_clusters = int(v/40)\n",
    "n_clusters = int(v/100)\n",
    "print(\"n_clusters = %d\" % n_clusters)\n",
    "\n",
    "clf = KMeans(init='k-means++', n_clusters=n_clusters, n_init=10, n_jobs=4)\n",
    "#clf = AgglomerativeClustering(n_clusters = n_clusters)\n",
    "#clf = DBSCAN(eps = 0.0005)\n",
    "\n",
    "#X = eigvec_n[:,1:]\n",
    "X = eigvec[:,1:]\n",
    "\n",
    "print(X.shape)\n",
    "%time clusters = clf.fit_predict(X)\n",
    "print(len(np.unique(clusters)))\n",
    "\n",
    "plt.scatter(X[:,0], X[:,1], c=clusters)\n",
    "\n",
    "if \"cluster_centers_\" in clf.__dict__:\n",
    "    centers = clf.cluster_centers_.T\n",
    "    # print(centers)\n",
    "    plt.scatter(centers[0], centers[1], marker='*', s=200, c='black')"
   ]
  },
  {
   "cell_type": "markdown",
   "metadata": {},
   "source": [
    "## display clustered graphs"
   ]
  },
  {
   "cell_type": "code",
   "execution_count": 20,
   "metadata": {
    "collapsed": false
   },
   "outputs": [
    {
     "data": {
      "text/plain": [
       "<matplotlib.axes._subplots.AxesSubplot at 0x7f372670ae10>"
      ]
     },
     "execution_count": 20,
     "metadata": {},
     "output_type": "execute_result"
    },
    {
     "data": {
      "image/png": "[encoded data removed]",
      "text/plain": [
       "<matplotlib.figure.Figure at 0x7f3722d71278>"
      ]
     },
     "metadata": {},
     "output_type": "display_data"
    }
   ],
   "source": [
    "vc = pd.Series(clusters).value_counts()\n",
    "vc.hist(bins=100)"
   ]
  },
  {
   "cell_type": "markdown",
   "metadata": {},
   "source": [
    "Un paradoxe: je réduis le nombre de clusters et j'ai plus de clusters de taille 1..."
   ]
  },
  {
   "cell_type": "code",
   "execution_count": 21,
   "metadata": {
    "collapsed": false
   },
   "outputs": [
    {
     "data": {
      "text/plain": [
       "cnt\n",
       "1       166\n",
       "2        77\n",
       "3        50\n",
       "4        35\n",
       "5        33\n",
       "6        24\n",
       "7        19\n",
       "8        11\n",
       "9        16\n",
       "10       11\n",
       "11       12\n",
       "12        3\n",
       "13        6\n",
       "14        8\n",
       "15        5\n",
       "16        6\n",
       "17        8\n",
       "18        6\n",
       "19       10\n",
       "20        6\n",
       "21        5\n",
       "22        2\n",
       "23        1\n",
       "24        7\n",
       "25        4\n",
       "26        3\n",
       "27        4\n",
       "28        4\n",
       "29        4\n",
       "30        2\n",
       "       ... \n",
       "673       1\n",
       "690       1\n",
       "707       1\n",
       "709       1\n",
       "715       1\n",
       "733       1\n",
       "752       1\n",
       "810       1\n",
       "839       1\n",
       "855       1\n",
       "874       1\n",
       "876       1\n",
       "949       1\n",
       "997       1\n",
       "1003      1\n",
       "1039      1\n",
       "1043      1\n",
       "1244      1\n",
       "1297      1\n",
       "1376      1\n",
       "1438      1\n",
       "1513      1\n",
       "1740      1\n",
       "1801      1\n",
       "1882      1\n",
       "2069      1\n",
       "2100      1\n",
       "2232      1\n",
       "2334      1\n",
       "2396      1\n",
       "dtype: int64"
      ]
     },
     "execution_count": 21,
     "metadata": {},
     "output_type": "execute_result"
    }
   ],
   "source": [
    "pd.DataFrame({'cnt': vc}).groupby([\"cnt\"]).size()"
   ]
  },
  {
   "cell_type": "code",
   "execution_count": 22,
   "metadata": {
    "collapsed": false
   },
   "outputs": [
    {
     "name": "stdout",
     "output_type": "stream",
     "text": [
      "CPU times: user 26 s, sys: 292 ms, total: 26.3 s\n",
      "Wall time: 26.3 s\n"
     ]
    },
    {
     "data": {
      "text/plain": [
       "<networkx.classes.graph.Graph at 0x7f37210d9588>"
      ]
     },
     "execution_count": 22,
     "metadata": {},
     "output_type": "execute_result"
    }
   ],
   "source": [
    "import networkx as nx\n",
    "\n",
    "%time g = nx.Graph(list(df.to_records(index=False)))\n",
    "g"
   ]
  },
  {
   "cell_type": "code",
   "execution_count": 23,
   "metadata": {
    "collapsed": false
   },
   "outputs": [
    {
     "name": "stdout",
     "output_type": "stream",
     "text": [
      "Cluster #62 is of size 174\n",
      "pseudo-degree of cluster is 174\n"
     ]
    },
    {
     "data": {
      "image/png": "[encoded data removed]",
      "text/plain": [
       "<matplotlib.figure.Figure at 0x7f3720a881d0>"
      ]
     },
     "metadata": {},
     "output_type": "display_data"
    }
   ],
   "source": [
    "from IPython.html.widgets import interact\n",
    "import gmet\n",
    "import graph_helpers\n",
    "\n",
    "@interact\n",
    "def plot(cl = ('5', '6', '7', '8', '10', '20', '30', '27', '215', '42', '1150', '449', '62'), \n",
    "         degree=(\"0\", \"1\", \"2\"), layout=(\"spring\", \"std\", \"spectral\")):\n",
    "    cl = int(cl)\n",
    "    print(\"Cluster #%d is of size %d\" % (cl, (clusters == cl).sum()))\n",
    "    \n",
    "    print(\"pseudo-degree of cluster is %d\" % gmet.group_edge_degree(facebook2, clusters == cl))\n",
    "    \n",
    "    graph_helpers.plot_subgraph_links(facebook2, clusters == cl, int(degree), layout=layout, graph=g)"
   ]
  },
  {
   "cell_type": "code",
   "execution_count": 24,
   "metadata": {
    "collapsed": false,
    "scrolled": false
   },
   "outputs": [
    {
     "name": "stdout",
     "output_type": "stream",
     "text": [
      "165 1\n",
      "81\n",
      "7\n"
     ]
    },
    {
     "data": {
      "text/html": [
       "<div>\n",
       "<table border=\"1\" class=\"dataframe\">\n",
       "  <thead>\n",
       "    <tr style=\"text-align: right;\">\n",
       "      <th></th>\n",
       "      <th>0</th>\n",
       "      <th>1</th>\n",
       "    </tr>\n",
       "  </thead>\n",
       "  <tbody>\n",
       "    <tr>\n",
       "      <th>1933521</th>\n",
       "      <td>73635</td>\n",
       "      <td>14282</td>\n",
       "    </tr>\n",
       "    <tr>\n",
       "      <th>1934780</th>\n",
       "      <td>73635</td>\n",
       "      <td>67693</td>\n",
       "    </tr>\n",
       "    <tr>\n",
       "      <th>1935100</th>\n",
       "      <td>42764</td>\n",
       "      <td>73635</td>\n",
       "    </tr>\n",
       "    <tr>\n",
       "      <th>1935263</th>\n",
       "      <td>67693</td>\n",
       "      <td>73635</td>\n",
       "    </tr>\n",
       "    <tr>\n",
       "      <th>1935400</th>\n",
       "      <td>14282</td>\n",
       "      <td>73635</td>\n",
       "    </tr>\n",
       "    <tr>\n",
       "      <th>2136344</th>\n",
       "      <td>48745</td>\n",
       "      <td>73635</td>\n",
       "    </tr>\n",
       "    <tr>\n",
       "      <th>2136968</th>\n",
       "      <td>73635</td>\n",
       "      <td>48745</td>\n",
       "    </tr>\n",
       "    <tr>\n",
       "      <th>2137634</th>\n",
       "      <td>73635</td>\n",
       "      <td>28774</td>\n",
       "    </tr>\n",
       "    <tr>\n",
       "      <th>2137936</th>\n",
       "      <td>62869</td>\n",
       "      <td>73635</td>\n",
       "    </tr>\n",
       "    <tr>\n",
       "      <th>2138123</th>\n",
       "      <td>73635</td>\n",
       "      <td>62869</td>\n",
       "    </tr>\n",
       "    <tr>\n",
       "      <th>2377871</th>\n",
       "      <td>73635</td>\n",
       "      <td>79605</td>\n",
       "    </tr>\n",
       "    <tr>\n",
       "      <th>2377872</th>\n",
       "      <td>73635</td>\n",
       "      <td>79920</td>\n",
       "    </tr>\n",
       "    <tr>\n",
       "      <th>2377873</th>\n",
       "      <td>73635</td>\n",
       "      <td>74652</td>\n",
       "    </tr>\n",
       "    <tr>\n",
       "      <th>2377874</th>\n",
       "      <td>73635</td>\n",
       "      <td>76423</td>\n",
       "    </tr>\n",
       "    <tr>\n",
       "      <th>2377875</th>\n",
       "      <td>73635</td>\n",
       "      <td>77669</td>\n",
       "    </tr>\n",
       "    <tr>\n",
       "      <th>2377876</th>\n",
       "      <td>73635</td>\n",
       "      <td>73218</td>\n",
       "    </tr>\n",
       "    <tr>\n",
       "      <th>2377877</th>\n",
       "      <td>73635</td>\n",
       "      <td>67693</td>\n",
       "    </tr>\n",
       "    <tr>\n",
       "      <th>2377878</th>\n",
       "      <td>73635</td>\n",
       "      <td>62037</td>\n",
       "    </tr>\n",
       "    <tr>\n",
       "      <th>2377879</th>\n",
       "      <td>73635</td>\n",
       "      <td>69942</td>\n",
       "    </tr>\n",
       "    <tr>\n",
       "      <th>2377880</th>\n",
       "      <td>73635</td>\n",
       "      <td>76031</td>\n",
       "    </tr>\n",
       "    <tr>\n",
       "      <th>2377881</th>\n",
       "      <td>73635</td>\n",
       "      <td>72958</td>\n",
       "    </tr>\n",
       "    <tr>\n",
       "      <th>2377882</th>\n",
       "      <td>73635</td>\n",
       "      <td>74962</td>\n",
       "    </tr>\n",
       "    <tr>\n",
       "      <th>2377883</th>\n",
       "      <td>73635</td>\n",
       "      <td>79418</td>\n",
       "    </tr>\n",
       "    <tr>\n",
       "      <th>2377884</th>\n",
       "      <td>73635</td>\n",
       "      <td>50374</td>\n",
       "    </tr>\n",
       "    <tr>\n",
       "      <th>2377885</th>\n",
       "      <td>73635</td>\n",
       "      <td>68919</td>\n",
       "    </tr>\n",
       "    <tr>\n",
       "      <th>2377886</th>\n",
       "      <td>73635</td>\n",
       "      <td>76011</td>\n",
       "    </tr>\n",
       "    <tr>\n",
       "      <th>2377887</th>\n",
       "      <td>73635</td>\n",
       "      <td>66799</td>\n",
       "    </tr>\n",
       "    <tr>\n",
       "      <th>2377888</th>\n",
       "      <td>73635</td>\n",
       "      <td>76682</td>\n",
       "    </tr>\n",
       "    <tr>\n",
       "      <th>2377889</th>\n",
       "      <td>73635</td>\n",
       "      <td>73091</td>\n",
       "    </tr>\n",
       "    <tr>\n",
       "      <th>2377890</th>\n",
       "      <td>73635</td>\n",
       "      <td>79548</td>\n",
       "    </tr>\n",
       "    <tr>\n",
       "      <th>...</th>\n",
       "      <td>...</td>\n",
       "      <td>...</td>\n",
       "    </tr>\n",
       "    <tr>\n",
       "      <th>2377919</th>\n",
       "      <td>73635</td>\n",
       "      <td>58414</td>\n",
       "    </tr>\n",
       "    <tr>\n",
       "      <th>2377920</th>\n",
       "      <td>73635</td>\n",
       "      <td>75400</td>\n",
       "    </tr>\n",
       "    <tr>\n",
       "      <th>2377921</th>\n",
       "      <td>73635</td>\n",
       "      <td>66257</td>\n",
       "    </tr>\n",
       "    <tr>\n",
       "      <th>2377922</th>\n",
       "      <td>73635</td>\n",
       "      <td>71165</td>\n",
       "    </tr>\n",
       "    <tr>\n",
       "      <th>2377923</th>\n",
       "      <td>73635</td>\n",
       "      <td>54444</td>\n",
       "    </tr>\n",
       "    <tr>\n",
       "      <th>2377924</th>\n",
       "      <td>73635</td>\n",
       "      <td>60423</td>\n",
       "    </tr>\n",
       "    <tr>\n",
       "      <th>2377925</th>\n",
       "      <td>73635</td>\n",
       "      <td>77463</td>\n",
       "    </tr>\n",
       "    <tr>\n",
       "      <th>2377926</th>\n",
       "      <td>73635</td>\n",
       "      <td>61758</td>\n",
       "    </tr>\n",
       "    <tr>\n",
       "      <th>2377927</th>\n",
       "      <td>73635</td>\n",
       "      <td>47315</td>\n",
       "    </tr>\n",
       "    <tr>\n",
       "      <th>2377928</th>\n",
       "      <td>73635</td>\n",
       "      <td>72114</td>\n",
       "    </tr>\n",
       "    <tr>\n",
       "      <th>2377929</th>\n",
       "      <td>73635</td>\n",
       "      <td>58724</td>\n",
       "    </tr>\n",
       "    <tr>\n",
       "      <th>2377930</th>\n",
       "      <td>73635</td>\n",
       "      <td>52622</td>\n",
       "    </tr>\n",
       "    <tr>\n",
       "      <th>2377931</th>\n",
       "      <td>73635</td>\n",
       "      <td>55088</td>\n",
       "    </tr>\n",
       "    <tr>\n",
       "      <th>2377932</th>\n",
       "      <td>73635</td>\n",
       "      <td>41760</td>\n",
       "    </tr>\n",
       "    <tr>\n",
       "      <th>2377933</th>\n",
       "      <td>73635</td>\n",
       "      <td>71034</td>\n",
       "    </tr>\n",
       "    <tr>\n",
       "      <th>2377934</th>\n",
       "      <td>73635</td>\n",
       "      <td>80348</td>\n",
       "    </tr>\n",
       "    <tr>\n",
       "      <th>2377935</th>\n",
       "      <td>73635</td>\n",
       "      <td>81200</td>\n",
       "    </tr>\n",
       "    <tr>\n",
       "      <th>2377936</th>\n",
       "      <td>73635</td>\n",
       "      <td>65364</td>\n",
       "    </tr>\n",
       "    <tr>\n",
       "      <th>2377937</th>\n",
       "      <td>73635</td>\n",
       "      <td>60494</td>\n",
       "    </tr>\n",
       "    <tr>\n",
       "      <th>2377938</th>\n",
       "      <td>73635</td>\n",
       "      <td>77308</td>\n",
       "    </tr>\n",
       "    <tr>\n",
       "      <th>2377939</th>\n",
       "      <td>73635</td>\n",
       "      <td>62869</td>\n",
       "    </tr>\n",
       "    <tr>\n",
       "      <th>2377940</th>\n",
       "      <td>73635</td>\n",
       "      <td>73431</td>\n",
       "    </tr>\n",
       "    <tr>\n",
       "      <th>2377941</th>\n",
       "      <td>73635</td>\n",
       "      <td>39459</td>\n",
       "    </tr>\n",
       "    <tr>\n",
       "      <th>2377942</th>\n",
       "      <td>73635</td>\n",
       "      <td>67958</td>\n",
       "    </tr>\n",
       "    <tr>\n",
       "      <th>2377943</th>\n",
       "      <td>73635</td>\n",
       "      <td>60836</td>\n",
       "    </tr>\n",
       "    <tr>\n",
       "      <th>2377944</th>\n",
       "      <td>73635</td>\n",
       "      <td>35397</td>\n",
       "    </tr>\n",
       "    <tr>\n",
       "      <th>2377945</th>\n",
       "      <td>73635</td>\n",
       "      <td>28774</td>\n",
       "    </tr>\n",
       "    <tr>\n",
       "      <th>2377946</th>\n",
       "      <td>73635</td>\n",
       "      <td>44490</td>\n",
       "    </tr>\n",
       "    <tr>\n",
       "      <th>2399677</th>\n",
       "      <td>42532</td>\n",
       "      <td>73635</td>\n",
       "    </tr>\n",
       "    <tr>\n",
       "      <th>2412277</th>\n",
       "      <td>47315</td>\n",
       "      <td>73635</td>\n",
       "    </tr>\n",
       "  </tbody>\n",
       "</table>\n",
       "<p>88 rows × 2 columns</p>\n",
       "</div>"
      ],
      "text/plain": [
       "             0      1\n",
       "1933521  73635  14282\n",
       "1934780  73635  67693\n",
       "1935100  42764  73635\n",
       "1935263  67693  73635\n",
       "1935400  14282  73635\n",
       "2136344  48745  73635\n",
       "2136968  73635  48745\n",
       "2137634  73635  28774\n",
       "2137936  62869  73635\n",
       "2138123  73635  62869\n",
       "2377871  73635  79605\n",
       "2377872  73635  79920\n",
       "2377873  73635  74652\n",
       "2377874  73635  76423\n",
       "2377875  73635  77669\n",
       "2377876  73635  73218\n",
       "2377877  73635  67693\n",
       "2377878  73635  62037\n",
       "2377879  73635  69942\n",
       "2377880  73635  76031\n",
       "2377881  73635  72958\n",
       "2377882  73635  74962\n",
       "2377883  73635  79418\n",
       "2377884  73635  50374\n",
       "2377885  73635  68919\n",
       "2377886  73635  76011\n",
       "2377887  73635  66799\n",
       "2377888  73635  76682\n",
       "2377889  73635  73091\n",
       "2377890  73635  79548\n",
       "...        ...    ...\n",
       "2377919  73635  58414\n",
       "2377920  73635  75400\n",
       "2377921  73635  66257\n",
       "2377922  73635  71165\n",
       "2377923  73635  54444\n",
       "2377924  73635  60423\n",
       "2377925  73635  77463\n",
       "2377926  73635  61758\n",
       "2377927  73635  47315\n",
       "2377928  73635  72114\n",
       "2377929  73635  58724\n",
       "2377930  73635  52622\n",
       "2377931  73635  55088\n",
       "2377932  73635  41760\n",
       "2377933  73635  71034\n",
       "2377934  73635  80348\n",
       "2377935  73635  81200\n",
       "2377936  73635  65364\n",
       "2377937  73635  60494\n",
       "2377938  73635  77308\n",
       "2377939  73635  62869\n",
       "2377940  73635  73431\n",
       "2377941  73635  39459\n",
       "2377942  73635  67958\n",
       "2377943  73635  60836\n",
       "2377944  73635  35397\n",
       "2377945  73635  28774\n",
       "2377946  73635  44490\n",
       "2399677  42532  73635\n",
       "2412277  47315  73635\n",
       "\n",
       "[88 rows x 2 columns]"
      ]
     },
     "execution_count": 24,
     "metadata": {},
     "output_type": "execute_result"
    }
   ],
   "source": [
    "n = 73635\n",
    "\n",
    "print((clusters[n]), (clusters == clusters[n]).sum())\n",
    "print((df[\"0\"] == n).sum())\n",
    "print((df[\"1\"] == n).sum())\n",
    "df[(df[\"1\"] == n) | (df[\"0\"] == n)]"
   ]
  },
  {
   "cell_type": "code",
   "execution_count": 25,
   "metadata": {
    "collapsed": false
   },
   "outputs": [
    {
     "data": {
      "text/html": [
       "<div>\n",
       "<table border=\"1\" class=\"dataframe\">\n",
       "  <thead>\n",
       "    <tr style=\"text-align: right;\">\n",
       "      <th></th>\n",
       "      <th>0</th>\n",
       "      <th>1</th>\n",
       "    </tr>\n",
       "  </thead>\n",
       "  <tbody>\n",
       "    <tr>\n",
       "      <th>0</th>\n",
       "      <td>64848</td>\n",
       "      <td>33444</td>\n",
       "    </tr>\n",
       "    <tr>\n",
       "      <th>1</th>\n",
       "      <td>15266</td>\n",
       "      <td>30189</td>\n",
       "    </tr>\n",
       "    <tr>\n",
       "      <th>2</th>\n",
       "      <td>76829</td>\n",
       "      <td>19302</td>\n",
       "    </tr>\n",
       "    <tr>\n",
       "      <th>3</th>\n",
       "      <td>65515</td>\n",
       "      <td>58679</td>\n",
       "    </tr>\n",
       "    <tr>\n",
       "      <th>4</th>\n",
       "      <td>52420</td>\n",
       "      <td>16766</td>\n",
       "    </tr>\n",
       "  </tbody>\n",
       "</table>\n",
       "</div>"
      ],
      "text/plain": [
       "       0      1\n",
       "0  64848  33444\n",
       "1  15266  30189\n",
       "2  76829  19302\n",
       "3  65515  58679\n",
       "4  52420  16766"
      ]
     },
     "execution_count": 25,
     "metadata": {},
     "output_type": "execute_result"
    }
   ],
   "source": [
    "df.head()"
   ]
  },
  {
   "cell_type": "code",
   "execution_count": 26,
   "metadata": {
    "collapsed": false
   },
   "outputs": [
    {
     "name": "stdout",
     "output_type": "stream",
     "text": [
      "CPU times: user 37 s, sys: 0 ns, total: 37 s\n",
      "Wall time: 37 s\n",
      "count      813.000000\n",
      "mean       427.806888\n",
      "std       1259.978184\n",
      "min          1.000000\n",
      "25%          9.000000\n",
      "50%         41.000000\n",
      "75%        199.000000\n",
      "max      11270.000000\n",
      "dtype: float64\n"
     ]
    },
    {
     "data": {
      "image/png": "[encoded data removed]",
      "text/plain": [
       "<matplotlib.figure.Figure at 0x7f37212f4f60>"
      ]
     },
     "metadata": {},
     "output_type": "display_data"
    }
   ],
   "source": [
    "from gmet import group_vertex_degree, group_edge_degree\n",
    "\n",
    "%time all_degs = [group_vertex_degree(facebook2, clusters == i) for i in range(n_clusters)]\n",
    "\n",
    "print(pd.Series(all_degs).describe())\n",
    "_ = plt.hist(all_degs, bins=100)\n",
    "plt.yscale(\"log\")"
   ]
  },
  {
   "cell_type": "markdown",
   "metadata": {},
   "source": [
    "### Optimisation à faire\n",
    "Il faudrait optimiser le calcul des deux \"degrés\" en le faisant en masse par un big produit matriciel"
   ]
  },
  {
   "cell_type": "markdown",
   "metadata": {},
   "source": [
    "### Compléments à faire\n",
    "- implémenter d'autres métriques (cf littérature) comme le RatioCut = sigma cuts / taille et Ncut = sigma cuts / vol\n",
    "- remettre en non normalisé!\n",
    "- diminuer le k du k-means"
   ]
  },
  {
   "cell_type": "code",
   "execution_count": 27,
   "metadata": {
    "collapsed": false
   },
   "outputs": [
    {
     "name": "stdout",
     "output_type": "stream",
     "text": [
      "CPU times: user 1min 15s, sys: 4 ms, total: 1min 15s\n",
      "Wall time: 1min 15s\n"
     ]
    },
    {
     "data": {
      "text/html": [
       "<div>\n",
       "<table border=\"1\" class=\"dataframe\">\n",
       "  <thead>\n",
       "    <tr style=\"text-align: right;\">\n",
       "      <th></th>\n",
       "      <th>edeg</th>\n",
       "      <th>sz</th>\n",
       "      <th>vdeg</th>\n",
       "      <th>vratio</th>\n",
       "      <th>eratio</th>\n",
       "    </tr>\n",
       "  </thead>\n",
       "  <tbody>\n",
       "    <tr>\n",
       "      <th>count</th>\n",
       "      <td>813.000000</td>\n",
       "      <td>813.000000</td>\n",
       "      <td>813.000000</td>\n",
       "      <td>813.000000</td>\n",
       "      <td>813.000000</td>\n",
       "    </tr>\n",
       "    <tr>\n",
       "      <th>mean</th>\n",
       "      <td>1454.103321</td>\n",
       "      <td>100.007380</td>\n",
       "      <td>427.806888</td>\n",
       "      <td>8.449642</td>\n",
       "      <td>12.961859</td>\n",
       "    </tr>\n",
       "    <tr>\n",
       "      <th>std</th>\n",
       "      <td>5700.719182</td>\n",
       "      <td>272.565335</td>\n",
       "      <td>1259.978184</td>\n",
       "      <td>13.994278</td>\n",
       "      <td>16.056136</td>\n",
       "    </tr>\n",
       "    <tr>\n",
       "      <th>min</th>\n",
       "      <td>2.000000</td>\n",
       "      <td>1.000000</td>\n",
       "      <td>1.000000</td>\n",
       "      <td>0.011111</td>\n",
       "      <td>0.548387</td>\n",
       "    </tr>\n",
       "    <tr>\n",
       "      <th>25%</th>\n",
       "      <td>15.000000</td>\n",
       "      <td>2.000000</td>\n",
       "      <td>9.000000</td>\n",
       "      <td>2.083333</td>\n",
       "      <td>3.800000</td>\n",
       "    </tr>\n",
       "    <tr>\n",
       "      <th>50%</th>\n",
       "      <td>76.000000</td>\n",
       "      <td>8.000000</td>\n",
       "      <td>41.000000</td>\n",
       "      <td>4.927485</td>\n",
       "      <td>8.000000</td>\n",
       "    </tr>\n",
       "    <tr>\n",
       "      <th>75%</th>\n",
       "      <td>438.000000</td>\n",
       "      <td>59.000000</td>\n",
       "      <td>199.000000</td>\n",
       "      <td>9.301887</td>\n",
       "      <td>16.387097</td>\n",
       "    </tr>\n",
       "    <tr>\n",
       "      <th>max</th>\n",
       "      <td>77799.000000</td>\n",
       "      <td>2396.000000</td>\n",
       "      <td>11270.000000</td>\n",
       "      <td>219.000000</td>\n",
       "      <td>219.500000</td>\n",
       "    </tr>\n",
       "  </tbody>\n",
       "</table>\n",
       "</div>"
      ],
      "text/plain": [
       "               edeg           sz          vdeg      vratio      eratio\n",
       "count    813.000000   813.000000    813.000000  813.000000  813.000000\n",
       "mean    1454.103321   100.007380    427.806888    8.449642   12.961859\n",
       "std     5700.719182   272.565335   1259.978184   13.994278   16.056136\n",
       "min        2.000000     1.000000      1.000000    0.011111    0.548387\n",
       "25%       15.000000     2.000000      9.000000    2.083333    3.800000\n",
       "50%       76.000000     8.000000     41.000000    4.927485    8.000000\n",
       "75%      438.000000    59.000000    199.000000    9.301887   16.387097\n",
       "max    77799.000000  2396.000000  11270.000000  219.000000  219.500000"
      ]
     },
     "execution_count": 27,
     "metadata": {},
     "output_type": "execute_result"
    }
   ],
   "source": [
    "from gmet import group_vertex_degree, group_edge_degree\n",
    "\n",
    "%time metrics = pd.DataFrame({'sz': [(clusters == cl).sum() for cl in range(n_clusters)], \\\n",
    "                          'vdeg': [group_vertex_degree(facebook2, clusters == i) for i in range(n_clusters)], \\\n",
    "                          'edeg': [group_edge_degree(facebook2, clusters == i) for i in range(n_clusters)]})\n",
    "\n",
    "metrics[\"vratio\"] = metrics.vdeg / metrics.sz\n",
    "metrics[\"eratio\"] = metrics.edeg / metrics.sz\n",
    "\n",
    "metrics.describe()"
   ]
  },
  {
   "cell_type": "code",
   "execution_count": 28,
   "metadata": {
    "collapsed": false,
    "scrolled": false
   },
   "outputs": [
    {
     "data": {
      "text/html": [
       "<div>\n",
       "<table border=\"1\" class=\"dataframe\">\n",
       "  <thead>\n",
       "    <tr style=\"text-align: right;\">\n",
       "      <th></th>\n",
       "      <th>edeg</th>\n",
       "      <th>sz</th>\n",
       "      <th>vdeg</th>\n",
       "      <th>vratio</th>\n",
       "      <th>eratio</th>\n",
       "    </tr>\n",
       "  </thead>\n",
       "  <tbody>\n",
       "    <tr>\n",
       "      <th>count</th>\n",
       "      <td>56.000000</td>\n",
       "      <td>56.000000</td>\n",
       "      <td>56.000000</td>\n",
       "      <td>56.000000</td>\n",
       "      <td>56.000000</td>\n",
       "    </tr>\n",
       "    <tr>\n",
       "      <th>mean</th>\n",
       "      <td>77.017857</td>\n",
       "      <td>62.375000</td>\n",
       "      <td>16.821429</td>\n",
       "      <td>0.215042</td>\n",
       "      <td>1.194608</td>\n",
       "    </tr>\n",
       "    <tr>\n",
       "      <th>std</th>\n",
       "      <td>114.282662</td>\n",
       "      <td>77.933903</td>\n",
       "      <td>31.953436</td>\n",
       "      <td>0.126339</td>\n",
       "      <td>0.335897</td>\n",
       "    </tr>\n",
       "    <tr>\n",
       "      <th>min</th>\n",
       "      <td>3.000000</td>\n",
       "      <td>3.000000</td>\n",
       "      <td>1.000000</td>\n",
       "      <td>0.011111</td>\n",
       "      <td>0.548387</td>\n",
       "    </tr>\n",
       "    <tr>\n",
       "      <th>25%</th>\n",
       "      <td>18.500000</td>\n",
       "      <td>15.500000</td>\n",
       "      <td>1.000000</td>\n",
       "      <td>0.108333</td>\n",
       "      <td>1.000000</td>\n",
       "    </tr>\n",
       "    <tr>\n",
       "      <th>50%</th>\n",
       "      <td>35.500000</td>\n",
       "      <td>32.000000</td>\n",
       "      <td>4.000000</td>\n",
       "      <td>0.200000</td>\n",
       "      <td>1.082482</td>\n",
       "    </tr>\n",
       "    <tr>\n",
       "      <th>75%</th>\n",
       "      <td>88.500000</td>\n",
       "      <td>76.750000</td>\n",
       "      <td>14.000000</td>\n",
       "      <td>0.314103</td>\n",
       "      <td>1.345853</td>\n",
       "    </tr>\n",
       "    <tr>\n",
       "      <th>max</th>\n",
       "      <td>733.000000</td>\n",
       "      <td>433.000000</td>\n",
       "      <td>199.000000</td>\n",
       "      <td>0.467836</td>\n",
       "      <td>2.214286</td>\n",
       "    </tr>\n",
       "  </tbody>\n",
       "</table>\n",
       "</div>"
      ],
      "text/plain": [
       "             edeg          sz        vdeg     vratio     eratio\n",
       "count   56.000000   56.000000   56.000000  56.000000  56.000000\n",
       "mean    77.017857   62.375000   16.821429   0.215042   1.194608\n",
       "std    114.282662   77.933903   31.953436   0.126339   0.335897\n",
       "min      3.000000    3.000000    1.000000   0.011111   0.548387\n",
       "25%     18.500000   15.500000    1.000000   0.108333   1.000000\n",
       "50%     35.500000   32.000000    4.000000   0.200000   1.082482\n",
       "75%     88.500000   76.750000   14.000000   0.314103   1.345853\n",
       "max    733.000000  433.000000  199.000000   0.467836   2.214286"
      ]
     },
     "execution_count": 28,
     "metadata": {},
     "output_type": "execute_result"
    }
   ],
   "source": [
    "metrics[metrics.vratio < 0.5].describe()"
   ]
  },
  {
   "cell_type": "code",
   "execution_count": 29,
   "metadata": {
    "collapsed": false
   },
   "outputs": [
    {
     "name": "stderr",
     "output_type": "stream",
     "text": [
      "/home/yannick/bin/anaconda3/envs/py35/lib/python3.5/site-packages/ipykernel/__main__.py:1: UserWarning: Boolean Series key will be reindexed to match DataFrame index.\n",
      "  if __name__ == '__main__':\n"
     ]
    },
    {
     "data": {
      "text/html": [
       "<div>\n",
       "<table border=\"1\" class=\"dataframe\">\n",
       "  <thead>\n",
       "    <tr style=\"text-align: right;\">\n",
       "      <th></th>\n",
       "      <th>edeg</th>\n",
       "      <th>sz</th>\n",
       "      <th>vdeg</th>\n",
       "      <th>vratio</th>\n",
       "      <th>eratio</th>\n",
       "    </tr>\n",
       "  </thead>\n",
       "  <tbody>\n",
       "    <tr>\n",
       "      <th>count</th>\n",
       "      <td>36.000000</td>\n",
       "      <td>36.000000</td>\n",
       "      <td>36.000000</td>\n",
       "      <td>36.000000</td>\n",
       "      <td>36.000000</td>\n",
       "    </tr>\n",
       "    <tr>\n",
       "      <th>mean</th>\n",
       "      <td>24.027778</td>\n",
       "      <td>21.833333</td>\n",
       "      <td>2.805556</td>\n",
       "      <td>0.177134</td>\n",
       "      <td>1.159293</td>\n",
       "    </tr>\n",
       "    <tr>\n",
       "      <th>std</th>\n",
       "      <td>18.147784</td>\n",
       "      <td>17.693421</td>\n",
       "      <td>2.400231</td>\n",
       "      <td>0.115923</td>\n",
       "      <td>0.300279</td>\n",
       "    </tr>\n",
       "    <tr>\n",
       "      <th>min</th>\n",
       "      <td>3.000000</td>\n",
       "      <td>3.000000</td>\n",
       "      <td>1.000000</td>\n",
       "      <td>0.011111</td>\n",
       "      <td>0.548387</td>\n",
       "    </tr>\n",
       "    <tr>\n",
       "      <th>25%</th>\n",
       "      <td>10.000000</td>\n",
       "      <td>9.000000</td>\n",
       "      <td>1.000000</td>\n",
       "      <td>0.076389</td>\n",
       "      <td>1.000000</td>\n",
       "    </tr>\n",
       "    <tr>\n",
       "      <th>50%</th>\n",
       "      <td>20.000000</td>\n",
       "      <td>20.000000</td>\n",
       "      <td>2.000000</td>\n",
       "      <td>0.173950</td>\n",
       "      <td>1.051151</td>\n",
       "    </tr>\n",
       "    <tr>\n",
       "      <th>75%</th>\n",
       "      <td>33.500000</td>\n",
       "      <td>31.000000</td>\n",
       "      <td>3.000000</td>\n",
       "      <td>0.261730</td>\n",
       "      <td>1.229167</td>\n",
       "    </tr>\n",
       "    <tr>\n",
       "      <th>max</th>\n",
       "      <td>90.000000</td>\n",
       "      <td>90.000000</td>\n",
       "      <td>9.000000</td>\n",
       "      <td>0.400000</td>\n",
       "      <td>2.000000</td>\n",
       "    </tr>\n",
       "  </tbody>\n",
       "</table>\n",
       "</div>"
      ],
      "text/plain": [
       "            edeg         sz       vdeg     vratio     eratio\n",
       "count  36.000000  36.000000  36.000000  36.000000  36.000000\n",
       "mean   24.027778  21.833333   2.805556   0.177134   1.159293\n",
       "std    18.147784  17.693421   2.400231   0.115923   0.300279\n",
       "min     3.000000   3.000000   1.000000   0.011111   0.548387\n",
       "25%    10.000000   9.000000   1.000000   0.076389   1.000000\n",
       "50%    20.000000  20.000000   2.000000   0.173950   1.051151\n",
       "75%    33.500000  31.000000   3.000000   0.261730   1.229167\n",
       "max    90.000000  90.000000   9.000000   0.400000   2.000000"
      ]
     },
     "execution_count": 29,
     "metadata": {},
     "output_type": "execute_result"
    }
   ],
   "source": [
    "metrics[metrics.vratio < 0.5][metrics.vdeg < 10].describe()"
   ]
  },
  {
   "cell_type": "code",
   "execution_count": 30,
   "metadata": {
    "collapsed": false
   },
   "outputs": [
    {
     "data": {
      "text/html": [
       "<div>\n",
       "<table border=\"1\" class=\"dataframe\">\n",
       "  <thead>\n",
       "    <tr style=\"text-align: right;\">\n",
       "      <th></th>\n",
       "      <th>edeg</th>\n",
       "      <th>sz</th>\n",
       "      <th>vdeg</th>\n",
       "      <th>vratio</th>\n",
       "      <th>eratio</th>\n",
       "    </tr>\n",
       "  </thead>\n",
       "  <tbody>\n",
       "    <tr>\n",
       "      <th>count</th>\n",
       "      <td>7.000000</td>\n",
       "      <td>7.000000</td>\n",
       "      <td>7.000000</td>\n",
       "      <td>7.000000</td>\n",
       "      <td>7.000000</td>\n",
       "    </tr>\n",
       "    <tr>\n",
       "      <th>mean</th>\n",
       "      <td>104.142857</td>\n",
       "      <td>126.285714</td>\n",
       "      <td>35.571429</td>\n",
       "      <td>0.277959</td>\n",
       "      <td>0.812219</td>\n",
       "    </tr>\n",
       "    <tr>\n",
       "      <th>std</th>\n",
       "      <td>61.371624</td>\n",
       "      <td>75.267776</td>\n",
       "      <td>28.849362</td>\n",
       "      <td>0.117165</td>\n",
       "      <td>0.133454</td>\n",
       "    </tr>\n",
       "    <tr>\n",
       "      <th>min</th>\n",
       "      <td>17.000000</td>\n",
       "      <td>31.000000</td>\n",
       "      <td>8.000000</td>\n",
       "      <td>0.120773</td>\n",
       "      <td>0.548387</td>\n",
       "    </tr>\n",
       "    <tr>\n",
       "      <th>25%</th>\n",
       "      <td>65.500000</td>\n",
       "      <td>71.000000</td>\n",
       "      <td>16.000000</td>\n",
       "      <td>0.217268</td>\n",
       "      <td>0.783922</td>\n",
       "    </tr>\n",
       "    <tr>\n",
       "      <th>50%</th>\n",
       "      <td>88.000000</td>\n",
       "      <td>101.000000</td>\n",
       "      <td>25.000000</td>\n",
       "      <td>0.259259</td>\n",
       "      <td>0.850242</td>\n",
       "    </tr>\n",
       "    <tr>\n",
       "      <th>75%</th>\n",
       "      <td>158.000000</td>\n",
       "      <td>198.000000</td>\n",
       "      <td>46.500000</td>\n",
       "      <td>0.347752</td>\n",
       "      <td>0.881590</td>\n",
       "    </tr>\n",
       "    <tr>\n",
       "      <th>max</th>\n",
       "      <td>177.000000</td>\n",
       "      <td>214.000000</td>\n",
       "      <td>91.000000</td>\n",
       "      <td>0.435644</td>\n",
       "      <td>0.955882</td>\n",
       "    </tr>\n",
       "  </tbody>\n",
       "</table>\n",
       "</div>"
      ],
      "text/plain": [
       "             edeg          sz       vdeg    vratio    eratio\n",
       "count    7.000000    7.000000   7.000000  7.000000  7.000000\n",
       "mean   104.142857  126.285714  35.571429  0.277959  0.812219\n",
       "std     61.371624   75.267776  28.849362  0.117165  0.133454\n",
       "min     17.000000   31.000000   8.000000  0.120773  0.548387\n",
       "25%     65.500000   71.000000  16.000000  0.217268  0.783922\n",
       "50%     88.000000  101.000000  25.000000  0.259259  0.850242\n",
       "75%    158.000000  198.000000  46.500000  0.347752  0.881590\n",
       "max    177.000000  214.000000  91.000000  0.435644  0.955882"
      ]
     },
     "execution_count": 30,
     "metadata": {},
     "output_type": "execute_result"
    }
   ],
   "source": [
    "metrics[metrics.eratio < 1].describe()"
   ]
  },
  {
   "cell_type": "code",
   "execution_count": 31,
   "metadata": {
    "collapsed": false
   },
   "outputs": [
    {
     "data": {
      "text/html": [
       "<div>\n",
       "<table border=\"1\" class=\"dataframe\">\n",
       "  <thead>\n",
       "    <tr style=\"text-align: right;\">\n",
       "      <th></th>\n",
       "      <th>edeg</th>\n",
       "      <th>sz</th>\n",
       "      <th>vdeg</th>\n",
       "      <th>vratio</th>\n",
       "      <th>eratio</th>\n",
       "      <th>ratio_cut</th>\n",
       "      <th>n_cut</th>\n",
       "    </tr>\n",
       "  </thead>\n",
       "  <tbody>\n",
       "    <tr>\n",
       "      <th>count</th>\n",
       "      <td>813.000000</td>\n",
       "      <td>813.000000</td>\n",
       "      <td>813.000000</td>\n",
       "      <td>813.000000</td>\n",
       "      <td>813.000000</td>\n",
       "      <td>813.000000</td>\n",
       "      <td>813.000000</td>\n",
       "    </tr>\n",
       "    <tr>\n",
       "      <th>mean</th>\n",
       "      <td>1454.103321</td>\n",
       "      <td>100.007380</td>\n",
       "      <td>427.806888</td>\n",
       "      <td>8.449642</td>\n",
       "      <td>12.961859</td>\n",
       "      <td>12.961859</td>\n",
       "      <td>0.806338</td>\n",
       "    </tr>\n",
       "    <tr>\n",
       "      <th>std</th>\n",
       "      <td>5700.719182</td>\n",
       "      <td>272.565335</td>\n",
       "      <td>1259.978184</td>\n",
       "      <td>13.994278</td>\n",
       "      <td>16.056136</td>\n",
       "      <td>16.056136</td>\n",
       "      <td>0.262884</td>\n",
       "    </tr>\n",
       "    <tr>\n",
       "      <th>min</th>\n",
       "      <td>2.000000</td>\n",
       "      <td>1.000000</td>\n",
       "      <td>1.000000</td>\n",
       "      <td>0.011111</td>\n",
       "      <td>0.548387</td>\n",
       "      <td>0.548387</td>\n",
       "      <td>0.011918</td>\n",
       "    </tr>\n",
       "    <tr>\n",
       "      <th>25%</th>\n",
       "      <td>15.000000</td>\n",
       "      <td>2.000000</td>\n",
       "      <td>9.000000</td>\n",
       "      <td>2.083333</td>\n",
       "      <td>3.800000</td>\n",
       "      <td>3.800000</td>\n",
       "      <td>0.703704</td>\n",
       "    </tr>\n",
       "    <tr>\n",
       "      <th>50%</th>\n",
       "      <td>76.000000</td>\n",
       "      <td>8.000000</td>\n",
       "      <td>41.000000</td>\n",
       "      <td>4.927485</td>\n",
       "      <td>8.000000</td>\n",
       "      <td>8.000000</td>\n",
       "      <td>0.931034</td>\n",
       "    </tr>\n",
       "    <tr>\n",
       "      <th>75%</th>\n",
       "      <td>438.000000</td>\n",
       "      <td>59.000000</td>\n",
       "      <td>199.000000</td>\n",
       "      <td>9.301887</td>\n",
       "      <td>16.387097</td>\n",
       "      <td>16.387097</td>\n",
       "      <td>1.000000</td>\n",
       "    </tr>\n",
       "    <tr>\n",
       "      <th>max</th>\n",
       "      <td>77799.000000</td>\n",
       "      <td>2396.000000</td>\n",
       "      <td>11270.000000</td>\n",
       "      <td>219.000000</td>\n",
       "      <td>219.500000</td>\n",
       "      <td>219.500000</td>\n",
       "      <td>1.000000</td>\n",
       "    </tr>\n",
       "  </tbody>\n",
       "</table>\n",
       "</div>"
      ],
      "text/plain": [
       "               edeg           sz          vdeg      vratio      eratio  \\\n",
       "count    813.000000   813.000000    813.000000  813.000000  813.000000   \n",
       "mean    1454.103321   100.007380    427.806888    8.449642   12.961859   \n",
       "std     5700.719182   272.565335   1259.978184   13.994278   16.056136   \n",
       "min        2.000000     1.000000      1.000000    0.011111    0.548387   \n",
       "25%       15.000000     2.000000      9.000000    2.083333    3.800000   \n",
       "50%       76.000000     8.000000     41.000000    4.927485    8.000000   \n",
       "75%      438.000000    59.000000    199.000000    9.301887   16.387097   \n",
       "max    77799.000000  2396.000000  11270.000000  219.000000  219.500000   \n",
       "\n",
       "        ratio_cut       n_cut  \n",
       "count  813.000000  813.000000  \n",
       "mean    12.961859    0.806338  \n",
       "std     16.056136    0.262884  \n",
       "min      0.548387    0.011918  \n",
       "25%      3.800000    0.703704  \n",
       "50%      8.000000    0.931034  \n",
       "75%     16.387097    1.000000  \n",
       "max    219.500000    1.000000  "
      ]
     },
     "execution_count": 31,
     "metadata": {},
     "output_type": "execute_result"
    }
   ],
   "source": [
    "from imp import reload\n",
    "import gmet\n",
    "reload(gmet)\n",
    "\n",
    "metrics[\"ratio_cut\"] = gmet.ratio_cut_list(facebook2, clusters)\n",
    "metrics[\"n_cut\"] = gmet.n_cut_list(facebook2, clusters)\n",
    "\n",
    "metrics.describe()"
   ]
  },
  {
   "cell_type": "markdown",
   "metadata": {},
   "source": [
    "Même avec une centaine de vertex par sous-graphe en moyenne, on a la moitié des sous-graphes à moins de 8 composantes => OK pour diminuer le nombre de clusters!"
   ]
  },
  {
   "cell_type": "code",
   "execution_count": 32,
   "metadata": {
    "collapsed": false
   },
   "outputs": [
    {
     "data": {
      "text/html": [
       "<div>\n",
       "<table border=\"1\" class=\"dataframe\">\n",
       "  <thead>\n",
       "    <tr style=\"text-align: right;\">\n",
       "      <th></th>\n",
       "      <th>edeg</th>\n",
       "      <th>sz</th>\n",
       "      <th>vdeg</th>\n",
       "      <th>vratio</th>\n",
       "      <th>eratio</th>\n",
       "      <th>ratio_cut</th>\n",
       "      <th>n_cut</th>\n",
       "    </tr>\n",
       "  </thead>\n",
       "  <tbody>\n",
       "    <tr>\n",
       "      <th>count</th>\n",
       "      <td>520.000000</td>\n",
       "      <td>520.000000</td>\n",
       "      <td>520.000000</td>\n",
       "      <td>520.000000</td>\n",
       "      <td>520.000000</td>\n",
       "      <td>520.000000</td>\n",
       "      <td>520.000000</td>\n",
       "    </tr>\n",
       "    <tr>\n",
       "      <th>mean</th>\n",
       "      <td>2260.663462</td>\n",
       "      <td>155.453846</td>\n",
       "      <td>657.626923</td>\n",
       "      <td>6.159088</td>\n",
       "      <td>12.600304</td>\n",
       "      <td>12.600304</td>\n",
       "      <td>0.706290</td>\n",
       "    </tr>\n",
       "    <tr>\n",
       "      <th>std</th>\n",
       "      <td>7002.530345</td>\n",
       "      <td>328.155354</td>\n",
       "      <td>1528.436984</td>\n",
       "      <td>7.644997</td>\n",
       "      <td>12.085287</td>\n",
       "      <td>12.085287</td>\n",
       "      <td>0.281022</td>\n",
       "    </tr>\n",
       "    <tr>\n",
       "      <th>min</th>\n",
       "      <td>5.000000</td>\n",
       "      <td>4.000000</td>\n",
       "      <td>1.000000</td>\n",
       "      <td>0.011111</td>\n",
       "      <td>0.548387</td>\n",
       "      <td>0.548387</td>\n",
       "      <td>0.011918</td>\n",
       "    </tr>\n",
       "    <tr>\n",
       "      <th>25%</th>\n",
       "      <td>76.750000</td>\n",
       "      <td>9.000000</td>\n",
       "      <td>35.750000</td>\n",
       "      <td>1.500000</td>\n",
       "      <td>3.669638</td>\n",
       "      <td>3.669638</td>\n",
       "      <td>0.528596</td>\n",
       "    </tr>\n",
       "    <tr>\n",
       "      <th>50%</th>\n",
       "      <td>229.500000</td>\n",
       "      <td>31.000000</td>\n",
       "      <td>111.000000</td>\n",
       "      <td>4.049404</td>\n",
       "      <td>9.060876</td>\n",
       "      <td>9.060876</td>\n",
       "      <td>0.805084</td>\n",
       "    </tr>\n",
       "    <tr>\n",
       "      <th>75%</th>\n",
       "      <td>1121.250000</td>\n",
       "      <td>149.000000</td>\n",
       "      <td>459.250000</td>\n",
       "      <td>7.696635</td>\n",
       "      <td>17.903153</td>\n",
       "      <td>17.903153</td>\n",
       "      <td>0.939569</td>\n",
       "    </tr>\n",
       "    <tr>\n",
       "      <th>max</th>\n",
       "      <td>77799.000000</td>\n",
       "      <td>2396.000000</td>\n",
       "      <td>11270.000000</td>\n",
       "      <td>65.789474</td>\n",
       "      <td>87.000000</td>\n",
       "      <td>87.000000</td>\n",
       "      <td>1.000000</td>\n",
       "    </tr>\n",
       "  </tbody>\n",
       "</table>\n",
       "</div>"
      ],
      "text/plain": [
       "               edeg           sz          vdeg      vratio      eratio  \\\n",
       "count    520.000000   520.000000    520.000000  520.000000  520.000000   \n",
       "mean    2260.663462   155.453846    657.626923    6.159088   12.600304   \n",
       "std     7002.530345   328.155354   1528.436984    7.644997   12.085287   \n",
       "min        5.000000     4.000000      1.000000    0.011111    0.548387   \n",
       "25%       76.750000     9.000000     35.750000    1.500000    3.669638   \n",
       "50%      229.500000    31.000000    111.000000    4.049404    9.060876   \n",
       "75%     1121.250000   149.000000    459.250000    7.696635   17.903153   \n",
       "max    77799.000000  2396.000000  11270.000000   65.789474   87.000000   \n",
       "\n",
       "        ratio_cut       n_cut  \n",
       "count  520.000000  520.000000  \n",
       "mean    12.600304    0.706290  \n",
       "std     12.085287    0.281022  \n",
       "min      0.548387    0.011918  \n",
       "25%      3.669638    0.528596  \n",
       "50%      9.060876    0.805084  \n",
       "75%     17.903153    0.939569  \n",
       "max     87.000000    1.000000  "
      ]
     },
     "execution_count": 32,
     "metadata": {},
     "output_type": "execute_result"
    }
   ],
   "source": [
    "metrics[metrics.sz >= 4].describe()"
   ]
  },
  {
   "cell_type": "code",
   "execution_count": 33,
   "metadata": {
    "collapsed": false
   },
   "outputs": [
    {
     "data": {
      "text/html": [
       "<div>\n",
       "<table border=\"1\" class=\"dataframe\">\n",
       "  <thead>\n",
       "    <tr style=\"text-align: right;\">\n",
       "      <th></th>\n",
       "      <th>edeg</th>\n",
       "      <th>sz</th>\n",
       "      <th>vdeg</th>\n",
       "      <th>vratio</th>\n",
       "      <th>eratio</th>\n",
       "      <th>ratio_cut</th>\n",
       "      <th>n_cut</th>\n",
       "    </tr>\n",
       "  </thead>\n",
       "  <tbody>\n",
       "    <tr>\n",
       "      <th>1</th>\n",
       "      <td>90.0</td>\n",
       "      <td>90</td>\n",
       "      <td>1</td>\n",
       "      <td>0.011111</td>\n",
       "      <td>1.000000</td>\n",
       "      <td>1.000000</td>\n",
       "      <td>0.153061</td>\n",
       "    </tr>\n",
       "    <tr>\n",
       "      <th>62</th>\n",
       "      <td>174.0</td>\n",
       "      <td>174</td>\n",
       "      <td>28</td>\n",
       "      <td>0.160920</td>\n",
       "      <td>1.000000</td>\n",
       "      <td>1.000000</td>\n",
       "      <td>0.046574</td>\n",
       "    </tr>\n",
       "    <tr>\n",
       "      <th>143</th>\n",
       "      <td>140.0</td>\n",
       "      <td>189</td>\n",
       "      <td>49</td>\n",
       "      <td>0.259259</td>\n",
       "      <td>0.740741</td>\n",
       "      <td>0.740741</td>\n",
       "      <td>0.022343</td>\n",
       "    </tr>\n",
       "    <tr>\n",
       "      <th>169</th>\n",
       "      <td>88.0</td>\n",
       "      <td>101</td>\n",
       "      <td>44</td>\n",
       "      <td>0.435644</td>\n",
       "      <td>0.871287</td>\n",
       "      <td>0.871287</td>\n",
       "      <td>0.041865</td>\n",
       "    </tr>\n",
       "    <tr>\n",
       "      <th>210</th>\n",
       "      <td>176.0</td>\n",
       "      <td>207</td>\n",
       "      <td>25</td>\n",
       "      <td>0.120773</td>\n",
       "      <td>0.850242</td>\n",
       "      <td>0.850242</td>\n",
       "      <td>0.033145</td>\n",
       "    </tr>\n",
       "    <tr>\n",
       "      <th>268</th>\n",
       "      <td>269.0</td>\n",
       "      <td>198</td>\n",
       "      <td>113</td>\n",
       "      <td>0.570707</td>\n",
       "      <td>1.358586</td>\n",
       "      <td>1.358586</td>\n",
       "      <td>0.030495</td>\n",
       "    </tr>\n",
       "    <tr>\n",
       "      <th>281</th>\n",
       "      <td>303.0</td>\n",
       "      <td>200</td>\n",
       "      <td>103</td>\n",
       "      <td>0.515000</td>\n",
       "      <td>1.515000</td>\n",
       "      <td>1.515000</td>\n",
       "      <td>0.075429</td>\n",
       "    </tr>\n",
       "    <tr>\n",
       "      <th>292</th>\n",
       "      <td>66.0</td>\n",
       "      <td>74</td>\n",
       "      <td>20</td>\n",
       "      <td>0.270270</td>\n",
       "      <td>0.891892</td>\n",
       "      <td>0.891892</td>\n",
       "      <td>0.052885</td>\n",
       "    </tr>\n",
       "    <tr>\n",
       "      <th>296</th>\n",
       "      <td>17.0</td>\n",
       "      <td>31</td>\n",
       "      <td>8</td>\n",
       "      <td>0.258065</td>\n",
       "      <td>0.548387</td>\n",
       "      <td>0.548387</td>\n",
       "      <td>0.068273</td>\n",
       "    </tr>\n",
       "    <tr>\n",
       "      <th>311</th>\n",
       "      <td>177.0</td>\n",
       "      <td>214</td>\n",
       "      <td>91</td>\n",
       "      <td>0.425234</td>\n",
       "      <td>0.827103</td>\n",
       "      <td>0.827103</td>\n",
       "      <td>0.036745</td>\n",
       "    </tr>\n",
       "    <tr>\n",
       "      <th>365</th>\n",
       "      <td>165.0</td>\n",
       "      <td>115</td>\n",
       "      <td>53</td>\n",
       "      <td>0.460870</td>\n",
       "      <td>1.434783</td>\n",
       "      <td>1.434783</td>\n",
       "      <td>0.193435</td>\n",
       "    </tr>\n",
       "    <tr>\n",
       "      <th>373</th>\n",
       "      <td>177.0</td>\n",
       "      <td>124</td>\n",
       "      <td>25</td>\n",
       "      <td>0.201613</td>\n",
       "      <td>1.427419</td>\n",
       "      <td>1.427419</td>\n",
       "      <td>0.091757</td>\n",
       "    </tr>\n",
       "    <tr>\n",
       "      <th>475</th>\n",
       "      <td>65.0</td>\n",
       "      <td>68</td>\n",
       "      <td>12</td>\n",
       "      <td>0.176471</td>\n",
       "      <td>0.955882</td>\n",
       "      <td>0.955882</td>\n",
       "      <td>0.082592</td>\n",
       "    </tr>\n",
       "    <tr>\n",
       "      <th>485</th>\n",
       "      <td>293.0</td>\n",
       "      <td>214</td>\n",
       "      <td>45</td>\n",
       "      <td>0.210280</td>\n",
       "      <td>1.369159</td>\n",
       "      <td>1.369159</td>\n",
       "      <td>0.011918</td>\n",
       "    </tr>\n",
       "    <tr>\n",
       "      <th>569</th>\n",
       "      <td>26.0</td>\n",
       "      <td>20</td>\n",
       "      <td>5</td>\n",
       "      <td>0.250000</td>\n",
       "      <td>1.300000</td>\n",
       "      <td>1.300000</td>\n",
       "      <td>0.168831</td>\n",
       "    </tr>\n",
       "    <tr>\n",
       "      <th>633</th>\n",
       "      <td>327.0</td>\n",
       "      <td>171</td>\n",
       "      <td>94</td>\n",
       "      <td>0.549708</td>\n",
       "      <td>1.912281</td>\n",
       "      <td>1.912281</td>\n",
       "      <td>0.064256</td>\n",
       "    </tr>\n",
       "    <tr>\n",
       "      <th>672</th>\n",
       "      <td>180.0</td>\n",
       "      <td>145</td>\n",
       "      <td>81</td>\n",
       "      <td>0.558621</td>\n",
       "      <td>1.241379</td>\n",
       "      <td>1.241379</td>\n",
       "      <td>0.037484</td>\n",
       "    </tr>\n",
       "  </tbody>\n",
       "</table>\n",
       "</div>"
      ],
      "text/plain": [
       "      edeg   sz  vdeg    vratio    eratio  ratio_cut     n_cut\n",
       "1     90.0   90     1  0.011111  1.000000   1.000000  0.153061\n",
       "62   174.0  174    28  0.160920  1.000000   1.000000  0.046574\n",
       "143  140.0  189    49  0.259259  0.740741   0.740741  0.022343\n",
       "169   88.0  101    44  0.435644  0.871287   0.871287  0.041865\n",
       "210  176.0  207    25  0.120773  0.850242   0.850242  0.033145\n",
       "268  269.0  198   113  0.570707  1.358586   1.358586  0.030495\n",
       "281  303.0  200   103  0.515000  1.515000   1.515000  0.075429\n",
       "292   66.0   74    20  0.270270  0.891892   0.891892  0.052885\n",
       "296   17.0   31     8  0.258065  0.548387   0.548387  0.068273\n",
       "311  177.0  214    91  0.425234  0.827103   0.827103  0.036745\n",
       "365  165.0  115    53  0.460870  1.434783   1.434783  0.193435\n",
       "373  177.0  124    25  0.201613  1.427419   1.427419  0.091757\n",
       "475   65.0   68    12  0.176471  0.955882   0.955882  0.082592\n",
       "485  293.0  214    45  0.210280  1.369159   1.369159  0.011918\n",
       "569   26.0   20     5  0.250000  1.300000   1.300000  0.168831\n",
       "633  327.0  171    94  0.549708  1.912281   1.912281  0.064256\n",
       "672  180.0  145    81  0.558621  1.241379   1.241379  0.037484"
      ]
     },
     "execution_count": 33,
     "metadata": {},
     "output_type": "execute_result"
    }
   ],
   "source": [
    "metrics[(metrics.sz >=4) & (metrics.n_cut < 0.2) & (metrics.ratio_cut < 2)]"
   ]
  },
  {
   "cell_type": "code",
   "execution_count": 34,
   "metadata": {
    "collapsed": false
   },
   "outputs": [
    {
     "data": {
      "text/html": [
       "<div>\n",
       "<table border=\"1\" class=\"dataframe\">\n",
       "  <thead>\n",
       "    <tr style=\"text-align: right;\">\n",
       "      <th></th>\n",
       "      <th>edeg</th>\n",
       "      <th>sz</th>\n",
       "      <th>vdeg</th>\n",
       "      <th>vratio</th>\n",
       "      <th>eratio</th>\n",
       "      <th>ratio_cut</th>\n",
       "      <th>n_cut</th>\n",
       "    </tr>\n",
       "  </thead>\n",
       "  <tbody>\n",
       "    <tr>\n",
       "      <th>1</th>\n",
       "      <td>90.0</td>\n",
       "      <td>90</td>\n",
       "      <td>1</td>\n",
       "      <td>0.011111</td>\n",
       "      <td>1.000000</td>\n",
       "      <td>1.000000</td>\n",
       "      <td>0.153061</td>\n",
       "    </tr>\n",
       "    <tr>\n",
       "      <th>7</th>\n",
       "      <td>33.0</td>\n",
       "      <td>33</td>\n",
       "      <td>1</td>\n",
       "      <td>0.030303</td>\n",
       "      <td>1.000000</td>\n",
       "      <td>1.000000</td>\n",
       "      <td>0.272727</td>\n",
       "    </tr>\n",
       "    <tr>\n",
       "      <th>16</th>\n",
       "      <td>57.0</td>\n",
       "      <td>57</td>\n",
       "      <td>1</td>\n",
       "      <td>0.017544</td>\n",
       "      <td>1.000000</td>\n",
       "      <td>1.000000</td>\n",
       "      <td>0.826087</td>\n",
       "    </tr>\n",
       "    <tr>\n",
       "      <th>28</th>\n",
       "      <td>27.0</td>\n",
       "      <td>27</td>\n",
       "      <td>1</td>\n",
       "      <td>0.037037</td>\n",
       "      <td>1.000000</td>\n",
       "      <td>1.000000</td>\n",
       "      <td>0.675000</td>\n",
       "    </tr>\n",
       "    <tr>\n",
       "      <th>42</th>\n",
       "      <td>20.0</td>\n",
       "      <td>20</td>\n",
       "      <td>1</td>\n",
       "      <td>0.050000</td>\n",
       "      <td>1.000000</td>\n",
       "      <td>1.000000</td>\n",
       "      <td>0.666667</td>\n",
       "    </tr>\n",
       "    <tr>\n",
       "      <th>50</th>\n",
       "      <td>8.0</td>\n",
       "      <td>8</td>\n",
       "      <td>1</td>\n",
       "      <td>0.125000</td>\n",
       "      <td>1.000000</td>\n",
       "      <td>1.000000</td>\n",
       "      <td>1.000000</td>\n",
       "    </tr>\n",
       "    <tr>\n",
       "      <th>58</th>\n",
       "      <td>19.0</td>\n",
       "      <td>19</td>\n",
       "      <td>1</td>\n",
       "      <td>0.052632</td>\n",
       "      <td>1.000000</td>\n",
       "      <td>1.000000</td>\n",
       "      <td>0.422222</td>\n",
       "    </tr>\n",
       "    <tr>\n",
       "      <th>94</th>\n",
       "      <td>20.0</td>\n",
       "      <td>20</td>\n",
       "      <td>1</td>\n",
       "      <td>0.050000</td>\n",
       "      <td>1.000000</td>\n",
       "      <td>1.000000</td>\n",
       "      <td>0.909091</td>\n",
       "    </tr>\n",
       "    <tr>\n",
       "      <th>210</th>\n",
       "      <td>176.0</td>\n",
       "      <td>207</td>\n",
       "      <td>25</td>\n",
       "      <td>0.120773</td>\n",
       "      <td>0.850242</td>\n",
       "      <td>0.850242</td>\n",
       "      <td>0.033145</td>\n",
       "    </tr>\n",
       "    <tr>\n",
       "      <th>273</th>\n",
       "      <td>9.0</td>\n",
       "      <td>9</td>\n",
       "      <td>1</td>\n",
       "      <td>0.111111</td>\n",
       "      <td>1.000000</td>\n",
       "      <td>1.000000</td>\n",
       "      <td>1.000000</td>\n",
       "    </tr>\n",
       "    <tr>\n",
       "      <th>378</th>\n",
       "      <td>36.0</td>\n",
       "      <td>34</td>\n",
       "      <td>3</td>\n",
       "      <td>0.088235</td>\n",
       "      <td>1.058824</td>\n",
       "      <td>1.058824</td>\n",
       "      <td>0.818182</td>\n",
       "    </tr>\n",
       "    <tr>\n",
       "      <th>408</th>\n",
       "      <td>24.0</td>\n",
       "      <td>23</td>\n",
       "      <td>2</td>\n",
       "      <td>0.086957</td>\n",
       "      <td>1.043478</td>\n",
       "      <td>1.043478</td>\n",
       "      <td>0.666667</td>\n",
       "    </tr>\n",
       "    <tr>\n",
       "      <th>532</th>\n",
       "      <td>21.0</td>\n",
       "      <td>21</td>\n",
       "      <td>1</td>\n",
       "      <td>0.047619</td>\n",
       "      <td>1.000000</td>\n",
       "      <td>1.000000</td>\n",
       "      <td>1.000000</td>\n",
       "    </tr>\n",
       "    <tr>\n",
       "      <th>550</th>\n",
       "      <td>54.0</td>\n",
       "      <td>51</td>\n",
       "      <td>5</td>\n",
       "      <td>0.098039</td>\n",
       "      <td>1.058824</td>\n",
       "      <td>1.058824</td>\n",
       "      <td>0.931034</td>\n",
       "    </tr>\n",
       "    <tr>\n",
       "      <th>634</th>\n",
       "      <td>10.0</td>\n",
       "      <td>10</td>\n",
       "      <td>1</td>\n",
       "      <td>0.100000</td>\n",
       "      <td>1.000000</td>\n",
       "      <td>1.000000</td>\n",
       "      <td>1.000000</td>\n",
       "    </tr>\n",
       "    <tr>\n",
       "      <th>648</th>\n",
       "      <td>30.0</td>\n",
       "      <td>24</td>\n",
       "      <td>2</td>\n",
       "      <td>0.083333</td>\n",
       "      <td>1.250000</td>\n",
       "      <td>1.250000</td>\n",
       "      <td>0.468750</td>\n",
       "    </tr>\n",
       "    <tr>\n",
       "      <th>719</th>\n",
       "      <td>36.0</td>\n",
       "      <td>36</td>\n",
       "      <td>2</td>\n",
       "      <td>0.055556</td>\n",
       "      <td>1.000000</td>\n",
       "      <td>1.000000</td>\n",
       "      <td>1.000000</td>\n",
       "    </tr>\n",
       "  </tbody>\n",
       "</table>\n",
       "</div>"
      ],
      "text/plain": [
       "      edeg   sz  vdeg    vratio    eratio  ratio_cut     n_cut\n",
       "1     90.0   90     1  0.011111  1.000000   1.000000  0.153061\n",
       "7     33.0   33     1  0.030303  1.000000   1.000000  0.272727\n",
       "16    57.0   57     1  0.017544  1.000000   1.000000  0.826087\n",
       "28    27.0   27     1  0.037037  1.000000   1.000000  0.675000\n",
       "42    20.0   20     1  0.050000  1.000000   1.000000  0.666667\n",
       "50     8.0    8     1  0.125000  1.000000   1.000000  1.000000\n",
       "58    19.0   19     1  0.052632  1.000000   1.000000  0.422222\n",
       "94    20.0   20     1  0.050000  1.000000   1.000000  0.909091\n",
       "210  176.0  207    25  0.120773  0.850242   0.850242  0.033145\n",
       "273    9.0    9     1  0.111111  1.000000   1.000000  1.000000\n",
       "378   36.0   34     3  0.088235  1.058824   1.058824  0.818182\n",
       "408   24.0   23     2  0.086957  1.043478   1.043478  0.666667\n",
       "532   21.0   21     1  0.047619  1.000000   1.000000  1.000000\n",
       "550   54.0   51     5  0.098039  1.058824   1.058824  0.931034\n",
       "634   10.0   10     1  0.100000  1.000000   1.000000  1.000000\n",
       "648   30.0   24     2  0.083333  1.250000   1.250000  0.468750\n",
       "719   36.0   36     2  0.055556  1.000000   1.000000  1.000000"
      ]
     },
     "execution_count": 34,
     "metadata": {},
     "output_type": "execute_result"
    }
   ],
   "source": [
    "metrics[(metrics.sz >= 4) & (metrics.vratio < 0.15)]"
   ]
  },
  {
   "cell_type": "code",
   "execution_count": 35,
   "metadata": {
    "collapsed": false
   },
   "outputs": [
    {
     "name": "stdout",
     "output_type": "stream",
     "text": [
      "10537.991562449628 655.5525603385285\n"
     ]
    }
   ],
   "source": [
    "print(metrics.ratio_cut.sum(), metrics.n_cut.sum())"
   ]
  },
  {
   "cell_type": "code",
   "execution_count": null,
   "metadata": {
    "collapsed": true
   },
   "outputs": [],
   "source": []
  }
 ],
 "metadata": {
  "kernelspec": {
   "display_name": "Python 3",
   "language": "python",
   "name": "python3"
  },
  "language_info": {
   "codemirror_mode": {
    "name": "ipython",
    "version": 3
   },
   "file_extension": ".py",
   "mimetype": "text/x-python",
   "name": "python",
   "nbconvert_exporter": "python",
   "pygments_lexer": "ipython3",
   "version": "3.5.1"
  }
 },
 "nbformat": 4,
 "nbformat_minor": 0
}
